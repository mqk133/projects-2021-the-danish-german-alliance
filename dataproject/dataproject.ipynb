{
 "cells": [
  {
   "cell_type": "markdown",
   "metadata": {},
   "source": [
    "# The Preston Curve within the EU"
   ]
  },
  {
   "cell_type": "markdown",
   "metadata": {},
   "source": [
    "Imports and set magics:"
   ]
  },
  {
   "cell_type": "code",
   "execution_count": 1,
   "metadata": {},
   "outputs": [],
   "source": [
    "from __future__ import print_function\n",
    "from ipywidgets import interact, interactive, fixed, interact_manual\n",
    "import numpy as np\n",
    "import datetime\n",
    "import pandas_datareader # install with `pip install pandas-datareader`\n",
    "import pandas_datareader.data as web\n",
    "import pydst # install with `pip install git+https://github.com/elben10/pydst`\n",
    "\n",
    "import matplotlib.pyplot as plt\n",
    "plt.style.use('seaborn-whitegrid')\n",
    "from matplotlib_venn import venn2 # `pip install matplotlib-venn`\n",
    "\n",
    "import pandas as pd\n",
    "import matplotlib.pyplot as plt\n",
    "import ipywidgets as widgets\n",
    "\n",
    "import seaborn as sns\n",
    "import statsmodels.api as sm\n",
    "import statsmodels.formula.api as smf\n",
    "\n",
    "# autoreload modules when code is run\n",
    "%load_ext autoreload\n",
    "%autoreload 2\n",
    "\n",
    "# local modules\n",
    "import regions\n"
   ]
  },
  {
   "cell_type": "markdown",
   "metadata": {},
   "source": [
    "# Read and clean data"
   ]
  },
  {
   "cell_type": "markdown",
   "metadata": {},
   "source": [
    "## Life expectancy data"
   ]
  },
  {
   "cell_type": "markdown",
   "metadata": {},
   "source": [
    "**Read the life expectancy data from the Eurostat API and clean it**"
   ]
  },
  {
   "cell_type": "code",
   "execution_count": 2,
   "metadata": {},
   "outputs": [
    {
     "output_type": "stream",
     "name": "stdout",
     "text": [
      "['value', 'flag']\n",
      "['unit', 'sex', 'age', 'geo', 'time']\n",
      "[None]\n",
      "['unit', 'sex', 'age', 'geo', 'time', 'value', 'flag']\n"
     ]
    }
   ],
   "source": [
    "# a. install Eurostat API\n",
    "#pip install eust\n",
    "\n",
    "# b. load\n",
    "import eust\n",
    "eust.download_table('demo_r_mlifexp') # downloads data on life expectancy for EU countries and their within country regions\n",
    "my_tables = eust.list_tables()  # returns a list\n",
    "assert 'demo_r_mlifexp' in my_tables\n",
    "life = eust.read_table_data('demo_r_mlifexp') # read the dataset\n",
    "life.tail(100) #distplays the tail of the dataset\n",
    "\n",
    "print(list(life.columns)) # prints columns\n",
    "print(list(life.index.names)) # prints the index\n",
    "\n",
    "# c. reset the index\n",
    "life.reset_index(level=life.index.names, inplace=True)\n",
    "print(list(life.index.names))\n",
    "print(list(life.columns))\n",
    "\n",
    "# d. Only keep regions on the smallest level of aggregation (4 digits in geo code)\n",
    "life = regions.only_keep_regions(life)\n"
   ]
  },
  {
   "cell_type": "code",
   "execution_count": 3,
   "metadata": {},
   "outputs": [
    {
     "output_type": "stream",
     "name": "stdout",
     "text": [
      "['YR']\n",
      "['F', 'M', 'T']\n",
      "['Y1', 'Y10', 'Y11', 'Y12', 'Y13', 'Y14', 'Y15', 'Y16', 'Y17', 'Y18', 'Y19', 'Y2', 'Y20', 'Y21', 'Y22', 'Y23', 'Y24', 'Y25', 'Y26', 'Y27', 'Y28', 'Y29', 'Y3', 'Y30', 'Y31', 'Y32', 'Y33', 'Y34', 'Y35', 'Y36', 'Y37', 'Y38', 'Y39', 'Y4', 'Y40', 'Y41', 'Y42', 'Y43', 'Y44', 'Y45', 'Y46', 'Y47', 'Y48', 'Y49', 'Y5', 'Y50', 'Y51', 'Y52', 'Y53', 'Y54', 'Y55', 'Y56', 'Y57', 'Y58', 'Y59', 'Y6', 'Y60', 'Y61', 'Y62', 'Y63', 'Y64', 'Y65', 'Y66', 'Y67', 'Y68', 'Y69', 'Y7', 'Y70', 'Y71', 'Y72', 'Y73', 'Y74', 'Y75', 'Y76', 'Y77', 'Y78', 'Y79', 'Y8', 'Y80', 'Y81', 'Y82', 'Y83', 'Y84', 'Y9', 'Y_GE85', 'Y_LT1']\n",
      "['AL01', 'AL02', 'AL03', 'AT11', 'AT12', 'AT13', 'AT21', 'AT22', 'AT31', 'AT32', 'AT33', 'AT34', 'BE10', 'BE21', 'BE22', 'BE23', 'BE24', 'BE25', 'BE31', 'BE32', 'BE33', 'BE34', 'BE35', 'BG31', 'BG32', 'BG33', 'BG34', 'BG41', 'BG42', 'CH01', 'CH02', 'CH03', 'CH04', 'CH05', 'CH06', 'CH07', 'CY00', 'CZ01', 'CZ02', 'CZ03', 'CZ04', 'CZ05', 'CZ06', 'CZ07', 'CZ08', 'DE11', 'DE12', 'DE13', 'DE14', 'DE21', 'DE22', 'DE23', 'DE24', 'DE25', 'DE26', 'DE27', 'DE30', 'DE40', 'DE50', 'DE60', 'DE71', 'DE72', 'DE73', 'DE80', 'DE91', 'DE92', 'DE93', 'DE94', 'DEA1', 'DEA2', 'DEA3', 'DEA4', 'DEA5', 'DEB1', 'DEB2', 'DEB3', 'DEC0', 'DED2', 'DED4', 'DED5', 'DEE0', 'DEF0', 'DEG0', 'DK01', 'DK02', 'DK03', 'DK04', 'DK05', 'EE00', 'EL30', 'EL41', 'EL42', 'EL43', 'EL51', 'EL52', 'EL53', 'EL54', 'EL61', 'EL62', 'EL63', 'EL64', 'EL65', 'ES11', 'ES12', 'ES13', 'ES21', 'ES22', 'ES23', 'ES24', 'ES30', 'ES41', 'ES42', 'ES43', 'ES51', 'ES52', 'ES53', 'ES61', 'ES62', 'ES63', 'ES64', 'ES70', 'FI19', 'FI1B', 'FI1C', 'FI1D', 'FI20', 'FR10', 'FRB0', 'FRC1', 'FRC2', 'FRD1', 'FRD2', 'FRE1', 'FRE2', 'FRF1', 'FRF2', 'FRF3', 'FRG0', 'FRH0', 'FRI1', 'FRI2', 'FRI3', 'FRJ1', 'FRJ2', 'FRK1', 'FRK2', 'FRL0', 'FRM0', 'FRY1', 'FRY2', 'FRY3', 'FRY4', 'FRY5', 'HR03', 'HR04', 'HU11', 'HU12', 'HU21', 'HU22', 'HU23', 'HU31', 'HU32', 'HU33', 'IE04', 'IE05', 'IE06', 'IS00', 'ITC1', 'ITC2', 'ITC3', 'ITC4', 'ITF1', 'ITF2', 'ITF3', 'ITF4', 'ITF5', 'ITF6', 'ITG1', 'ITG2', 'ITH1', 'ITH2', 'ITH3', 'ITH4', 'ITH5', 'ITI1', 'ITI2', 'ITI3', 'ITI4', 'LI00', 'LT01', 'LT02', 'LU00', 'LV00', 'ME00', 'MK00', 'MT00', 'NL11', 'NL12', 'NL13', 'NL21', 'NL22', 'NL23', 'NL31', 'NL32', 'NL33', 'NL34', 'NL41', 'NL42', 'NO01', 'NO02', 'NO03', 'NO04', 'NO05', 'NO06', 'NO07', 'PL21', 'PL22', 'PL41', 'PL42', 'PL43', 'PL51', 'PL52', 'PL61', 'PL62', 'PL63', 'PL71', 'PL72', 'PL81', 'PL82', 'PL84', 'PL91', 'PL92', 'PT11', 'PT15', 'PT16', 'PT17', 'PT18', 'PT20', 'PT30', 'RO11', 'RO12', 'RO21', 'RO22', 'RO31', 'RO32', 'RO41', 'RO42', 'RS11', 'RS12', 'RS21', 'RS22', 'SE11', 'SE12', 'SE21', 'SE22', 'SE23', 'SE31', 'SE32', 'SE33', 'SI03', 'SI04', 'SK01', 'SK02', 'SK03', 'SK04', 'TR10', 'TR21', 'TR22', 'TR31', 'TR32', 'TR33', 'TR41', 'TR42', 'TR51', 'TR52', 'TR61', 'TR62', 'TR63', 'TR71', 'TR72', 'TR81', 'TR82', 'TR83', 'TR90', 'TRA1', 'TRA2', 'TRB1', 'TRB2', 'TRC1', 'TRC2', 'TRC3', 'UKC1', 'UKC2', 'UKD1', 'UKD3', 'UKD4', 'UKD6', 'UKD7', 'UKE1', 'UKE2', 'UKE3', 'UKE4', 'UKF1', 'UKF2', 'UKF3', 'UKG1', 'UKG2', 'UKG3', 'UKH1', 'UKH2', 'UKH3', 'UKI3', 'UKI4', 'UKI5', 'UKI6', 'UKI7', 'UKJ1', 'UKJ2', 'UKJ3', 'UKJ4', 'UKK1', 'UKK2', 'UKK3', 'UKK4', 'UKL1', 'UKL2', 'UKM5', 'UKM6', 'UKM7', 'UKM8', 'UKM9', 'UKN0']\n",
      "30\n",
      "[None, 'b', 'e', 'r']\n"
     ]
    }
   ],
   "source": [
    "# Explore the columns\n",
    "\n",
    "unit_life = []\n",
    "\n",
    "for i in list(life['unit']):\n",
    "    if i not in unit_life:\n",
    "        unit_life.append(i)\n",
    "\n",
    "print(unit_life)\n",
    "\n",
    "\n",
    "sex_life = []\n",
    "\n",
    "for i in list(life['sex']):\n",
    "    if i not in sex_life:\n",
    "        sex_life.append(i)\n",
    "\n",
    "print(sex_life)\n",
    "\n",
    "age_life = []\n",
    "\n",
    "for i in list(life['age']):\n",
    "    if i not in age_life:\n",
    "        age_life.append(i)\n",
    "\n",
    "print(age_life)\n",
    "\n",
    "geo_life = []\n",
    "\n",
    "for i in list(life['geo']):\n",
    "    if i not in geo_life:\n",
    "        geo_life.append(i)\n",
    "\n",
    "print(geo_life)\n",
    "\n",
    "year_life = []\n",
    "\n",
    "for i in list(life['time']):\n",
    "    if i not in year_life:\n",
    "        year_life.append(i)\n",
    "\n",
    "print(len(year_life))\n",
    "\n",
    "flag_life = []\n",
    "\n",
    "for i in list(life['flag']):\n",
    "    if i not in flag_life:\n",
    "        flag_life.append(i)\n",
    "\n",
    "print(flag_life)\n"
   ]
  },
  {
   "cell_type": "markdown",
   "metadata": {},
   "source": [
    "**Only keep sex-aggregated records**"
   ]
  },
  {
   "cell_type": "code",
   "execution_count": 4,
   "metadata": {},
   "outputs": [],
   "source": [
    "life = life[life['sex'].apply(lambda x: str(x) == 'T')]"
   ]
  },
  {
   "cell_type": "markdown",
   "metadata": {},
   "source": [
    "**Drop columns 'unit', 'sex', and 'flag'**"
   ]
  },
  {
   "cell_type": "code",
   "execution_count": 5,
   "metadata": {},
   "outputs": [],
   "source": [
    "drop_these = ['unit', 'sex', 'flag']\n",
    "life.drop(drop_these, axis = 1, inplace = True)"
   ]
  },
  {
   "cell_type": "markdown",
   "metadata": {},
   "source": [
    "The dataset now looks like this:"
   ]
  },
  {
   "cell_type": "code",
   "execution_count": 6,
   "metadata": {},
   "outputs": [
    {
     "output_type": "execute_result",
     "data": {
      "text/plain": [
       "        age   geo  time  value\n",
       "2549100  Y1  AL01  1990    NaN\n",
       "2549101  Y1  AL01  1991    NaN\n",
       "2549102  Y1  AL01  1992    NaN\n",
       "2549103  Y1  AL01  1993    NaN\n",
       "2549104  Y1  AL01  1994    NaN"
      ],
      "text/html": "<div>\n<style scoped>\n    .dataframe tbody tr th:only-of-type {\n        vertical-align: middle;\n    }\n\n    .dataframe tbody tr th {\n        vertical-align: top;\n    }\n\n    .dataframe thead th {\n        text-align: right;\n    }\n</style>\n<table border=\"1\" class=\"dataframe\">\n  <thead>\n    <tr style=\"text-align: right;\">\n      <th></th>\n      <th>age</th>\n      <th>geo</th>\n      <th>time</th>\n      <th>value</th>\n    </tr>\n  </thead>\n  <tbody>\n    <tr>\n      <th>2549100</th>\n      <td>Y1</td>\n      <td>AL01</td>\n      <td>1990</td>\n      <td>NaN</td>\n    </tr>\n    <tr>\n      <th>2549101</th>\n      <td>Y1</td>\n      <td>AL01</td>\n      <td>1991</td>\n      <td>NaN</td>\n    </tr>\n    <tr>\n      <th>2549102</th>\n      <td>Y1</td>\n      <td>AL01</td>\n      <td>1992</td>\n      <td>NaN</td>\n    </tr>\n    <tr>\n      <th>2549103</th>\n      <td>Y1</td>\n      <td>AL01</td>\n      <td>1993</td>\n      <td>NaN</td>\n    </tr>\n    <tr>\n      <th>2549104</th>\n      <td>Y1</td>\n      <td>AL01</td>\n      <td>1994</td>\n      <td>NaN</td>\n    </tr>\n  </tbody>\n</table>\n</div>"
     },
     "metadata": {},
     "execution_count": 6
    }
   ],
   "source": [
    "life.head()"
   ]
  },
  {
   "cell_type": "markdown",
   "metadata": {},
   "source": [
    "**Create individual variables for each age, i.e.e life expectancy at age x**"
   ]
  },
  {
   "cell_type": "code",
   "execution_count": 7,
   "metadata": {},
   "outputs": [],
   "source": [
    "# a. start by crearing an index variable that we can keep later\n",
    "life['time_s'] = life.time.apply(str)\n",
    "life['index'] = life['geo'] + life['time_s']\n",
    "\n",
    "# b. pivot table such that we get x columns for life expectancy at age x, respectively\n",
    "life = life.pivot_table(index = ['geo', 'time', 'index'],\n",
    "                        columns = ['age'], values = 'value').fillna(0)\n",
    "\n",
    "# c. reset the index for geo and time\n",
    "life.reset_index(level = (0,1), inplace = True)"
   ]
  },
  {
   "cell_type": "markdown",
   "metadata": {},
   "source": [
    "The dataset now looks like this:"
   ]
  },
  {
   "cell_type": "code",
   "execution_count": 8,
   "metadata": {},
   "outputs": [
    {
     "output_type": "execute_result",
     "data": {
      "text/plain": [
       "age        geo  time    Y1   Y10   Y11   Y12   Y13   Y14   Y15   Y16  ...  \\\n",
       "index                                                                 ...   \n",
       "AL012019  AL01  2019  78.5  69.7  68.8  67.8  66.8  65.9  64.9  63.9  ...   \n",
       "AL022019  AL02  2019  81.5  72.6  71.6  70.6  69.6  68.6  67.6  66.6  ...   \n",
       "AL032019  AL03  2019  77.0  68.1  67.1  66.2  65.2  64.2  63.2  62.2  ...   \n",
       "AT111990  AT11  1990  75.0  66.1  65.1  64.1  63.1  62.1  61.2  60.2  ...   \n",
       "AT111991  AT11  1991  74.3  65.5  64.5  63.5  62.5  61.6  60.6  59.6  ...   \n",
       "\n",
       "age        Y79    Y8  Y80  Y81  Y82  Y83  Y84    Y9  Y_GE85  Y_LT1  \n",
       "index                                                               \n",
       "AL012019   7.9  71.7  7.4  6.8  6.2  5.7  5.2  70.7     4.8   78.7  \n",
       "AL022019  10.4  74.5  9.8  9.3  8.8  8.3  8.0  73.5     7.8   81.6  \n",
       "AL032019   5.6  70.1  4.9  4.3  3.6  3.0  2.3  69.1     1.6   77.4  \n",
       "AT111990   7.4  68.1  7.0  6.6  6.2  5.9  5.5  67.1     5.1   75.7  \n",
       "AT111991   7.5  67.5  7.0  6.6  6.2  5.9  5.5  66.5     5.3   74.8  \n",
       "\n",
       "[5 rows x 88 columns]"
      ],
      "text/html": "<div>\n<style scoped>\n    .dataframe tbody tr th:only-of-type {\n        vertical-align: middle;\n    }\n\n    .dataframe tbody tr th {\n        vertical-align: top;\n    }\n\n    .dataframe thead th {\n        text-align: right;\n    }\n</style>\n<table border=\"1\" class=\"dataframe\">\n  <thead>\n    <tr style=\"text-align: right;\">\n      <th>age</th>\n      <th>geo</th>\n      <th>time</th>\n      <th>Y1</th>\n      <th>Y10</th>\n      <th>Y11</th>\n      <th>Y12</th>\n      <th>Y13</th>\n      <th>Y14</th>\n      <th>Y15</th>\n      <th>Y16</th>\n      <th>...</th>\n      <th>Y79</th>\n      <th>Y8</th>\n      <th>Y80</th>\n      <th>Y81</th>\n      <th>Y82</th>\n      <th>Y83</th>\n      <th>Y84</th>\n      <th>Y9</th>\n      <th>Y_GE85</th>\n      <th>Y_LT1</th>\n    </tr>\n    <tr>\n      <th>index</th>\n      <th></th>\n      <th></th>\n      <th></th>\n      <th></th>\n      <th></th>\n      <th></th>\n      <th></th>\n      <th></th>\n      <th></th>\n      <th></th>\n      <th></th>\n      <th></th>\n      <th></th>\n      <th></th>\n      <th></th>\n      <th></th>\n      <th></th>\n      <th></th>\n      <th></th>\n      <th></th>\n      <th></th>\n    </tr>\n  </thead>\n  <tbody>\n    <tr>\n      <th>AL012019</th>\n      <td>AL01</td>\n      <td>2019</td>\n      <td>78.5</td>\n      <td>69.7</td>\n      <td>68.8</td>\n      <td>67.8</td>\n      <td>66.8</td>\n      <td>65.9</td>\n      <td>64.9</td>\n      <td>63.9</td>\n      <td>...</td>\n      <td>7.9</td>\n      <td>71.7</td>\n      <td>7.4</td>\n      <td>6.8</td>\n      <td>6.2</td>\n      <td>5.7</td>\n      <td>5.2</td>\n      <td>70.7</td>\n      <td>4.8</td>\n      <td>78.7</td>\n    </tr>\n    <tr>\n      <th>AL022019</th>\n      <td>AL02</td>\n      <td>2019</td>\n      <td>81.5</td>\n      <td>72.6</td>\n      <td>71.6</td>\n      <td>70.6</td>\n      <td>69.6</td>\n      <td>68.6</td>\n      <td>67.6</td>\n      <td>66.6</td>\n      <td>...</td>\n      <td>10.4</td>\n      <td>74.5</td>\n      <td>9.8</td>\n      <td>9.3</td>\n      <td>8.8</td>\n      <td>8.3</td>\n      <td>8.0</td>\n      <td>73.5</td>\n      <td>7.8</td>\n      <td>81.6</td>\n    </tr>\n    <tr>\n      <th>AL032019</th>\n      <td>AL03</td>\n      <td>2019</td>\n      <td>77.0</td>\n      <td>68.1</td>\n      <td>67.1</td>\n      <td>66.2</td>\n      <td>65.2</td>\n      <td>64.2</td>\n      <td>63.2</td>\n      <td>62.2</td>\n      <td>...</td>\n      <td>5.6</td>\n      <td>70.1</td>\n      <td>4.9</td>\n      <td>4.3</td>\n      <td>3.6</td>\n      <td>3.0</td>\n      <td>2.3</td>\n      <td>69.1</td>\n      <td>1.6</td>\n      <td>77.4</td>\n    </tr>\n    <tr>\n      <th>AT111990</th>\n      <td>AT11</td>\n      <td>1990</td>\n      <td>75.0</td>\n      <td>66.1</td>\n      <td>65.1</td>\n      <td>64.1</td>\n      <td>63.1</td>\n      <td>62.1</td>\n      <td>61.2</td>\n      <td>60.2</td>\n      <td>...</td>\n      <td>7.4</td>\n      <td>68.1</td>\n      <td>7.0</td>\n      <td>6.6</td>\n      <td>6.2</td>\n      <td>5.9</td>\n      <td>5.5</td>\n      <td>67.1</td>\n      <td>5.1</td>\n      <td>75.7</td>\n    </tr>\n    <tr>\n      <th>AT111991</th>\n      <td>AT11</td>\n      <td>1991</td>\n      <td>74.3</td>\n      <td>65.5</td>\n      <td>64.5</td>\n      <td>63.5</td>\n      <td>62.5</td>\n      <td>61.6</td>\n      <td>60.6</td>\n      <td>59.6</td>\n      <td>...</td>\n      <td>7.5</td>\n      <td>67.5</td>\n      <td>7.0</td>\n      <td>6.6</td>\n      <td>6.2</td>\n      <td>5.9</td>\n      <td>5.5</td>\n      <td>66.5</td>\n      <td>5.3</td>\n      <td>74.8</td>\n    </tr>\n  </tbody>\n</table>\n<p>5 rows × 88 columns</p>\n</div>"
     },
     "metadata": {},
     "execution_count": 8
    }
   ],
   "source": [
    "life.head()"
   ]
  },
  {
   "cell_type": "markdown",
   "metadata": {},
   "source": [
    "## GDP data"
   ]
  },
  {
   "cell_type": "markdown",
   "metadata": {},
   "source": [
    "**Read the GDP data from the Eurostat API and clean it**"
   ]
  },
  {
   "cell_type": "code",
   "execution_count": 9,
   "metadata": {},
   "outputs": [
    {
     "output_type": "stream",
     "name": "stdout",
     "text": [
      "['value', 'flag']\n['unit', 'geo', 'time']\n"
     ]
    }
   ],
   "source": [
    "# a. load\n",
    "eust.download_table('nama_10r_2gdp')  # downloads data on gdp for EU countries and their within country regions\n",
    "my_tables = eust.list_tables() # returns a list\n",
    "assert 'nama_10r_2gdp' in my_tables\n",
    "gdp = eust.read_table_data('nama_10r_2gdp') # read the dataset\n",
    "\n",
    "print(list(gdp.columns)) # prints columns\n",
    "print(list(gdp.index.names)) # prints the index\n",
    "\n",
    "# b. reset the index\n",
    "gdp.reset_index(level=gdp.index.names, inplace=True)\n",
    "\n",
    "# c. Only keep regions on the smallest level of aggregation (4 digits in geo code)\n",
    "gdp = regions.only_keep_regions(gdp)"
   ]
  },
  {
   "cell_type": "markdown",
   "metadata": {},
   "source": [
    "**Explore the columns**"
   ]
  },
  {
   "cell_type": "code",
   "execution_count": 10,
   "metadata": {},
   "outputs": [
    {
     "output_type": "stream",
     "name": "stdout",
     "text": [
      "['EUR_HAB', 'EUR_HAB_EU27_2020', 'MIO_EUR', 'MIO_NAC', 'MIO_PPS_EU27_2020', 'PPS_EU27_2020_HAB', 'PPS_HAB_EU27_2020']\n['AL01', 'AL02', 'AL03', 'AT11', 'AT12', 'AT13', 'AT21', 'AT22', 'AT31', 'AT32', 'AT33', 'AT34', 'BE10', 'BE21', 'BE22', 'BE23', 'BE24', 'BE25', 'BE31', 'BE32', 'BE33', 'BE34', 'BE35', 'BG31', 'BG32', 'BG33', 'BG34', 'BG41', 'BG42', 'CY00', 'CZ01', 'CZ02', 'CZ03', 'CZ04', 'CZ05', 'CZ06', 'CZ07', 'CZ08', 'DE11', 'DE12', 'DE13', 'DE14', 'DE21', 'DE22', 'DE23', 'DE24', 'DE25', 'DE26', 'DE27', 'DE30', 'DE40', 'DE50', 'DE60', 'DE71', 'DE72', 'DE73', 'DE80', 'DE91', 'DE92', 'DE93', 'DE94', 'DEA1', 'DEA2', 'DEA3', 'DEA4', 'DEA5', 'DEB1', 'DEB2', 'DEB3', 'DEC0', 'DED2', 'DED4', 'DED5', 'DEE0', 'DEF0', 'DEG0', 'DK01', 'DK02', 'DK03', 'DK04', 'DK05', 'EE00', 'EL30', 'EL41', 'EL42', 'EL43', 'EL51', 'EL52', 'EL53', 'EL54', 'EL61', 'EL62', 'EL63', 'EL64', 'EL65', 'ES11', 'ES12', 'ES13', 'ES21', 'ES22', 'ES23', 'ES24', 'ES30', 'ES41', 'ES42', 'ES43', 'ES51', 'ES52', 'ES53', 'ES61', 'ES62', 'ES63', 'ES64', 'ES70', 'FI19', 'FI1B', 'FI1C', 'FI1D', 'FI20', 'FR10', 'FRB0', 'FRC1', 'FRC2', 'FRD1', 'FRD2', 'FRE1', 'FRE2', 'FRF1', 'FRF2', 'FRF3', 'FRG0', 'FRH0', 'FRI1', 'FRI2', 'FRI3', 'FRJ1', 'FRJ2', 'FRK1', 'FRK2', 'FRL0', 'FRM0', 'FRY1', 'FRY2', 'FRY3', 'FRY4', 'FRY5', 'HR03', 'HR04', 'HU11', 'HU12', 'HU21', 'HU22', 'HU23', 'HU31', 'HU32', 'HU33', 'IE04', 'IE05', 'IE06', 'ITC1', 'ITC2', 'ITC3', 'ITC4', 'ITF1', 'ITF2', 'ITF3', 'ITF4', 'ITF5', 'ITF6', 'ITG1', 'ITG2', 'ITH1', 'ITH2', 'ITH3', 'ITH4', 'ITH5', 'ITI1', 'ITI2', 'ITI3', 'ITI4', 'LT01', 'LT02', 'LU00', 'LV00', 'ME00', 'MK00', 'MT00', 'NL11', 'NL12', 'NL13', 'NL21', 'NL22', 'NL23', 'NL31', 'NL32', 'NL33', 'NL34', 'NL41', 'NL42', 'NO01', 'NO02', 'NO03', 'NO04', 'NO05', 'NO06', 'NO07', 'PL21', 'PL22', 'PL41', 'PL42', 'PL43', 'PL51', 'PL52', 'PL61', 'PL62', 'PL63', 'PL71', 'PL72', 'PL81', 'PL82', 'PL84', 'PL91', 'PL92', 'PT11', 'PT15', 'PT16', 'PT17', 'PT18', 'PT20', 'PT30', 'RO11', 'RO12', 'RO21', 'RO22', 'RO31', 'RO32', 'RO41', 'RO42', 'RS11', 'RS12', 'RS21', 'RS22', 'SE11', 'SE12', 'SE21', 'SE22', 'SE23', 'SE31', 'SE32', 'SE33', 'SI03', 'SI04', 'SK01', 'SK02', 'SK03', 'SK04', 'TR10', 'TR21', 'TR22', 'TR31', 'TR32', 'TR33', 'TR41', 'TR42', 'TR51', 'TR52', 'TR61', 'TR62', 'TR63', 'TR71', 'TR72', 'TR81', 'TR82', 'TR83', 'TR90', 'TRA1', 'TRA2', 'TRB1', 'TRB2', 'TRC1', 'TRC2', 'TRC3', 'ATZZ', 'BEZZ', 'DKZZ', 'ESZZ', 'FIZZ', 'FRZZ', 'HUZZ', 'ITZZ', 'LVZZ', 'MTZZ', 'NLZZ', 'NOZZ', 'PTZZ', 'ROZZ', 'RSZZ', 'SEZZ']\n20\n[None, 'b', 'p', 'u', 'e', 'd']\n"
     ]
    }
   ],
   "source": [
    "unit_gdp = []\n",
    "\n",
    "for i in list(gdp['unit']):\n",
    "    if i not in unit_gdp:\n",
    "        unit_gdp.append(i)\n",
    "\n",
    "print(unit_gdp)\n",
    "\n",
    "geo_gdp = []\n",
    "\n",
    "for i in list(gdp['geo']):\n",
    "    if i not in geo_gdp:\n",
    "        geo_gdp.append(i)\n",
    "\n",
    "print(geo_gdp)\n",
    "\n",
    "time_gdp = []\n",
    "\n",
    "for i in list(gdp['time']):\n",
    "    if i not in time_gdp:\n",
    "        time_gdp.append(i)\n",
    "\n",
    "print(len(time_gdp))\n",
    "\n",
    "flag_gdp = []\n",
    "\n",
    "for i in list(gdp['flag']):\n",
    "    if i not in flag_gdp:\n",
    "        flag_gdp.append(i)\n",
    "\n",
    "print(flag_gdp)\n"
   ]
  },
  {
   "cell_type": "markdown",
   "metadata": {},
   "source": [
    "**Only keep currency '[MIO_PPS_EU27_2020]' Million purchasing power standards (PPS, EU27 from 2020)**"
   ]
  },
  {
   "cell_type": "code",
   "execution_count": 11,
   "metadata": {},
   "outputs": [],
   "source": [
    "gdp = gdp[gdp['unit'].apply(lambda x: str(x) == 'MIO_PPS_EU27_2020')]"
   ]
  },
  {
   "cell_type": "markdown",
   "metadata": {},
   "source": [
    "**Drop columns 'unit' and 'flag'**"
   ]
  },
  {
   "cell_type": "code",
   "execution_count": 12,
   "metadata": {},
   "outputs": [],
   "source": [
    "drop_these=['unit', 'flag']\n",
    "gdp.drop(drop_these, axis=1, inplace=True)"
   ]
  },
  {
   "cell_type": "markdown",
   "metadata": {},
   "source": [
    "**Rename variables**"
   ]
  },
  {
   "cell_type": "code",
   "execution_count": 13,
   "metadata": {},
   "outputs": [],
   "source": [
    "rename_dict={}\n",
    "rename_dict['value'] = 'gdp'\n",
    "gdp.rename(columns=rename_dict,inplace=True)"
   ]
  },
  {
   "cell_type": "markdown",
   "metadata": {},
   "source": [
    "The dataset now looks like this:"
   ]
  },
  {
   "cell_type": "code",
   "execution_count": 14,
   "metadata": {},
   "outputs": [
    {
     "output_type": "execute_result",
     "data": {
      "text/plain": [
       "        geo  time  gdp\n",
       "33780  AL01  2000  NaN\n",
       "33781  AL01  2001  NaN\n",
       "33782  AL01  2002  NaN\n",
       "33783  AL01  2003  NaN\n",
       "33784  AL01  2004  NaN"
      ],
      "text/html": "<div>\n<style scoped>\n    .dataframe tbody tr th:only-of-type {\n        vertical-align: middle;\n    }\n\n    .dataframe tbody tr th {\n        vertical-align: top;\n    }\n\n    .dataframe thead th {\n        text-align: right;\n    }\n</style>\n<table border=\"1\" class=\"dataframe\">\n  <thead>\n    <tr style=\"text-align: right;\">\n      <th></th>\n      <th>geo</th>\n      <th>time</th>\n      <th>gdp</th>\n    </tr>\n  </thead>\n  <tbody>\n    <tr>\n      <th>33780</th>\n      <td>AL01</td>\n      <td>2000</td>\n      <td>NaN</td>\n    </tr>\n    <tr>\n      <th>33781</th>\n      <td>AL01</td>\n      <td>2001</td>\n      <td>NaN</td>\n    </tr>\n    <tr>\n      <th>33782</th>\n      <td>AL01</td>\n      <td>2002</td>\n      <td>NaN</td>\n    </tr>\n    <tr>\n      <th>33783</th>\n      <td>AL01</td>\n      <td>2003</td>\n      <td>NaN</td>\n    </tr>\n    <tr>\n      <th>33784</th>\n      <td>AL01</td>\n      <td>2004</td>\n      <td>NaN</td>\n    </tr>\n  </tbody>\n</table>\n</div>"
     },
     "metadata": {},
     "execution_count": 14
    }
   ],
   "source": [
    "gdp.head()"
   ]
  },
  {
   "cell_type": "markdown",
   "metadata": {},
   "source": [
    "## Education data"
   ]
  },
  {
   "cell_type": "markdown",
   "metadata": {},
   "source": [
    "The column isced11 accounts for the ISCED 2011 categories for educational attainment at 1-digit level. These categories aggregate the following education levels:\n",
    "Level 0 – Less than primary education\n",
    "Level 1 – Primary education\n",
    "Level 2 – Lower secondary education\n",
    "Level 3 – Upper secondary education\n",
    "Level 4 – Post-secondary non-tertiary education\n",
    "Level 5 – Short-cycle tertiary education\n",
    "Level 6 – Bachelor’s or equivalent level\n",
    "Level 7 – Master’s or equivalent level\n",
    "Level 8 – Doctoral or equivalent level."
   ]
  },
  {
   "cell_type": "code",
   "execution_count": 15,
   "metadata": {},
   "outputs": [
    {
     "output_type": "stream",
     "name": "stdout",
     "text": [
      "['value', 'flag']\n['unit', 'sex', 'isced11', 'c_birth', 'age', 'geo', 'time']\n"
     ]
    }
   ],
   "source": [
    "# a. load\n",
    "eust.download_table('edat_lfs_9917') # downloads data on education for EU countries and their within country regions\n",
    "my_tables = eust.list_tables() # returns a list\n",
    "assert 'edat_lfs_9917' in my_tables\n",
    "education = eust.read_table_data('edat_lfs_9917') # read the dataset\n",
    "\n",
    "print(list(education.columns)) # prints the columns\n",
    "print(list(education.index.names)) # prints the index\n",
    "\n",
    "# b. reset the index\n",
    "education.reset_index(level=education.index.names, inplace=True)\n",
    "\n",
    "# c. only keep regions on the smallest level of aggregation (4 digits in geo code)\n",
    "education = regions.only_keep_regions(education)"
   ]
  },
  {
   "cell_type": "markdown",
   "metadata": {},
   "source": [
    "**Exploring the dataset**"
   ]
  },
  {
   "cell_type": "code",
   "execution_count": 16,
   "metadata": {},
   "outputs": [
    {
     "output_type": "stream",
     "name": "stdout",
     "text": [
      "['PC']\n",
      "['F', 'M', 'T']\n",
      "['ED0-2', 'ED3-8', 'ED3_4', 'ED5-8']\n",
      "['EU15_FOR', 'EU27_2020_FOR', 'EU28_FOR', 'FOR', 'NAT', 'NEU15_FOR', 'NEU27_2020_FOR', 'NEU28_FOR', 'NRP', 'TOTAL']\n",
      "['Y15-64', 'Y25-64']\n",
      "['AT11', 'AT12', 'AT13', 'AT21', 'AT22', 'AT31', 'AT32', 'AT33', 'AT34', 'BE10', 'BE21', 'BE22', 'BE23', 'BE24', 'BE25', 'BE31', 'BE32', 'BE33', 'BE34', 'BE35', 'BG31', 'BG33', 'BG34', 'BG41', 'BG42', 'CH01', 'CH02', 'CH03', 'CH04', 'CH05', 'CH06', 'CH07', 'CY00', 'CZ01', 'CZ02', 'CZ03', 'CZ04', 'CZ05', 'CZ06', 'CZ07', 'CZ08', 'DE11', 'DE12', 'DE13', 'DE14', 'DE21', 'DE22', 'DE23', 'DE24', 'DE25', 'DE26', 'DE27', 'DE30', 'DE40', 'DE50', 'DE60', 'DE71', 'DE72', 'DE73', 'DE80', 'DE91', 'DE92', 'DE93', 'DE94', 'DEA1', 'DEA2', 'DEA3', 'DEA4', 'DEA5', 'DEB1', 'DEB2', 'DEB3', 'DEC0', 'DED2', 'DED4', 'DED5', 'DEE0', 'DEF0', 'DEG0', 'DK01', 'DK02', 'DK03', 'DK04', 'DK05', 'EA19', 'EE00', 'EL30', 'EL41', 'EL42', 'EL43', 'EL51', 'EL52', 'EL53', 'EL54', 'EL61', 'EL62', 'EL63', 'EL64', 'EL65', 'ES11', 'ES12', 'ES13', 'ES21', 'ES22', 'ES23', 'ES24', 'ES30', 'ES41', 'ES42', 'ES43', 'ES51', 'ES52', 'ES53', 'ES61', 'ES62', 'ES63', 'ES64', 'ES70', 'EU15', 'EU28', 'FI19', 'FI1B', 'FI1C', 'FI1D', 'FI20', 'FR10', 'FRB0', 'FRC1', 'FRC2', 'FRD1', 'FRD2', 'FRE1', 'FRE2', 'FRF1', 'FRF2', 'FRF3', 'FRG0', 'FRH0', 'FRI1', 'FRI2', 'FRI3', 'FRJ1', 'FRJ2', 'FRK1', 'FRK2', 'FRL0', 'FRM0', 'FRY1', 'FRY2', 'FRY3', 'FRY4', 'HR03', 'HR04', 'HU10', 'HU11', 'HU12', 'HU21', 'HU22', 'HU23', 'HU31', 'HU32', 'HU33', 'IE01', 'IE02', 'IE04', 'IE05', 'IE06', 'IS00', 'ITC1', 'ITC2', 'ITC3', 'ITC4', 'ITF1', 'ITF2', 'ITF3', 'ITF4', 'ITF5', 'ITF6', 'ITG1', 'ITG2', 'ITH1', 'ITH2', 'ITH3', 'ITH4', 'ITH5', 'ITI1', 'ITI2', 'ITI3', 'ITI4', 'LT00', 'LT01', 'LT02', 'LU00', 'LV00', 'ME00', 'MK00', 'MT00', 'NL11', 'NL12', 'NL13', 'NL21', 'NL22', 'NL23', 'NL31', 'NL32', 'NL33', 'NL34', 'NL41', 'NL42', 'NO01', 'NO02', 'NO03', 'NO04', 'NO05', 'NO06', 'NO07', 'PL21', 'PL22', 'PL41', 'PL42', 'PL43', 'PL51', 'PL52', 'PL61', 'PL62', 'PL63', 'PL71', 'PL72', 'PL81', 'PL82', 'PL84', 'PL91', 'PT11', 'PT15', 'PT16', 'PT17', 'PT18', 'PT20', 'PT30', 'RO11', 'RO21', 'RO22', 'RO31', 'RO32', 'RO42', 'RS11', 'RS12', 'RS21', 'RS22', 'SE11', 'SE12', 'SE21', 'SE22', 'SE23', 'SE31', 'SE32', 'SE33', 'SI01', 'SI02', 'SI03', 'SI04', 'SK01', 'SK02', 'SK03', 'SK04', 'TR10', 'TR21', 'TR22', 'TR31', 'TR32', 'TR33', 'TR41', 'TR42', 'TR51', 'TR52', 'TR61', 'TR62', 'TR63', 'TR71', 'TR72', 'TR81', 'TR82', 'TR83', 'TR90', 'TRA1', 'TRA2', 'TRB1', 'TRC1', 'TRC2', 'TRC3', 'UKC1', 'UKC2', 'UKD1', 'UKD3', 'UKD4', 'UKD6', 'UKD7', 'UKE1', 'UKE2', 'UKE3', 'UKE4', 'UKF1', 'UKF2', 'UKF3', 'UKG1', 'UKG2', 'UKG3', 'UKH1', 'UKH2', 'UKH3', 'UKI1', 'UKI2', 'UKI3', 'UKI4', 'UKI5', 'UKI6', 'UKI7', 'UKJ1', 'UKJ2', 'UKJ3', 'UKJ4', 'UKK1', 'UKK2', 'UKK3', 'UKK4', 'UKL1', 'UKL2', 'UKM2', 'UKM3', 'UKM5', 'UKM6', 'UKM7', 'UKM8', 'UKM9', 'UKN0', 'BG32', 'PL92', 'RO12', 'TRB2', 'RO41']\n",
      "[2004, 2005, 2006, 2007, 2008, 2009, 2010, 2011, 2012, 2013, 2014, 2015, 2016, 2017, 2018, 2019]\n",
      "['bc', 'u', 'bu', None, 'b', 'c', 'd']\n"
     ]
    }
   ],
   "source": [
    "unit_ed = []\n",
    "\n",
    "for i in list(education['unit']):\n",
    "    if i not in unit_ed:\n",
    "        unit_ed.append(i)\n",
    "\n",
    "print(unit_ed)\n",
    "\n",
    "sex_ed = []\n",
    "\n",
    "for i in list(education['sex']):\n",
    "    if i not in sex_ed:\n",
    "        sex_ed.append(i)\n",
    "\n",
    "print(sex_ed)\n",
    "\n",
    "isced11_ed = []\n",
    "\n",
    "for i in list(education['isced11']):\n",
    "    if i not in isced11_ed:\n",
    "        isced11_ed.append(i)\n",
    "\n",
    "print(isced11_ed)\n",
    "\n",
    "c_birth_ed = []\n",
    "\n",
    "for i in list(education['c_birth']):\n",
    "    if i not in c_birth_ed:\n",
    "        c_birth_ed.append(i)\n",
    "\n",
    "print(c_birth_ed)\n",
    "\n",
    "\n",
    "age_ed = []\n",
    "\n",
    "for i in list(education['age']):\n",
    "    if i not in age_ed:\n",
    "        age_ed.append(i)\n",
    "\n",
    "print(age_ed)\n",
    "\n",
    "geo_ed = []\n",
    "\n",
    "for i in list(education['geo']):\n",
    "    if i not in geo_ed:\n",
    "        geo_ed.append(i)\n",
    "\n",
    "print(geo_ed)\n",
    "\n",
    "time_ed = []\n",
    "\n",
    "for i in list(education['time']):\n",
    "    if i not in time_ed:\n",
    "        time_ed.append(i)\n",
    "\n",
    "print(time_ed)\n",
    "\n",
    "flag_ed = []\n",
    "\n",
    "for i in list(education['flag']):\n",
    "    if i not in flag_ed:\n",
    "        flag_ed.append(i)\n",
    "\n",
    "print(flag_ed)"
   ]
  },
  {
   "cell_type": "markdown",
   "metadata": {},
   "source": [
    "**Only keep sex-aggregated records**"
   ]
  },
  {
   "cell_type": "code",
   "execution_count": 17,
   "metadata": {},
   "outputs": [],
   "source": [
    "education = education[education['sex'].apply(lambda x: str(x) == 'T')]"
   ]
  },
  {
   "cell_type": "markdown",
   "metadata": {},
   "source": [
    "**Only keep isced11 aggregation levels ED0-2, ED3-4, ED5-8**"
   ]
  },
  {
   "cell_type": "code",
   "execution_count": 18,
   "metadata": {},
   "outputs": [
    {
     "output_type": "stream",
     "name": "stdout",
     "text": [
      "['ED0-2', 'ED3_4', 'ED5-8']\n"
     ]
    }
   ],
   "source": [
    "# a. names of indexes where education is ED3-8\n",
    "indexname = education[ education['isced11'] == 'ED3-8'].index\n",
    "\n",
    "# b. delete these row indexes from education\n",
    "education.drop(indexname , inplace=True)\n",
    "\n",
    "# c. checkt the remaining aggregation levels\n",
    "isced11_ed_new = []\n",
    "\n",
    "for i in list(education['isced11']):\n",
    "    if i not in isced11_ed_new:\n",
    "        isced11_ed_new.append(i)\n",
    "\n",
    "print(isced11_ed_new)\n"
   ]
  },
  {
   "cell_type": "markdown",
   "metadata": {},
   "source": [
    "**Create individual variables for each of the aggregation levels, i.e., for ED0_2, ED3_4, and ED_5-8**"
   ]
  },
  {
   "cell_type": "code",
   "execution_count": 19,
   "metadata": {},
   "outputs": [],
   "source": [
    "# a. start by crearing an index variable that we can keep later\n",
    "education['time_s'] = education.time.apply(str)\n",
    "education['index']= education['geo'] + education['time_s']\n",
    "\n",
    "\n",
    "# b. pivot table such that we get 3 columns for ED0_2, ED3-4, and ED5-8, respectively\n",
    "education = education.pivot_table(index=['geo', 'time', 'index'],\n",
    "                        columns=['isced11'], values='value').fillna(0)\n",
    "\n",
    "# c. reset the index for geo and time\n",
    "education.reset_index(level = (0,1), inplace = True)"
   ]
  },
  {
   "cell_type": "markdown",
   "metadata": {},
   "source": [
    "**Rename the education variables**"
   ]
  },
  {
   "cell_type": "code",
   "execution_count": 20,
   "metadata": {},
   "outputs": [],
   "source": [
    "rename_dict['ED0-2'] = 'ED0_2'\n",
    "rename_dict['ED5-8'] = 'ED5_8'\n",
    "education.rename(columns=rename_dict,inplace=True)"
   ]
  },
  {
   "cell_type": "markdown",
   "metadata": {},
   "source": [
    "The dataset now looks like this:"
   ]
  },
  {
   "cell_type": "code",
   "execution_count": 21,
   "metadata": {},
   "outputs": [
    {
     "output_type": "execute_result",
     "data": {
      "text/plain": [
       "isced11    geo  time      ED0_2      ED3_4   ED5_8\n",
       "index                                             \n",
       "AT112004  AT11  2004  26.550000  55.966667  12.375\n",
       "AT112005  AT11  2005  28.514286  57.275000  11.625\n",
       "AT112006  AT11  2006  25.600000  58.331250  13.600\n",
       "AT112007  AT11  2007  29.910000  60.881250  12.425\n",
       "AT112008  AT11  2008  24.366667  61.460000  13.100"
      ],
      "text/html": "<div>\n<style scoped>\n    .dataframe tbody tr th:only-of-type {\n        vertical-align: middle;\n    }\n\n    .dataframe tbody tr th {\n        vertical-align: top;\n    }\n\n    .dataframe thead th {\n        text-align: right;\n    }\n</style>\n<table border=\"1\" class=\"dataframe\">\n  <thead>\n    <tr style=\"text-align: right;\">\n      <th>isced11</th>\n      <th>geo</th>\n      <th>time</th>\n      <th>ED0_2</th>\n      <th>ED3_4</th>\n      <th>ED5_8</th>\n    </tr>\n    <tr>\n      <th>index</th>\n      <th></th>\n      <th></th>\n      <th></th>\n      <th></th>\n      <th></th>\n    </tr>\n  </thead>\n  <tbody>\n    <tr>\n      <th>AT112004</th>\n      <td>AT11</td>\n      <td>2004</td>\n      <td>26.550000</td>\n      <td>55.966667</td>\n      <td>12.375</td>\n    </tr>\n    <tr>\n      <th>AT112005</th>\n      <td>AT11</td>\n      <td>2005</td>\n      <td>28.514286</td>\n      <td>57.275000</td>\n      <td>11.625</td>\n    </tr>\n    <tr>\n      <th>AT112006</th>\n      <td>AT11</td>\n      <td>2006</td>\n      <td>25.600000</td>\n      <td>58.331250</td>\n      <td>13.600</td>\n    </tr>\n    <tr>\n      <th>AT112007</th>\n      <td>AT11</td>\n      <td>2007</td>\n      <td>29.910000</td>\n      <td>60.881250</td>\n      <td>12.425</td>\n    </tr>\n    <tr>\n      <th>AT112008</th>\n      <td>AT11</td>\n      <td>2008</td>\n      <td>24.366667</td>\n      <td>61.460000</td>\n      <td>13.100</td>\n    </tr>\n  </tbody>\n</table>\n</div>"
     },
     "metadata": {},
     "execution_count": 21
    }
   ],
   "source": [
    "education.head()"
   ]
  },
  {
   "cell_type": "markdown",
   "metadata": {},
   "source": [
    "## Population data"
   ]
  },
  {
   "cell_type": "code",
   "execution_count": 22,
   "metadata": {},
   "outputs": [
    {
     "output_type": "stream",
     "name": "stdout",
     "text": [
      "['value', 'flag']\n['unit', 'geo', 'time']\n"
     ]
    }
   ],
   "source": [
    "# a. load\n",
    "eust.download_table('nama_10r_3popgdp') # downloads data on the population for EU countries and their within country regions\n",
    "my_tables = eust.list_tables() # returns a list\n",
    "assert 'nama_10r_3popgdp' in my_tables\n",
    "pop = eust.read_table_data('nama_10r_3popgdp') # reads the data\n",
    "\n",
    "print(list(pop.columns))\n",
    "print(list(pop.index.names))\n",
    "\n",
    "# b. reset the index\n",
    "pop.reset_index(level=pop.index.names, inplace=True)\n",
    "\n",
    "# c. only keep regions on the smallest level of aggregation (4 digits in geo code)\n",
    "pop = regions.only_keep_regions(pop)\n"
   ]
  },
  {
   "cell_type": "markdown",
   "metadata": {},
   "source": [
    "**Exploring the dataset**"
   ]
  },
  {
   "cell_type": "code",
   "execution_count": 23,
   "metadata": {},
   "outputs": [
    {
     "output_type": "stream",
     "name": "stdout",
     "text": [
      "['PC']\n",
      "['AL01', 'AL02', 'AL03', 'AT11', 'AT12', 'AT13', 'AT21', 'AT22', 'AT31', 'AT32', 'AT33', 'AT34', 'ATZZ', 'BE10', 'BE21', 'BE22', 'BE23', 'BE24', 'BE25', 'BE31', 'BE32', 'BE33', 'BE34', 'BE35', 'BG31', 'BG32', 'BG33', 'BG34', 'BG41', 'BG42', 'CY00', 'CZ01', 'CZ02', 'CZ03', 'CZ04', 'CZ05', 'CZ06', 'CZ07', 'CZ08', 'DE11', 'DE12', 'DE13', 'DE14', 'DE21', 'DE22', 'DE23', 'DE24', 'DE25', 'DE26', 'DE27', 'DE30', 'DE40', 'DE50', 'DE60', 'DE71', 'DE72', 'DE73', 'DE80', 'DE91', 'DE92', 'DE93', 'DE94', 'DEA1', 'DEA2', 'DEA3', 'DEA4', 'DEA5', 'DEB1', 'DEB2', 'DEB3', 'DEC0', 'DED2', 'DED4', 'DED5', 'DEE0', 'DEF0', 'DEG0', 'DK01', 'DK02', 'DK03', 'DK04', 'DK05', 'DKZZ', 'EE00', 'EL30', 'EL41', 'EL42', 'EL43', 'EL51', 'EL52', 'EL53', 'EL54', 'EL61', 'EL62', 'EL63', 'EL64', 'EL65', 'ES11', 'ES12', 'ES13', 'ES21', 'ES22', 'ES23', 'ES24', 'ES30', 'ES41', 'ES42', 'ES43', 'ES51', 'ES52', 'ES53', 'ES61', 'ES62', 'ES63', 'ES64', 'ES70', 'ESZZ', 'FI19', 'FI1B', 'FI1C', 'FI1D', 'FI20', 'FR10', 'FRB0', 'FRC1', 'FRC2', 'FRD1', 'FRD2', 'FRE1', 'FRE2', 'FRF1', 'FRF2', 'FRF3', 'FRG0', 'FRH0', 'FRI1', 'FRI2', 'FRI3', 'FRJ1', 'FRJ2', 'FRK1', 'FRK2', 'FRL0', 'FRM0', 'FRY1', 'FRY2', 'FRY3', 'FRY4', 'FRY5', 'HR03', 'HR04', 'HU11', 'HU12', 'HU21', 'HU22', 'HU23', 'HU31', 'HU32', 'HU33', 'HUZZ', 'IE04', 'IE05', 'IE06', 'ITC1', 'ITC2', 'ITC3', 'ITC4', 'ITF1', 'ITF2', 'ITF3', 'ITF4', 'ITF5', 'ITF6', 'ITG1', 'ITG2', 'ITH1', 'ITH2', 'ITH3', 'ITH4', 'ITH5', 'ITI1', 'ITI2', 'ITI3', 'ITI4', 'ITZZ', 'LT01', 'LT02', 'LU00', 'LV00', 'ME00', 'MK00', 'MT00', 'MTZZ', 'NL11', 'NL12', 'NL13', 'NL21', 'NL22', 'NL23', 'NL31', 'NL32', 'NL33', 'NL34', 'NL41', 'NL42', 'NLZZ', 'NO01', 'NO02', 'NO03', 'NO04', 'NO05', 'NO06', 'NO07', 'NOZZ', 'PL21', 'PL22', 'PL41', 'PL42', 'PL43', 'PL51', 'PL52', 'PL61', 'PL62', 'PL63', 'PL71', 'PL72', 'PL81', 'PL82', 'PL84', 'PL91', 'PL92', 'PT11', 'PT15', 'PT16', 'PT17', 'PT18', 'PT20', 'PT30', 'RO11', 'RO12', 'RO21', 'RO22', 'RO31', 'RO32', 'RO41', 'RO42', 'RS11', 'RS12', 'RS21', 'RS22', 'SE11', 'SE12', 'SE21', 'SE22', 'SE23', 'SE31', 'SE32', 'SE33', 'SI03', 'SI04', 'SK01', 'SK02', 'SK03', 'SK04', 'TR10', 'TR21', 'TR22', 'TR31', 'TR32', 'TR33', 'TR41', 'TR42', 'TR51', 'TR52', 'TR61', 'TR62', 'TR63', 'TR71', 'TR72', 'TR81', 'TR82', 'TR83', 'TR90', 'TRA1', 'TRA2', 'TRB1', 'TRB2', 'TRC1', 'TRC2', 'TRC3']\n",
      "[2000, 2001, 2002, 2003, 2004, 2005, 2006, 2007, 2008, 2009, 2010, 2011, 2012, 2013, 2014, 2015, 2016, 2017, 2018, 2019]\n",
      "[None, 'p', 'd', 'b', 'e']\n"
     ]
    }
   ],
   "source": [
    "unit_pop = []\n",
    "\n",
    "for i in list(pop['unit']):\n",
    "    if i not in unit_pop:\n",
    "        unit_pop.append(i)\n",
    "\n",
    "print(unit_ed)\n",
    "\n",
    "\n",
    "geo_pop = []\n",
    "\n",
    "for i in list(pop['geo']):\n",
    "    if i not in geo_pop:\n",
    "        geo_pop.append(i)\n",
    "\n",
    "print(geo_pop)\n",
    "\n",
    "time_pop = []\n",
    "\n",
    "for i in list(pop['time']):\n",
    "    if i not in time_pop:\n",
    "        time_pop.append(i)\n",
    "\n",
    "print(time_pop)\n",
    "\n",
    "flag_pop = []\n",
    "\n",
    "for i in list(pop['flag']):\n",
    "    if i not in flag_pop:\n",
    "        flag_pop.append(i)\n",
    "\n",
    "print(flag_pop)"
   ]
  },
  {
   "cell_type": "markdown",
   "metadata": {},
   "source": [
    "**Drop 'unit' and 'flag' and rename the outcome variable**"
   ]
  },
  {
   "cell_type": "code",
   "execution_count": 24,
   "metadata": {},
   "outputs": [],
   "source": [
    "# a. drop columns\n",
    "drop_these = ['unit', 'flag']\n",
    "pop.drop(drop_these, axis=1, inplace=True)\n",
    "\n",
    "# b. rename columns\n",
    "rename_dict['value'] = 'pop'\n",
    "pop.rename(columns=rename_dict,inplace=True)"
   ]
  },
  {
   "cell_type": "markdown",
   "metadata": {},
   "source": [
    "The dataset now looks like this:"
   ]
  },
  {
   "cell_type": "code",
   "execution_count": 25,
   "metadata": {},
   "outputs": [
    {
     "output_type": "execute_result",
     "data": {
      "text/plain": [
       "     geo  time  pop\n",
       "40  AL01  2000  NaN\n",
       "41  AL01  2001  NaN\n",
       "42  AL01  2002  NaN\n",
       "43  AL01  2003  NaN\n",
       "44  AL01  2004  NaN"
      ],
      "text/html": "<div>\n<style scoped>\n    .dataframe tbody tr th:only-of-type {\n        vertical-align: middle;\n    }\n\n    .dataframe tbody tr th {\n        vertical-align: top;\n    }\n\n    .dataframe thead th {\n        text-align: right;\n    }\n</style>\n<table border=\"1\" class=\"dataframe\">\n  <thead>\n    <tr style=\"text-align: right;\">\n      <th></th>\n      <th>geo</th>\n      <th>time</th>\n      <th>pop</th>\n    </tr>\n  </thead>\n  <tbody>\n    <tr>\n      <th>40</th>\n      <td>AL01</td>\n      <td>2000</td>\n      <td>NaN</td>\n    </tr>\n    <tr>\n      <th>41</th>\n      <td>AL01</td>\n      <td>2001</td>\n      <td>NaN</td>\n    </tr>\n    <tr>\n      <th>42</th>\n      <td>AL01</td>\n      <td>2002</td>\n      <td>NaN</td>\n    </tr>\n    <tr>\n      <th>43</th>\n      <td>AL01</td>\n      <td>2003</td>\n      <td>NaN</td>\n    </tr>\n    <tr>\n      <th>44</th>\n      <td>AL01</td>\n      <td>2004</td>\n      <td>NaN</td>\n    </tr>\n  </tbody>\n</table>\n</div>"
     },
     "metadata": {},
     "execution_count": 25
    }
   ],
   "source": [
    "pop.head()"
   ]
  },
  {
   "cell_type": "markdown",
   "metadata": {},
   "source": [
    "## Explore all four data sets together"
   ]
  },
  {
   "cell_type": "markdown",
   "metadata": {},
   "source": [
    "In order to be able to **explore the raw data**, we here provide an **interactive plot** to show, respectively, life expectancy, GDP, education, and population in each geographical area"
   ]
  },
  {
   "cell_type": "markdown",
   "metadata": {},
   "source": [
    "The **static plot** is:"
   ]
  },
  {
   "cell_type": "code",
   "execution_count": 26,
   "metadata": {},
   "outputs": [],
   "source": [
    "def plot_all(life, gdp, education, pop, dataset, geo): \n",
    "    \n",
    "    if dataset == 'Life expectancy':\n",
    "        df = life\n",
    "        y = ['Y_LT1', 'Y65', 'Y_GE85']\n",
    "    elif dataset == 'GDP':\n",
    "        df = gdp\n",
    "        y = 'gdp'\n",
    "    elif dataset == 'Education':\n",
    "        df = education\n",
    "        y = ['ED0_2', 'ED3_4', 'ED5_8']\n",
    "    else:\n",
    "        df = pop\n",
    "        y = 'pop'\n",
    "    \n",
    "    I = df['geo'] == geo\n",
    "    ax = df.loc[I,:].plot(x='time', y=y, style='-o')"
   ]
  },
  {
   "cell_type": "code",
   "execution_count": 27,
   "metadata": {},
   "outputs": [
    {
     "output_type": "display_data",
     "data": {
      "text/plain": "interactive(children=(Dropdown(description='Dataset', options=('Life expectancy', 'GDP', 'Education', 'Populat…",
      "application/vnd.jupyter.widget-view+json": {
       "version_major": 2,
       "version_minor": 0,
       "model_id": "95c6a662a8a84ae6a6d9986c9e687639"
      }
     },
     "metadata": {}
    }
   ],
   "source": [
    "widgets.interact(plot_all, \n",
    "    \n",
    "    \n",
    "    life = widgets.fixed(life),\n",
    "    gdp = widgets.fixed(gdp),\n",
    "    education = widgets.fixed(education),\n",
    "    pop = widgets.fixed(pop),\n",
    "    dataset = widgets.Dropdown(description='Dataset', \n",
    "                               options=['Life expectancy','GDP', 'Education', 'Population']),\n",
    "    geo = widgets.Dropdown(description='Geographical area', \n",
    "                                    options=gdp.geo.unique())\n",
    "                 \n",
    "); "
   ]
  },
  {
   "cell_type": "markdown",
   "metadata": {},
   "source": [
    "# Merging data sets"
   ]
  },
  {
   "cell_type": "markdown",
   "metadata": {},
   "source": [
    "We now create a data set with **areas which are at least in our life expectancy data set**."
   ]
  },
  {
   "cell_type": "markdown",
   "metadata": {},
   "source": [
    "**We first illustrate that all four datasets have overlapping geographical areas by displaying venn diagrams:**"
   ]
  },
  {
   "cell_type": "code",
   "execution_count": 28,
   "metadata": {},
   "outputs": [
    {
     "output_type": "display_data",
     "data": {
      "text/plain": "<Figure size 720x360 with 1 Axes>",
      "image/svg+xml": "<?xml version=\"1.0\" encoding=\"utf-8\" standalone=\"no\"?>\r\n<!DOCTYPE svg PUBLIC \"-//W3C//DTD SVG 1.1//EN\"\r\n  \"http://www.w3.org/Graphics/SVG/1.1/DTD/svg11.dtd\">\r\n<!-- Created with matplotlib (https://matplotlib.org/) -->\r\n<svg height=\"286.2pt\" version=\"1.1\" viewBox=\"0 0 366.144705 286.2\" width=\"366.144705pt\" xmlns=\"http://www.w3.org/2000/svg\" xmlns:xlink=\"http://www.w3.org/1999/xlink\">\r\n <metadata>\r\n  <rdf:RDF xmlns:cc=\"http://creativecommons.org/ns#\" xmlns:dc=\"http://purl.org/dc/elements/1.1/\" xmlns:rdf=\"http://www.w3.org/1999/02/22-rdf-syntax-ns#\">\r\n   <cc:Work>\r\n    <dc:type rdf:resource=\"http://purl.org/dc/dcmitype/StillImage\"/>\r\n    <dc:date>2021-04-11T11:43:15.979248</dc:date>\r\n    <dc:format>image/svg+xml</dc:format>\r\n    <dc:creator>\r\n     <cc:Agent>\r\n      <dc:title>Matplotlib v3.3.2, https://matplotlib.org/</dc:title>\r\n     </cc:Agent>\r\n    </dc:creator>\r\n   </cc:Work>\r\n  </rdf:RDF>\r\n </metadata>\r\n <defs>\r\n  <style type=\"text/css\">*{stroke-linecap:butt;stroke-linejoin:round;}</style>\r\n </defs>\r\n <g id=\"figure_1\">\r\n  <g id=\"patch_1\">\r\n   <path d=\"M 0 286.2 \r\nL 366.144705 286.2 \r\nL 366.144705 0 \r\nL 0 0 \r\nz\r\n\" style=\"fill:#ffffff;\"/>\r\n  </g>\r\n  <g id=\"axes_1\">\r\n   <g id=\"patch_2\">\r\n    <path clip-path=\"url(#p125895b5c8)\" d=\"M 183.072352 247.760753 \r\nC 161.878045 239.666159 143.634273 225.321449 130.768129 206.634997 \r\nC 117.901986 187.948545 111.010504 165.787466 111.010504 143.1 \r\nC 111.010504 120.412534 117.901986 98.251455 130.768129 79.565003 \r\nC 143.634273 60.878551 161.878045 46.533841 183.072352 38.439247 \r\nC 166.108452 31.960343 147.820976 29.701919 129.790548 31.859177 \r\nC 111.76012 34.016435 94.521618 40.525378 79.565003 50.823425 \r\nC 64.608388 61.121471 52.377352 74.903127 43.92905 90.977214 \r\nC 35.480747 107.051302 31.065799 124.940977 31.065799 143.1 \r\nC 31.065799 161.259023 35.480747 179.148698 43.92905 195.222786 \r\nC 52.377352 211.296873 64.608388 225.078529 79.565003 235.376575 \r\nC 94.521618 245.674622 111.76012 252.183565 129.790548 254.340823 \r\nC 147.820976 256.498081 166.108452 254.239657 183.072352 247.760753 \r\n\" style=\"fill:#ff0000;opacity:0.4;\"/>\r\n   </g>\r\n   <g id=\"patch_3\">\r\n    <path clip-path=\"url(#p125895b5c8)\" d=\"M 183.072352 38.439247 \r\nC 204.26666 46.533841 222.510432 60.878551 235.376575 79.565003 \r\nC 248.242719 98.251455 255.134201 120.412534 255.134201 143.1 \r\nC 255.134201 165.787466 248.242719 187.948545 235.376575 206.634997 \r\nC 222.510432 225.321449 204.26666 239.666159 183.072352 247.760753 \r\nC 200.036253 254.239657 218.323729 256.498081 236.354157 254.340823 \r\nC 254.384585 252.183565 271.623086 245.674622 286.579702 235.376575 \r\nC 301.536317 225.078529 313.767352 211.296873 322.215655 195.222786 \r\nC 330.663958 179.148698 335.078906 161.259023 335.078906 143.1 \r\nC 335.078906 124.940977 330.663958 107.051302 322.215655 90.977214 \r\nC 313.767352 74.903127 301.536317 61.121471 286.579702 50.823425 \r\nC 271.623086 40.525378 254.384585 34.016435 236.354157 31.859177 \r\nC 218.323729 29.701919 200.036253 31.960343 183.072352 38.439247 \r\n\" style=\"fill:#008000;opacity:0.4;\"/>\r\n   </g>\r\n   <g id=\"patch_4\">\r\n    <path clip-path=\"url(#p125895b5c8)\" d=\"M 183.072352 247.760753 \r\nC 204.26666 239.666159 222.510432 225.321449 235.376575 206.634997 \r\nC 248.242719 187.948545 255.134201 165.787466 255.134201 143.1 \r\nC 255.134201 120.412534 248.242719 98.251455 235.376575 79.565003 \r\nC 222.510432 60.878551 204.26666 46.533841 183.072352 38.439247 \r\nC 161.878045 46.533841 143.634273 60.878551 130.768129 79.565003 \r\nC 117.901986 98.251455 111.010504 120.412534 111.010504 143.1 \r\nC 111.010504 165.787466 117.901986 187.948545 130.768129 206.634997 \r\nC 143.634273 225.321449 161.878045 239.666159 183.072352 247.760753 \r\n\" style=\"fill:#b25900;opacity:0.4;\"/>\r\n   </g>\r\n   <g id=\"text_1\">\r\n    <!-- overlap -->\r\n    <g style=\"fill:#262626;\" transform=\"translate(166.674696 145.685156)scale(0.1 -0.1)\">\r\n     <defs>\r\n      <path d=\"M 3.328125 25.921875 \r\nQ 3.328125 40.328125 11.328125 47.265625 \r\nQ 18.015625 53.03125 27.640625 53.03125 \r\nQ 38.328125 53.03125 45.109375 46.015625 \r\nQ 51.90625 39.015625 51.90625 26.65625 \r\nQ 51.90625 16.65625 48.90625 10.90625 \r\nQ 45.90625 5.171875 40.15625 2 \r\nQ 34.421875 -1.171875 27.640625 -1.171875 \r\nQ 16.75 -1.171875 10.03125 5.8125 \r\nQ 3.328125 12.796875 3.328125 25.921875 \r\nz\r\nM 12.359375 25.921875 \r\nQ 12.359375 15.96875 16.703125 11.015625 \r\nQ 21.046875 6.0625 27.640625 6.0625 \r\nQ 34.1875 6.0625 38.53125 11.03125 \r\nQ 42.875 16.015625 42.875 26.21875 \r\nQ 42.875 35.84375 38.5 40.796875 \r\nQ 34.125 45.75 27.640625 45.75 \r\nQ 21.046875 45.75 16.703125 40.8125 \r\nQ 12.359375 35.890625 12.359375 25.921875 \r\nz\r\n\" id=\"ArialMT-111\"/>\r\n      <path d=\"M 21 0 \r\nL 1.265625 51.859375 \r\nL 10.546875 51.859375 \r\nL 21.6875 20.796875 \r\nQ 23.484375 15.765625 25 10.359375 \r\nQ 26.171875 14.453125 28.265625 20.21875 \r\nL 39.796875 51.859375 \r\nL 48.828125 51.859375 \r\nL 29.203125 0 \r\nz\r\n\" id=\"ArialMT-118\"/>\r\n      <path d=\"M 42.09375 16.703125 \r\nL 51.171875 15.578125 \r\nQ 49.03125 7.625 43.21875 3.21875 \r\nQ 37.40625 -1.171875 28.375 -1.171875 \r\nQ 17 -1.171875 10.328125 5.828125 \r\nQ 3.65625 12.84375 3.65625 25.484375 \r\nQ 3.65625 38.578125 10.390625 45.796875 \r\nQ 17.140625 53.03125 27.875 53.03125 \r\nQ 38.28125 53.03125 44.875 45.953125 \r\nQ 51.46875 38.875 51.46875 26.03125 \r\nQ 51.46875 25.25 51.421875 23.6875 \r\nL 12.75 23.6875 \r\nQ 13.234375 15.140625 17.578125 10.59375 \r\nQ 21.921875 6.0625 28.421875 6.0625 \r\nQ 33.25 6.0625 36.671875 8.59375 \r\nQ 40.09375 11.140625 42.09375 16.703125 \r\nz\r\nM 13.234375 30.90625 \r\nL 42.1875 30.90625 \r\nQ 41.609375 37.453125 38.875 40.71875 \r\nQ 34.671875 45.796875 27.984375 45.796875 \r\nQ 21.921875 45.796875 17.796875 41.75 \r\nQ 13.671875 37.703125 13.234375 30.90625 \r\nz\r\n\" id=\"ArialMT-101\"/>\r\n      <path d=\"M 6.5 0 \r\nL 6.5 51.859375 \r\nL 14.40625 51.859375 \r\nL 14.40625 44 \r\nQ 17.4375 49.515625 20 51.265625 \r\nQ 22.5625 53.03125 25.640625 53.03125 \r\nQ 30.078125 53.03125 34.671875 50.203125 \r\nL 31.640625 42.046875 \r\nQ 28.421875 43.953125 25.203125 43.953125 \r\nQ 22.3125 43.953125 20.015625 42.21875 \r\nQ 17.71875 40.484375 16.75 37.40625 \r\nQ 15.28125 32.71875 15.28125 27.15625 \r\nL 15.28125 0 \r\nz\r\n\" id=\"ArialMT-114\"/>\r\n      <path d=\"M 6.390625 0 \r\nL 6.390625 71.578125 \r\nL 15.1875 71.578125 \r\nL 15.1875 0 \r\nz\r\n\" id=\"ArialMT-108\"/>\r\n      <path d=\"M 40.4375 6.390625 \r\nQ 35.546875 2.25 31.03125 0.53125 \r\nQ 26.515625 -1.171875 21.34375 -1.171875 \r\nQ 12.796875 -1.171875 8.203125 3 \r\nQ 3.609375 7.171875 3.609375 13.671875 \r\nQ 3.609375 17.484375 5.34375 20.625 \r\nQ 7.078125 23.78125 9.890625 25.6875 \r\nQ 12.703125 27.59375 16.21875 28.5625 \r\nQ 18.796875 29.25 24.03125 29.890625 \r\nQ 34.671875 31.15625 39.703125 32.90625 \r\nQ 39.75 34.71875 39.75 35.203125 \r\nQ 39.75 40.578125 37.25 42.78125 \r\nQ 33.890625 45.75 27.25 45.75 \r\nQ 21.046875 45.75 18.09375 43.578125 \r\nQ 15.140625 41.40625 13.71875 35.890625 \r\nL 5.125 37.0625 \r\nQ 6.296875 42.578125 8.984375 45.96875 \r\nQ 11.671875 49.359375 16.75 51.1875 \r\nQ 21.828125 53.03125 28.515625 53.03125 \r\nQ 35.15625 53.03125 39.296875 51.46875 \r\nQ 43.453125 49.90625 45.40625 47.53125 \r\nQ 47.359375 45.171875 48.140625 41.546875 \r\nQ 48.578125 39.3125 48.578125 33.453125 \r\nL 48.578125 21.734375 \r\nQ 48.578125 9.46875 49.140625 6.21875 \r\nQ 49.703125 2.984375 51.375 0 \r\nL 42.1875 0 \r\nQ 40.828125 2.734375 40.4375 6.390625 \r\nz\r\nM 39.703125 26.03125 \r\nQ 34.90625 24.078125 25.34375 22.703125 \r\nQ 19.921875 21.921875 17.671875 20.9375 \r\nQ 15.4375 19.96875 14.203125 18.09375 \r\nQ 12.984375 16.21875 12.984375 13.921875 \r\nQ 12.984375 10.40625 15.640625 8.0625 \r\nQ 18.3125 5.71875 23.4375 5.71875 \r\nQ 28.515625 5.71875 32.46875 7.9375 \r\nQ 36.421875 10.15625 38.28125 14.015625 \r\nQ 39.703125 17 39.703125 22.796875 \r\nz\r\n\" id=\"ArialMT-97\"/>\r\n      <path d=\"M 6.59375 -19.875 \r\nL 6.59375 51.859375 \r\nL 14.59375 51.859375 \r\nL 14.59375 45.125 \r\nQ 17.4375 49.078125 21 51.046875 \r\nQ 24.5625 53.03125 29.640625 53.03125 \r\nQ 36.28125 53.03125 41.359375 49.609375 \r\nQ 46.4375 46.1875 49.015625 39.953125 \r\nQ 51.609375 33.734375 51.609375 26.3125 \r\nQ 51.609375 18.359375 48.75 11.984375 \r\nQ 45.90625 5.609375 40.453125 2.21875 \r\nQ 35.015625 -1.171875 29 -1.171875 \r\nQ 24.609375 -1.171875 21.109375 0.6875 \r\nQ 17.625 2.546875 15.375 5.375 \r\nL 15.375 -19.875 \r\nz\r\nM 14.546875 25.640625 \r\nQ 14.546875 15.625 18.59375 10.84375 \r\nQ 22.65625 6.0625 28.421875 6.0625 \r\nQ 34.28125 6.0625 38.453125 11.015625 \r\nQ 42.625 15.96875 42.625 26.375 \r\nQ 42.625 36.28125 38.546875 41.203125 \r\nQ 34.46875 46.140625 28.8125 46.140625 \r\nQ 23.1875 46.140625 18.859375 40.890625 \r\nQ 14.546875 35.640625 14.546875 25.640625 \r\nz\r\n\" id=\"ArialMT-112\"/>\r\n     </defs>\r\n     <use xlink:href=\"#ArialMT-111\"/>\r\n     <use x=\"55.615234\" xlink:href=\"#ArialMT-118\"/>\r\n     <use x=\"105.615234\" xlink:href=\"#ArialMT-101\"/>\r\n     <use x=\"161.230469\" xlink:href=\"#ArialMT-114\"/>\r\n     <use x=\"194.53125\" xlink:href=\"#ArialMT-108\"/>\r\n     <use x=\"216.748047\" xlink:href=\"#ArialMT-97\"/>\r\n     <use x=\"272.363281\" xlink:href=\"#ArialMT-112\"/>\r\n    </g>\r\n   </g>\r\n   <g id=\"text_2\">\r\n    <!-- life -->\r\n    <g style=\"fill:#262626;\" transform=\"translate(127.760625 274.926996)scale(0.12 -0.12)\">\r\n     <defs>\r\n      <path d=\"M 6.640625 61.46875 \r\nL 6.640625 71.578125 \r\nL 15.4375 71.578125 \r\nL 15.4375 61.46875 \r\nz\r\nM 6.640625 0 \r\nL 6.640625 51.859375 \r\nL 15.4375 51.859375 \r\nL 15.4375 0 \r\nz\r\n\" id=\"ArialMT-105\"/>\r\n      <path d=\"M 8.6875 0 \r\nL 8.6875 45.015625 \r\nL 0.921875 45.015625 \r\nL 0.921875 51.859375 \r\nL 8.6875 51.859375 \r\nL 8.6875 57.375 \r\nQ 8.6875 62.59375 9.625 65.140625 \r\nQ 10.890625 68.5625 14.078125 70.671875 \r\nQ 17.28125 72.796875 23.046875 72.796875 \r\nQ 26.765625 72.796875 31.25 71.921875 \r\nL 29.9375 64.265625 \r\nQ 27.203125 64.75 24.75 64.75 \r\nQ 20.75 64.75 19.09375 63.03125 \r\nQ 17.4375 61.328125 17.4375 56.640625 \r\nL 17.4375 51.859375 \r\nL 27.546875 51.859375 \r\nL 27.546875 45.015625 \r\nL 17.4375 45.015625 \r\nL 17.4375 0 \r\nz\r\n\" id=\"ArialMT-102\"/>\r\n     </defs>\r\n     <use xlink:href=\"#ArialMT-108\"/>\r\n     <use x=\"22.216797\" xlink:href=\"#ArialMT-105\"/>\r\n     <use x=\"44.433594\" xlink:href=\"#ArialMT-102\"/>\r\n     <use x=\"72.216797\" xlink:href=\"#ArialMT-101\"/>\r\n    </g>\r\n   </g>\r\n   <g id=\"text_3\">\r\n    <!-- gdp -->\r\n    <g style=\"fill:#262626;\" transform=\"translate(223.044705 274.926996)scale(0.12 -0.12)\">\r\n     <defs>\r\n      <path d=\"M 4.984375 -4.296875 \r\nL 13.53125 -5.5625 \r\nQ 14.0625 -9.515625 16.5 -11.328125 \r\nQ 19.78125 -13.765625 25.4375 -13.765625 \r\nQ 31.546875 -13.765625 34.859375 -11.328125 \r\nQ 38.1875 -8.890625 39.359375 -4.5 \r\nQ 40.046875 -1.8125 39.984375 6.78125 \r\nQ 34.234375 0 25.640625 0 \r\nQ 14.9375 0 9.078125 7.71875 \r\nQ 3.21875 15.4375 3.21875 26.21875 \r\nQ 3.21875 33.640625 5.90625 39.90625 \r\nQ 8.59375 46.1875 13.6875 49.609375 \r\nQ 18.796875 53.03125 25.6875 53.03125 \r\nQ 34.859375 53.03125 40.828125 45.609375 \r\nL 40.828125 51.859375 \r\nL 48.921875 51.859375 \r\nL 48.921875 7.03125 \r\nQ 48.921875 -5.078125 46.453125 -10.125 \r\nQ 44 -15.1875 38.640625 -18.109375 \r\nQ 33.296875 -21.046875 25.484375 -21.046875 \r\nQ 16.21875 -21.046875 10.5 -16.875 \r\nQ 4.78125 -12.703125 4.984375 -4.296875 \r\nz\r\nM 12.25 26.859375 \r\nQ 12.25 16.65625 16.296875 11.96875 \r\nQ 20.359375 7.28125 26.46875 7.28125 \r\nQ 32.515625 7.28125 36.609375 11.9375 \r\nQ 40.71875 16.609375 40.71875 26.5625 \r\nQ 40.71875 36.078125 36.5 40.90625 \r\nQ 32.28125 45.75 26.3125 45.75 \r\nQ 20.453125 45.75 16.34375 40.984375 \r\nQ 12.25 36.234375 12.25 26.859375 \r\nz\r\n\" id=\"ArialMT-103\"/>\r\n      <path d=\"M 40.234375 0 \r\nL 40.234375 6.546875 \r\nQ 35.296875 -1.171875 25.734375 -1.171875 \r\nQ 19.53125 -1.171875 14.328125 2.25 \r\nQ 9.125 5.671875 6.265625 11.796875 \r\nQ 3.421875 17.921875 3.421875 25.875 \r\nQ 3.421875 33.640625 6 39.96875 \r\nQ 8.59375 46.296875 13.765625 49.65625 \r\nQ 18.953125 53.03125 25.34375 53.03125 \r\nQ 30.03125 53.03125 33.6875 51.046875 \r\nQ 37.359375 49.078125 39.65625 45.90625 \r\nL 39.65625 71.578125 \r\nL 48.390625 71.578125 \r\nL 48.390625 0 \r\nz\r\nM 12.453125 25.875 \r\nQ 12.453125 15.921875 16.640625 10.984375 \r\nQ 20.84375 6.0625 26.5625 6.0625 \r\nQ 32.328125 6.0625 36.34375 10.765625 \r\nQ 40.375 15.484375 40.375 25.140625 \r\nQ 40.375 35.796875 36.265625 40.765625 \r\nQ 32.171875 45.75 26.171875 45.75 \r\nQ 20.3125 45.75 16.375 40.96875 \r\nQ 12.453125 36.1875 12.453125 25.875 \r\nz\r\n\" id=\"ArialMT-100\"/>\r\n     </defs>\r\n     <use xlink:href=\"#ArialMT-103\"/>\r\n     <use x=\"55.615234\" xlink:href=\"#ArialMT-100\"/>\r\n     <use x=\"111.230469\" xlink:href=\"#ArialMT-112\"/>\r\n    </g>\r\n   </g>\r\n  </g>\r\n </g>\r\n <defs>\r\n  <clipPath id=\"p125895b5c8\">\r\n   <rect height=\"271.8\" width=\"351.744705\" x=\"7.2\" y=\"7.2\"/>\r\n  </clipPath>\r\n </defs>\r\n</svg>\r\n",
      "image/png": "[encoded data removed]"
     },
     "metadata": {}
    },
    {
     "output_type": "display_data",
     "data": {
      "text/plain": "<Figure size 720x360 with 1 Axes>",
      "image/svg+xml": "<?xml version=\"1.0\" encoding=\"utf-8\" standalone=\"no\"?>\r\n<!DOCTYPE svg PUBLIC \"-//W3C//DTD SVG 1.1//EN\"\r\n  \"http://www.w3.org/Graphics/SVG/1.1/DTD/svg11.dtd\">\r\n<!-- Created with matplotlib (https://matplotlib.org/) -->\r\n<svg height=\"286.2pt\" version=\"1.1\" viewBox=\"0 0 366.144705 286.2\" width=\"366.144705pt\" xmlns=\"http://www.w3.org/2000/svg\" xmlns:xlink=\"http://www.w3.org/1999/xlink\">\r\n <metadata>\r\n  <rdf:RDF xmlns:cc=\"http://creativecommons.org/ns#\" xmlns:dc=\"http://purl.org/dc/elements/1.1/\" xmlns:rdf=\"http://www.w3.org/1999/02/22-rdf-syntax-ns#\">\r\n   <cc:Work>\r\n    <dc:type rdf:resource=\"http://purl.org/dc/dcmitype/StillImage\"/>\r\n    <dc:date>2021-04-11T11:43:16.121410</dc:date>\r\n    <dc:format>image/svg+xml</dc:format>\r\n    <dc:creator>\r\n     <cc:Agent>\r\n      <dc:title>Matplotlib v3.3.2, https://matplotlib.org/</dc:title>\r\n     </cc:Agent>\r\n    </dc:creator>\r\n   </cc:Work>\r\n  </rdf:RDF>\r\n </metadata>\r\n <defs>\r\n  <style type=\"text/css\">*{stroke-linecap:butt;stroke-linejoin:round;}</style>\r\n </defs>\r\n <g id=\"figure_1\">\r\n  <g id=\"patch_1\">\r\n   <path d=\"M 0 286.2 \r\nL 366.144705 286.2 \r\nL 366.144705 0 \r\nL 0 0 \r\nz\r\n\" style=\"fill:#ffffff;\"/>\r\n  </g>\r\n  <g id=\"axes_1\">\r\n   <g id=\"patch_2\">\r\n    <path clip-path=\"url(#p6469410534)\" d=\"M 183.072352 247.760753 \r\nC 161.878045 239.666159 143.634273 225.321449 130.768129 206.634997 \r\nC 117.901986 187.948545 111.010504 165.787466 111.010504 143.1 \r\nC 111.010504 120.412534 117.901986 98.251455 130.768129 79.565003 \r\nC 143.634273 60.878551 161.878045 46.533841 183.072352 38.439247 \r\nC 166.108452 31.960343 147.820976 29.701919 129.790548 31.859177 \r\nC 111.76012 34.016435 94.521618 40.525378 79.565003 50.823425 \r\nC 64.608388 61.121471 52.377352 74.903127 43.92905 90.977214 \r\nC 35.480747 107.051302 31.065799 124.940977 31.065799 143.1 \r\nC 31.065799 161.259023 35.480747 179.148698 43.92905 195.222786 \r\nC 52.377352 211.296873 64.608388 225.078529 79.565003 235.376575 \r\nC 94.521618 245.674622 111.76012 252.183565 129.790548 254.340823 \r\nC 147.820976 256.498081 166.108452 254.239657 183.072352 247.760753 \r\n\" style=\"fill:#ff0000;opacity:0.4;\"/>\r\n   </g>\r\n   <g id=\"patch_3\">\r\n    <path clip-path=\"url(#p6469410534)\" d=\"M 183.072352 38.439247 \r\nC 204.26666 46.533841 222.510432 60.878551 235.376575 79.565003 \r\nC 248.242719 98.251455 255.134201 120.412534 255.134201 143.1 \r\nC 255.134201 165.787466 248.242719 187.948545 235.376575 206.634997 \r\nC 222.510432 225.321449 204.26666 239.666159 183.072352 247.760753 \r\nC 200.036253 254.239657 218.323729 256.498081 236.354157 254.340823 \r\nC 254.384585 252.183565 271.623086 245.674622 286.579702 235.376575 \r\nC 301.536317 225.078529 313.767352 211.296873 322.215655 195.222786 \r\nC 330.663958 179.148698 335.078906 161.259023 335.078906 143.1 \r\nC 335.078906 124.940977 330.663958 107.051302 322.215655 90.977214 \r\nC 313.767352 74.903127 301.536317 61.121471 286.579702 50.823425 \r\nC 271.623086 40.525378 254.384585 34.016435 236.354157 31.859177 \r\nC 218.323729 29.701919 200.036253 31.960343 183.072352 38.439247 \r\n\" style=\"fill:#008000;opacity:0.4;\"/>\r\n   </g>\r\n   <g id=\"patch_4\">\r\n    <path clip-path=\"url(#p6469410534)\" d=\"M 183.072352 247.760753 \r\nC 204.26666 239.666159 222.510432 225.321449 235.376575 206.634997 \r\nC 248.242719 187.948545 255.134201 165.787466 255.134201 143.1 \r\nC 255.134201 120.412534 248.242719 98.251455 235.376575 79.565003 \r\nC 222.510432 60.878551 204.26666 46.533841 183.072352 38.439247 \r\nC 161.878045 46.533841 143.634273 60.878551 130.768129 79.565003 \r\nC 117.901986 98.251455 111.010504 120.412534 111.010504 143.1 \r\nC 111.010504 165.787466 117.901986 187.948545 130.768129 206.634997 \r\nC 143.634273 225.321449 161.878045 239.666159 183.072352 247.760753 \r\n\" style=\"fill:#b25900;opacity:0.4;\"/>\r\n   </g>\r\n   <g id=\"text_1\">\r\n    <!-- overlap -->\r\n    <g style=\"fill:#262626;\" transform=\"translate(166.674696 145.685156)scale(0.1 -0.1)\">\r\n     <defs>\r\n      <path d=\"M 3.328125 25.921875 \r\nQ 3.328125 40.328125 11.328125 47.265625 \r\nQ 18.015625 53.03125 27.640625 53.03125 \r\nQ 38.328125 53.03125 45.109375 46.015625 \r\nQ 51.90625 39.015625 51.90625 26.65625 \r\nQ 51.90625 16.65625 48.90625 10.90625 \r\nQ 45.90625 5.171875 40.15625 2 \r\nQ 34.421875 -1.171875 27.640625 -1.171875 \r\nQ 16.75 -1.171875 10.03125 5.8125 \r\nQ 3.328125 12.796875 3.328125 25.921875 \r\nz\r\nM 12.359375 25.921875 \r\nQ 12.359375 15.96875 16.703125 11.015625 \r\nQ 21.046875 6.0625 27.640625 6.0625 \r\nQ 34.1875 6.0625 38.53125 11.03125 \r\nQ 42.875 16.015625 42.875 26.21875 \r\nQ 42.875 35.84375 38.5 40.796875 \r\nQ 34.125 45.75 27.640625 45.75 \r\nQ 21.046875 45.75 16.703125 40.8125 \r\nQ 12.359375 35.890625 12.359375 25.921875 \r\nz\r\n\" id=\"ArialMT-111\"/>\r\n      <path d=\"M 21 0 \r\nL 1.265625 51.859375 \r\nL 10.546875 51.859375 \r\nL 21.6875 20.796875 \r\nQ 23.484375 15.765625 25 10.359375 \r\nQ 26.171875 14.453125 28.265625 20.21875 \r\nL 39.796875 51.859375 \r\nL 48.828125 51.859375 \r\nL 29.203125 0 \r\nz\r\n\" id=\"ArialMT-118\"/>\r\n      <path d=\"M 42.09375 16.703125 \r\nL 51.171875 15.578125 \r\nQ 49.03125 7.625 43.21875 3.21875 \r\nQ 37.40625 -1.171875 28.375 -1.171875 \r\nQ 17 -1.171875 10.328125 5.828125 \r\nQ 3.65625 12.84375 3.65625 25.484375 \r\nQ 3.65625 38.578125 10.390625 45.796875 \r\nQ 17.140625 53.03125 27.875 53.03125 \r\nQ 38.28125 53.03125 44.875 45.953125 \r\nQ 51.46875 38.875 51.46875 26.03125 \r\nQ 51.46875 25.25 51.421875 23.6875 \r\nL 12.75 23.6875 \r\nQ 13.234375 15.140625 17.578125 10.59375 \r\nQ 21.921875 6.0625 28.421875 6.0625 \r\nQ 33.25 6.0625 36.671875 8.59375 \r\nQ 40.09375 11.140625 42.09375 16.703125 \r\nz\r\nM 13.234375 30.90625 \r\nL 42.1875 30.90625 \r\nQ 41.609375 37.453125 38.875 40.71875 \r\nQ 34.671875 45.796875 27.984375 45.796875 \r\nQ 21.921875 45.796875 17.796875 41.75 \r\nQ 13.671875 37.703125 13.234375 30.90625 \r\nz\r\n\" id=\"ArialMT-101\"/>\r\n      <path d=\"M 6.5 0 \r\nL 6.5 51.859375 \r\nL 14.40625 51.859375 \r\nL 14.40625 44 \r\nQ 17.4375 49.515625 20 51.265625 \r\nQ 22.5625 53.03125 25.640625 53.03125 \r\nQ 30.078125 53.03125 34.671875 50.203125 \r\nL 31.640625 42.046875 \r\nQ 28.421875 43.953125 25.203125 43.953125 \r\nQ 22.3125 43.953125 20.015625 42.21875 \r\nQ 17.71875 40.484375 16.75 37.40625 \r\nQ 15.28125 32.71875 15.28125 27.15625 \r\nL 15.28125 0 \r\nz\r\n\" id=\"ArialMT-114\"/>\r\n      <path d=\"M 6.390625 0 \r\nL 6.390625 71.578125 \r\nL 15.1875 71.578125 \r\nL 15.1875 0 \r\nz\r\n\" id=\"ArialMT-108\"/>\r\n      <path d=\"M 40.4375 6.390625 \r\nQ 35.546875 2.25 31.03125 0.53125 \r\nQ 26.515625 -1.171875 21.34375 -1.171875 \r\nQ 12.796875 -1.171875 8.203125 3 \r\nQ 3.609375 7.171875 3.609375 13.671875 \r\nQ 3.609375 17.484375 5.34375 20.625 \r\nQ 7.078125 23.78125 9.890625 25.6875 \r\nQ 12.703125 27.59375 16.21875 28.5625 \r\nQ 18.796875 29.25 24.03125 29.890625 \r\nQ 34.671875 31.15625 39.703125 32.90625 \r\nQ 39.75 34.71875 39.75 35.203125 \r\nQ 39.75 40.578125 37.25 42.78125 \r\nQ 33.890625 45.75 27.25 45.75 \r\nQ 21.046875 45.75 18.09375 43.578125 \r\nQ 15.140625 41.40625 13.71875 35.890625 \r\nL 5.125 37.0625 \r\nQ 6.296875 42.578125 8.984375 45.96875 \r\nQ 11.671875 49.359375 16.75 51.1875 \r\nQ 21.828125 53.03125 28.515625 53.03125 \r\nQ 35.15625 53.03125 39.296875 51.46875 \r\nQ 43.453125 49.90625 45.40625 47.53125 \r\nQ 47.359375 45.171875 48.140625 41.546875 \r\nQ 48.578125 39.3125 48.578125 33.453125 \r\nL 48.578125 21.734375 \r\nQ 48.578125 9.46875 49.140625 6.21875 \r\nQ 49.703125 2.984375 51.375 0 \r\nL 42.1875 0 \r\nQ 40.828125 2.734375 40.4375 6.390625 \r\nz\r\nM 39.703125 26.03125 \r\nQ 34.90625 24.078125 25.34375 22.703125 \r\nQ 19.921875 21.921875 17.671875 20.9375 \r\nQ 15.4375 19.96875 14.203125 18.09375 \r\nQ 12.984375 16.21875 12.984375 13.921875 \r\nQ 12.984375 10.40625 15.640625 8.0625 \r\nQ 18.3125 5.71875 23.4375 5.71875 \r\nQ 28.515625 5.71875 32.46875 7.9375 \r\nQ 36.421875 10.15625 38.28125 14.015625 \r\nQ 39.703125 17 39.703125 22.796875 \r\nz\r\n\" id=\"ArialMT-97\"/>\r\n      <path d=\"M 6.59375 -19.875 \r\nL 6.59375 51.859375 \r\nL 14.59375 51.859375 \r\nL 14.59375 45.125 \r\nQ 17.4375 49.078125 21 51.046875 \r\nQ 24.5625 53.03125 29.640625 53.03125 \r\nQ 36.28125 53.03125 41.359375 49.609375 \r\nQ 46.4375 46.1875 49.015625 39.953125 \r\nQ 51.609375 33.734375 51.609375 26.3125 \r\nQ 51.609375 18.359375 48.75 11.984375 \r\nQ 45.90625 5.609375 40.453125 2.21875 \r\nQ 35.015625 -1.171875 29 -1.171875 \r\nQ 24.609375 -1.171875 21.109375 0.6875 \r\nQ 17.625 2.546875 15.375 5.375 \r\nL 15.375 -19.875 \r\nz\r\nM 14.546875 25.640625 \r\nQ 14.546875 15.625 18.59375 10.84375 \r\nQ 22.65625 6.0625 28.421875 6.0625 \r\nQ 34.28125 6.0625 38.453125 11.015625 \r\nQ 42.625 15.96875 42.625 26.375 \r\nQ 42.625 36.28125 38.546875 41.203125 \r\nQ 34.46875 46.140625 28.8125 46.140625 \r\nQ 23.1875 46.140625 18.859375 40.890625 \r\nQ 14.546875 35.640625 14.546875 25.640625 \r\nz\r\n\" id=\"ArialMT-112\"/>\r\n     </defs>\r\n     <use xlink:href=\"#ArialMT-111\"/>\r\n     <use x=\"55.615234\" xlink:href=\"#ArialMT-118\"/>\r\n     <use x=\"105.615234\" xlink:href=\"#ArialMT-101\"/>\r\n     <use x=\"161.230469\" xlink:href=\"#ArialMT-114\"/>\r\n     <use x=\"194.53125\" xlink:href=\"#ArialMT-108\"/>\r\n     <use x=\"216.748047\" xlink:href=\"#ArialMT-97\"/>\r\n     <use x=\"272.363281\" xlink:href=\"#ArialMT-112\"/>\r\n    </g>\r\n   </g>\r\n   <g id=\"text_2\">\r\n    <!-- life -->\r\n    <g style=\"fill:#262626;\" transform=\"translate(127.760625 274.926996)scale(0.12 -0.12)\">\r\n     <defs>\r\n      <path d=\"M 6.640625 61.46875 \r\nL 6.640625 71.578125 \r\nL 15.4375 71.578125 \r\nL 15.4375 61.46875 \r\nz\r\nM 6.640625 0 \r\nL 6.640625 51.859375 \r\nL 15.4375 51.859375 \r\nL 15.4375 0 \r\nz\r\n\" id=\"ArialMT-105\"/>\r\n      <path d=\"M 8.6875 0 \r\nL 8.6875 45.015625 \r\nL 0.921875 45.015625 \r\nL 0.921875 51.859375 \r\nL 8.6875 51.859375 \r\nL 8.6875 57.375 \r\nQ 8.6875 62.59375 9.625 65.140625 \r\nQ 10.890625 68.5625 14.078125 70.671875 \r\nQ 17.28125 72.796875 23.046875 72.796875 \r\nQ 26.765625 72.796875 31.25 71.921875 \r\nL 29.9375 64.265625 \r\nQ 27.203125 64.75 24.75 64.75 \r\nQ 20.75 64.75 19.09375 63.03125 \r\nQ 17.4375 61.328125 17.4375 56.640625 \r\nL 17.4375 51.859375 \r\nL 27.546875 51.859375 \r\nL 27.546875 45.015625 \r\nL 17.4375 45.015625 \r\nL 17.4375 0 \r\nz\r\n\" id=\"ArialMT-102\"/>\r\n     </defs>\r\n     <use xlink:href=\"#ArialMT-108\"/>\r\n     <use x=\"22.216797\" xlink:href=\"#ArialMT-105\"/>\r\n     <use x=\"44.433594\" xlink:href=\"#ArialMT-102\"/>\r\n     <use x=\"72.216797\" xlink:href=\"#ArialMT-101\"/>\r\n    </g>\r\n   </g>\r\n   <g id=\"text_3\">\r\n    <!-- pop -->\r\n    <g style=\"fill:#262626;\" transform=\"translate(223.044705 274.926996)scale(0.12 -0.12)\">\r\n     <use xlink:href=\"#ArialMT-112\"/>\r\n     <use x=\"55.615234\" xlink:href=\"#ArialMT-111\"/>\r\n     <use x=\"111.230469\" xlink:href=\"#ArialMT-112\"/>\r\n    </g>\r\n   </g>\r\n  </g>\r\n </g>\r\n <defs>\r\n  <clipPath id=\"p6469410534\">\r\n   <rect height=\"271.8\" width=\"351.744705\" x=\"7.2\" y=\"7.2\"/>\r\n  </clipPath>\r\n </defs>\r\n</svg>\r\n",
      "image/png": "[encoded data removed]"
     },
     "metadata": {}
    },
    {
     "output_type": "display_data",
     "data": {
      "text/plain": "<Figure size 720x360 with 1 Axes>",
      "image/svg+xml": "<?xml version=\"1.0\" encoding=\"utf-8\" standalone=\"no\"?>\r\n<!DOCTYPE svg PUBLIC \"-//W3C//DTD SVG 1.1//EN\"\r\n  \"http://www.w3.org/Graphics/SVG/1.1/DTD/svg11.dtd\">\r\n<!-- Created with matplotlib (https://matplotlib.org/) -->\r\n<svg height=\"286.2pt\" version=\"1.1\" viewBox=\"0 0 337.425953 286.2\" width=\"337.425953pt\" xmlns=\"http://www.w3.org/2000/svg\" xmlns:xlink=\"http://www.w3.org/1999/xlink\">\r\n <metadata>\r\n  <rdf:RDF xmlns:cc=\"http://creativecommons.org/ns#\" xmlns:dc=\"http://purl.org/dc/elements/1.1/\" xmlns:rdf=\"http://www.w3.org/1999/02/22-rdf-syntax-ns#\">\r\n   <cc:Work>\r\n    <dc:type rdf:resource=\"http://purl.org/dc/dcmitype/StillImage\"/>\r\n    <dc:date>2021-04-11T11:43:16.272000</dc:date>\r\n    <dc:format>image/svg+xml</dc:format>\r\n    <dc:creator>\r\n     <cc:Agent>\r\n      <dc:title>Matplotlib v3.3.2, https://matplotlib.org/</dc:title>\r\n     </cc:Agent>\r\n    </dc:creator>\r\n   </cc:Work>\r\n  </rdf:RDF>\r\n </metadata>\r\n <defs>\r\n  <style type=\"text/css\">*{stroke-linecap:butt;stroke-linejoin:round;}</style>\r\n </defs>\r\n <g id=\"figure_1\">\r\n  <g id=\"patch_1\">\r\n   <path d=\"M 0 286.2 \r\nL 337.425953 286.2 \r\nL 337.425953 0 \r\nL 0 0 \r\nz\r\n\" style=\"fill:#ffffff;\"/>\r\n  </g>\r\n  <g id=\"axes_1\">\r\n   <g id=\"patch_2\">\r\n    <path clip-path=\"url(#pcfc6e7de5a)\" d=\"M 168.712977 253.32101 \r\nC 143.822499 247.537002 121.610455 233.488841 105.71725 213.478927 \r\nC 89.824045 193.469013 81.168118 168.653681 81.168118 143.1 \r\nC 81.168118 117.546319 89.824045 92.730987 105.71725 72.721073 \r\nC 121.610455 52.711159 143.822499 38.662998 168.712977 32.87899 \r\nC 152.118555 29.022805 134.865538 28.963528 118.24501 32.705593 \r\nC 101.624482 36.447658 86.061635 43.895335 72.721073 54.491297 \r\nC 59.380511 65.087258 48.603517 78.560436 41.196559 93.902598 \r\nC 33.7896 109.244761 29.942165 126.063422 29.942165 143.1 \r\nC 29.942165 160.136578 33.7896 176.955239 41.196559 192.297402 \r\nC 48.603517 207.639564 59.380511 221.112742 72.721073 231.708703 \r\nC 86.061635 242.304665 101.624482 249.752342 118.24501 253.494407 \r\nC 134.865538 257.236472 152.118555 257.177195 168.712977 253.32101 \r\n\" style=\"fill:#ff0000;opacity:0.4;\"/>\r\n   </g>\r\n   <g id=\"patch_3\">\r\n    <path clip-path=\"url(#pcfc6e7de5a)\" d=\"M 168.712977 32.87899 \r\nC 193.603454 38.662998 215.815499 52.711159 231.708703 72.721073 \r\nC 247.601908 92.730987 256.257835 117.546319 256.257835 143.1 \r\nC 256.257835 168.653681 247.601908 193.469013 231.708703 213.478927 \r\nC 215.815499 233.488841 193.603454 247.537002 168.712977 253.32101 \r\nC 185.307398 257.177195 202.560416 257.236472 219.180943 253.494407 \r\nC 235.801471 249.752342 251.364318 242.304665 264.70488 231.708703 \r\nC 278.045442 221.112742 288.822436 207.639564 296.229394 192.297402 \r\nC 303.636353 176.955239 307.483788 160.136578 307.483788 143.1 \r\nC 307.483788 126.063422 303.636353 109.244761 296.229394 93.902598 \r\nC 288.822436 78.560436 278.045442 65.087258 264.70488 54.491297 \r\nC 251.364318 43.895335 235.801471 36.447658 219.180943 32.705593 \r\nC 202.560416 28.963528 185.307398 29.022805 168.712977 32.87899 \r\n\" style=\"fill:#008000;opacity:0.4;\"/>\r\n   </g>\r\n   <g id=\"patch_4\">\r\n    <path clip-path=\"url(#pcfc6e7de5a)\" d=\"M 168.712977 253.32101 \r\nC 193.603454 247.537002 215.815499 233.488841 231.708703 213.478927 \r\nC 247.601908 193.469013 256.257835 168.653681 256.257835 143.1 \r\nC 256.257835 117.546319 247.601908 92.730987 231.708703 72.721073 \r\nC 215.815499 52.711159 193.603454 38.662998 168.712977 32.87899 \r\nC 143.822499 38.662998 121.610455 52.711159 105.71725 72.721073 \r\nC 89.824045 92.730987 81.168118 117.546319 81.168118 143.1 \r\nC 81.168118 168.653681 89.824045 193.469013 105.71725 213.478927 \r\nC 121.610455 233.488841 143.822499 247.537002 168.712977 253.32101 \r\n\" style=\"fill:#b25900;opacity:0.4;\"/>\r\n   </g>\r\n   <g id=\"text_1\">\r\n    <!-- overlap -->\r\n    <g style=\"fill:#262626;\" transform=\"translate(152.31532 145.685156)scale(0.1 -0.1)\">\r\n     <defs>\r\n      <path d=\"M 3.328125 25.921875 \r\nQ 3.328125 40.328125 11.328125 47.265625 \r\nQ 18.015625 53.03125 27.640625 53.03125 \r\nQ 38.328125 53.03125 45.109375 46.015625 \r\nQ 51.90625 39.015625 51.90625 26.65625 \r\nQ 51.90625 16.65625 48.90625 10.90625 \r\nQ 45.90625 5.171875 40.15625 2 \r\nQ 34.421875 -1.171875 27.640625 -1.171875 \r\nQ 16.75 -1.171875 10.03125 5.8125 \r\nQ 3.328125 12.796875 3.328125 25.921875 \r\nz\r\nM 12.359375 25.921875 \r\nQ 12.359375 15.96875 16.703125 11.015625 \r\nQ 21.046875 6.0625 27.640625 6.0625 \r\nQ 34.1875 6.0625 38.53125 11.03125 \r\nQ 42.875 16.015625 42.875 26.21875 \r\nQ 42.875 35.84375 38.5 40.796875 \r\nQ 34.125 45.75 27.640625 45.75 \r\nQ 21.046875 45.75 16.703125 40.8125 \r\nQ 12.359375 35.890625 12.359375 25.921875 \r\nz\r\n\" id=\"ArialMT-111\"/>\r\n      <path d=\"M 21 0 \r\nL 1.265625 51.859375 \r\nL 10.546875 51.859375 \r\nL 21.6875 20.796875 \r\nQ 23.484375 15.765625 25 10.359375 \r\nQ 26.171875 14.453125 28.265625 20.21875 \r\nL 39.796875 51.859375 \r\nL 48.828125 51.859375 \r\nL 29.203125 0 \r\nz\r\n\" id=\"ArialMT-118\"/>\r\n      <path d=\"M 42.09375 16.703125 \r\nL 51.171875 15.578125 \r\nQ 49.03125 7.625 43.21875 3.21875 \r\nQ 37.40625 -1.171875 28.375 -1.171875 \r\nQ 17 -1.171875 10.328125 5.828125 \r\nQ 3.65625 12.84375 3.65625 25.484375 \r\nQ 3.65625 38.578125 10.390625 45.796875 \r\nQ 17.140625 53.03125 27.875 53.03125 \r\nQ 38.28125 53.03125 44.875 45.953125 \r\nQ 51.46875 38.875 51.46875 26.03125 \r\nQ 51.46875 25.25 51.421875 23.6875 \r\nL 12.75 23.6875 \r\nQ 13.234375 15.140625 17.578125 10.59375 \r\nQ 21.921875 6.0625 28.421875 6.0625 \r\nQ 33.25 6.0625 36.671875 8.59375 \r\nQ 40.09375 11.140625 42.09375 16.703125 \r\nz\r\nM 13.234375 30.90625 \r\nL 42.1875 30.90625 \r\nQ 41.609375 37.453125 38.875 40.71875 \r\nQ 34.671875 45.796875 27.984375 45.796875 \r\nQ 21.921875 45.796875 17.796875 41.75 \r\nQ 13.671875 37.703125 13.234375 30.90625 \r\nz\r\n\" id=\"ArialMT-101\"/>\r\n      <path d=\"M 6.5 0 \r\nL 6.5 51.859375 \r\nL 14.40625 51.859375 \r\nL 14.40625 44 \r\nQ 17.4375 49.515625 20 51.265625 \r\nQ 22.5625 53.03125 25.640625 53.03125 \r\nQ 30.078125 53.03125 34.671875 50.203125 \r\nL 31.640625 42.046875 \r\nQ 28.421875 43.953125 25.203125 43.953125 \r\nQ 22.3125 43.953125 20.015625 42.21875 \r\nQ 17.71875 40.484375 16.75 37.40625 \r\nQ 15.28125 32.71875 15.28125 27.15625 \r\nL 15.28125 0 \r\nz\r\n\" id=\"ArialMT-114\"/>\r\n      <path d=\"M 6.390625 0 \r\nL 6.390625 71.578125 \r\nL 15.1875 71.578125 \r\nL 15.1875 0 \r\nz\r\n\" id=\"ArialMT-108\"/>\r\n      <path d=\"M 40.4375 6.390625 \r\nQ 35.546875 2.25 31.03125 0.53125 \r\nQ 26.515625 -1.171875 21.34375 -1.171875 \r\nQ 12.796875 -1.171875 8.203125 3 \r\nQ 3.609375 7.171875 3.609375 13.671875 \r\nQ 3.609375 17.484375 5.34375 20.625 \r\nQ 7.078125 23.78125 9.890625 25.6875 \r\nQ 12.703125 27.59375 16.21875 28.5625 \r\nQ 18.796875 29.25 24.03125 29.890625 \r\nQ 34.671875 31.15625 39.703125 32.90625 \r\nQ 39.75 34.71875 39.75 35.203125 \r\nQ 39.75 40.578125 37.25 42.78125 \r\nQ 33.890625 45.75 27.25 45.75 \r\nQ 21.046875 45.75 18.09375 43.578125 \r\nQ 15.140625 41.40625 13.71875 35.890625 \r\nL 5.125 37.0625 \r\nQ 6.296875 42.578125 8.984375 45.96875 \r\nQ 11.671875 49.359375 16.75 51.1875 \r\nQ 21.828125 53.03125 28.515625 53.03125 \r\nQ 35.15625 53.03125 39.296875 51.46875 \r\nQ 43.453125 49.90625 45.40625 47.53125 \r\nQ 47.359375 45.171875 48.140625 41.546875 \r\nQ 48.578125 39.3125 48.578125 33.453125 \r\nL 48.578125 21.734375 \r\nQ 48.578125 9.46875 49.140625 6.21875 \r\nQ 49.703125 2.984375 51.375 0 \r\nL 42.1875 0 \r\nQ 40.828125 2.734375 40.4375 6.390625 \r\nz\r\nM 39.703125 26.03125 \r\nQ 34.90625 24.078125 25.34375 22.703125 \r\nQ 19.921875 21.921875 17.671875 20.9375 \r\nQ 15.4375 19.96875 14.203125 18.09375 \r\nQ 12.984375 16.21875 12.984375 13.921875 \r\nQ 12.984375 10.40625 15.640625 8.0625 \r\nQ 18.3125 5.71875 23.4375 5.71875 \r\nQ 28.515625 5.71875 32.46875 7.9375 \r\nQ 36.421875 10.15625 38.28125 14.015625 \r\nQ 39.703125 17 39.703125 22.796875 \r\nz\r\n\" id=\"ArialMT-97\"/>\r\n      <path d=\"M 6.59375 -19.875 \r\nL 6.59375 51.859375 \r\nL 14.59375 51.859375 \r\nL 14.59375 45.125 \r\nQ 17.4375 49.078125 21 51.046875 \r\nQ 24.5625 53.03125 29.640625 53.03125 \r\nQ 36.28125 53.03125 41.359375 49.609375 \r\nQ 46.4375 46.1875 49.015625 39.953125 \r\nQ 51.609375 33.734375 51.609375 26.3125 \r\nQ 51.609375 18.359375 48.75 11.984375 \r\nQ 45.90625 5.609375 40.453125 2.21875 \r\nQ 35.015625 -1.171875 29 -1.171875 \r\nQ 24.609375 -1.171875 21.109375 0.6875 \r\nQ 17.625 2.546875 15.375 5.375 \r\nL 15.375 -19.875 \r\nz\r\nM 14.546875 25.640625 \r\nQ 14.546875 15.625 18.59375 10.84375 \r\nQ 22.65625 6.0625 28.421875 6.0625 \r\nQ 34.28125 6.0625 38.453125 11.015625 \r\nQ 42.625 15.96875 42.625 26.375 \r\nQ 42.625 36.28125 38.546875 41.203125 \r\nQ 34.46875 46.140625 28.8125 46.140625 \r\nQ 23.1875 46.140625 18.859375 40.890625 \r\nQ 14.546875 35.640625 14.546875 25.640625 \r\nz\r\n\" id=\"ArialMT-112\"/>\r\n     </defs>\r\n     <use xlink:href=\"#ArialMT-111\"/>\r\n     <use x=\"55.615234\" xlink:href=\"#ArialMT-118\"/>\r\n     <use x=\"105.615234\" xlink:href=\"#ArialMT-101\"/>\r\n     <use x=\"161.230469\" xlink:href=\"#ArialMT-114\"/>\r\n     <use x=\"194.53125\" xlink:href=\"#ArialMT-108\"/>\r\n     <use x=\"216.748047\" xlink:href=\"#ArialMT-97\"/>\r\n     <use x=\"272.363281\" xlink:href=\"#ArialMT-112\"/>\r\n    </g>\r\n   </g>\r\n   <g id=\"text_2\">\r\n    <!-- life -->\r\n    <g style=\"fill:#262626;\" transform=\"translate(127.760625 276.162994)scale(0.12 -0.12)\">\r\n     <defs>\r\n      <path d=\"M 6.640625 61.46875 \r\nL 6.640625 71.578125 \r\nL 15.4375 71.578125 \r\nL 15.4375 61.46875 \r\nz\r\nM 6.640625 0 \r\nL 6.640625 51.859375 \r\nL 15.4375 51.859375 \r\nL 15.4375 0 \r\nz\r\n\" id=\"ArialMT-105\"/>\r\n      <path d=\"M 8.6875 0 \r\nL 8.6875 45.015625 \r\nL 0.921875 45.015625 \r\nL 0.921875 51.859375 \r\nL 8.6875 51.859375 \r\nL 8.6875 57.375 \r\nQ 8.6875 62.59375 9.625 65.140625 \r\nQ 10.890625 68.5625 14.078125 70.671875 \r\nQ 17.28125 72.796875 23.046875 72.796875 \r\nQ 26.765625 72.796875 31.25 71.921875 \r\nL 29.9375 64.265625 \r\nQ 27.203125 64.75 24.75 64.75 \r\nQ 20.75 64.75 19.09375 63.03125 \r\nQ 17.4375 61.328125 17.4375 56.640625 \r\nL 17.4375 51.859375 \r\nL 27.546875 51.859375 \r\nL 27.546875 45.015625 \r\nL 17.4375 45.015625 \r\nL 17.4375 0 \r\nz\r\n\" id=\"ArialMT-102\"/>\r\n     </defs>\r\n     <use xlink:href=\"#ArialMT-108\"/>\r\n     <use x=\"22.216797\" xlink:href=\"#ArialMT-105\"/>\r\n     <use x=\"44.433594\" xlink:href=\"#ArialMT-102\"/>\r\n     <use x=\"72.216797\" xlink:href=\"#ArialMT-101\"/>\r\n    </g>\r\n   </g>\r\n   <g id=\"text_3\">\r\n    <!-- education -->\r\n    <g style=\"fill:#262626;\" transform=\"translate(194.325953 276.162994)scale(0.12 -0.12)\">\r\n     <defs>\r\n      <path d=\"M 40.234375 0 \r\nL 40.234375 6.546875 \r\nQ 35.296875 -1.171875 25.734375 -1.171875 \r\nQ 19.53125 -1.171875 14.328125 2.25 \r\nQ 9.125 5.671875 6.265625 11.796875 \r\nQ 3.421875 17.921875 3.421875 25.875 \r\nQ 3.421875 33.640625 6 39.96875 \r\nQ 8.59375 46.296875 13.765625 49.65625 \r\nQ 18.953125 53.03125 25.34375 53.03125 \r\nQ 30.03125 53.03125 33.6875 51.046875 \r\nQ 37.359375 49.078125 39.65625 45.90625 \r\nL 39.65625 71.578125 \r\nL 48.390625 71.578125 \r\nL 48.390625 0 \r\nz\r\nM 12.453125 25.875 \r\nQ 12.453125 15.921875 16.640625 10.984375 \r\nQ 20.84375 6.0625 26.5625 6.0625 \r\nQ 32.328125 6.0625 36.34375 10.765625 \r\nQ 40.375 15.484375 40.375 25.140625 \r\nQ 40.375 35.796875 36.265625 40.765625 \r\nQ 32.171875 45.75 26.171875 45.75 \r\nQ 20.3125 45.75 16.375 40.96875 \r\nQ 12.453125 36.1875 12.453125 25.875 \r\nz\r\n\" id=\"ArialMT-100\"/>\r\n      <path d=\"M 40.578125 0 \r\nL 40.578125 7.625 \r\nQ 34.515625 -1.171875 24.125 -1.171875 \r\nQ 19.53125 -1.171875 15.546875 0.578125 \r\nQ 11.578125 2.34375 9.640625 5 \r\nQ 7.71875 7.671875 6.9375 11.53125 \r\nQ 6.390625 14.109375 6.390625 19.734375 \r\nL 6.390625 51.859375 \r\nL 15.1875 51.859375 \r\nL 15.1875 23.09375 \r\nQ 15.1875 16.21875 15.71875 13.8125 \r\nQ 16.546875 10.359375 19.234375 8.375 \r\nQ 21.921875 6.390625 25.875 6.390625 \r\nQ 29.828125 6.390625 33.296875 8.421875 \r\nQ 36.765625 10.453125 38.203125 13.9375 \r\nQ 39.65625 17.4375 39.65625 24.078125 \r\nL 39.65625 51.859375 \r\nL 48.4375 51.859375 \r\nL 48.4375 0 \r\nz\r\n\" id=\"ArialMT-117\"/>\r\n      <path d=\"M 40.4375 19 \r\nL 49.078125 17.875 \r\nQ 47.65625 8.9375 41.8125 3.875 \r\nQ 35.984375 -1.171875 27.484375 -1.171875 \r\nQ 16.84375 -1.171875 10.375 5.78125 \r\nQ 3.90625 12.75 3.90625 25.734375 \r\nQ 3.90625 34.125 6.6875 40.421875 \r\nQ 9.46875 46.734375 15.15625 49.875 \r\nQ 20.84375 53.03125 27.546875 53.03125 \r\nQ 35.984375 53.03125 41.359375 48.75 \r\nQ 46.734375 44.484375 48.25 36.625 \r\nL 39.703125 35.296875 \r\nQ 38.484375 40.53125 35.375 43.15625 \r\nQ 32.28125 45.796875 27.875 45.796875 \r\nQ 21.234375 45.796875 17.078125 41.03125 \r\nQ 12.9375 36.28125 12.9375 25.984375 \r\nQ 12.9375 15.53125 16.9375 10.796875 \r\nQ 20.953125 6.0625 27.390625 6.0625 \r\nQ 32.5625 6.0625 36.03125 9.234375 \r\nQ 39.5 12.40625 40.4375 19 \r\nz\r\n\" id=\"ArialMT-99\"/>\r\n      <path d=\"M 25.78125 7.859375 \r\nL 27.046875 0.09375 \r\nQ 23.34375 -0.6875 20.40625 -0.6875 \r\nQ 15.625 -0.6875 12.984375 0.828125 \r\nQ 10.359375 2.34375 9.28125 4.8125 \r\nQ 8.203125 7.28125 8.203125 15.1875 \r\nL 8.203125 45.015625 \r\nL 1.765625 45.015625 \r\nL 1.765625 51.859375 \r\nL 8.203125 51.859375 \r\nL 8.203125 64.703125 \r\nL 16.9375 69.96875 \r\nL 16.9375 51.859375 \r\nL 25.78125 51.859375 \r\nL 25.78125 45.015625 \r\nL 16.9375 45.015625 \r\nL 16.9375 14.703125 \r\nQ 16.9375 10.9375 17.40625 9.859375 \r\nQ 17.875 8.796875 18.921875 8.15625 \r\nQ 19.96875 7.515625 21.921875 7.515625 \r\nQ 23.390625 7.515625 25.78125 7.859375 \r\nz\r\n\" id=\"ArialMT-116\"/>\r\n      <path d=\"M 6.59375 0 \r\nL 6.59375 51.859375 \r\nL 14.5 51.859375 \r\nL 14.5 44.484375 \r\nQ 20.21875 53.03125 31 53.03125 \r\nQ 35.6875 53.03125 39.625 51.34375 \r\nQ 43.5625 49.65625 45.515625 46.921875 \r\nQ 47.46875 44.1875 48.25 40.4375 \r\nQ 48.734375 37.984375 48.734375 31.890625 \r\nL 48.734375 0 \r\nL 39.9375 0 \r\nL 39.9375 31.546875 \r\nQ 39.9375 36.921875 38.90625 39.578125 \r\nQ 37.890625 42.234375 35.28125 43.8125 \r\nQ 32.671875 45.40625 29.15625 45.40625 \r\nQ 23.53125 45.40625 19.453125 41.84375 \r\nQ 15.375 38.28125 15.375 28.328125 \r\nL 15.375 0 \r\nz\r\n\" id=\"ArialMT-110\"/>\r\n     </defs>\r\n     <use xlink:href=\"#ArialMT-101\"/>\r\n     <use x=\"55.615234\" xlink:href=\"#ArialMT-100\"/>\r\n     <use x=\"111.230469\" xlink:href=\"#ArialMT-117\"/>\r\n     <use x=\"166.845703\" xlink:href=\"#ArialMT-99\"/>\r\n     <use x=\"216.845703\" xlink:href=\"#ArialMT-97\"/>\r\n     <use x=\"272.460938\" xlink:href=\"#ArialMT-116\"/>\r\n     <use x=\"300.244141\" xlink:href=\"#ArialMT-105\"/>\r\n     <use x=\"322.460938\" xlink:href=\"#ArialMT-111\"/>\r\n     <use x=\"378.076172\" xlink:href=\"#ArialMT-110\"/>\r\n    </g>\r\n   </g>\r\n  </g>\r\n </g>\r\n <defs>\r\n  <clipPath id=\"pcfc6e7de5a\">\r\n   <rect height=\"271.8\" width=\"323.025953\" x=\"7.2\" y=\"7.2\"/>\r\n  </clipPath>\r\n </defs>\r\n</svg>\r\n",
      "image/png": "[encoded data removed]"
     },
     "metadata": {}
    },
    {
     "output_type": "display_data",
     "data": {
      "text/plain": "<Figure size 720x360 with 1 Axes>",
      "image/svg+xml": "<?xml version=\"1.0\" encoding=\"utf-8\" standalone=\"no\"?>\r\n<!DOCTYPE svg PUBLIC \"-//W3C//DTD SVG 1.1//EN\"\r\n  \"http://www.w3.org/Graphics/SVG/1.1/DTD/svg11.dtd\">\r\n<!-- Created with matplotlib (https://matplotlib.org/) -->\r\n<svg height=\"286.2pt\" version=\"1.1\" viewBox=\"0 0 366.144705 286.2\" width=\"366.144705pt\" xmlns=\"http://www.w3.org/2000/svg\" xmlns:xlink=\"http://www.w3.org/1999/xlink\">\r\n <metadata>\r\n  <rdf:RDF xmlns:cc=\"http://creativecommons.org/ns#\" xmlns:dc=\"http://purl.org/dc/elements/1.1/\" xmlns:rdf=\"http://www.w3.org/1999/02/22-rdf-syntax-ns#\">\r\n   <cc:Work>\r\n    <dc:type rdf:resource=\"http://purl.org/dc/dcmitype/StillImage\"/>\r\n    <dc:date>2021-04-11T11:43:16.410626</dc:date>\r\n    <dc:format>image/svg+xml</dc:format>\r\n    <dc:creator>\r\n     <cc:Agent>\r\n      <dc:title>Matplotlib v3.3.2, https://matplotlib.org/</dc:title>\r\n     </cc:Agent>\r\n    </dc:creator>\r\n   </cc:Work>\r\n  </rdf:RDF>\r\n </metadata>\r\n <defs>\r\n  <style type=\"text/css\">*{stroke-linecap:butt;stroke-linejoin:round;}</style>\r\n </defs>\r\n <g id=\"figure_1\">\r\n  <g id=\"patch_1\">\r\n   <path d=\"M 0 286.2 \r\nL 366.144705 286.2 \r\nL 366.144705 0 \r\nL 0 0 \r\nz\r\n\" style=\"fill:#ffffff;\"/>\r\n  </g>\r\n  <g id=\"axes_1\">\r\n   <g id=\"patch_2\">\r\n    <path clip-path=\"url(#p574551bb63)\" d=\"M 183.072352 247.760753 \r\nC 161.878045 239.666159 143.634273 225.321449 130.768129 206.634997 \r\nC 117.901986 187.948545 111.010504 165.787466 111.010504 143.1 \r\nC 111.010504 120.412534 117.901986 98.251455 130.768129 79.565003 \r\nC 143.634273 60.878551 161.878045 46.533841 183.072352 38.439247 \r\nC 166.108452 31.960343 147.820976 29.701919 129.790548 31.859177 \r\nC 111.76012 34.016435 94.521618 40.525378 79.565003 50.823425 \r\nC 64.608388 61.121471 52.377352 74.903127 43.92905 90.977214 \r\nC 35.480747 107.051302 31.065799 124.940977 31.065799 143.1 \r\nC 31.065799 161.259023 35.480747 179.148698 43.92905 195.222786 \r\nC 52.377352 211.296873 64.608388 225.078529 79.565003 235.376575 \r\nC 94.521618 245.674622 111.76012 252.183565 129.790548 254.340823 \r\nC 147.820976 256.498081 166.108452 254.239657 183.072352 247.760753 \r\n\" style=\"fill:#ff0000;opacity:0.4;\"/>\r\n   </g>\r\n   <g id=\"patch_3\">\r\n    <path clip-path=\"url(#p574551bb63)\" d=\"M 183.072352 38.439247 \r\nC 204.26666 46.533841 222.510432 60.878551 235.376575 79.565003 \r\nC 248.242719 98.251455 255.134201 120.412534 255.134201 143.1 \r\nC 255.134201 165.787466 248.242719 187.948545 235.376575 206.634997 \r\nC 222.510432 225.321449 204.26666 239.666159 183.072352 247.760753 \r\nC 200.036253 254.239657 218.323729 256.498081 236.354157 254.340823 \r\nC 254.384585 252.183565 271.623086 245.674622 286.579702 235.376575 \r\nC 301.536317 225.078529 313.767352 211.296873 322.215655 195.222786 \r\nC 330.663958 179.148698 335.078906 161.259023 335.078906 143.1 \r\nC 335.078906 124.940977 330.663958 107.051302 322.215655 90.977214 \r\nC 313.767352 74.903127 301.536317 61.121471 286.579702 50.823425 \r\nC 271.623086 40.525378 254.384585 34.016435 236.354157 31.859177 \r\nC 218.323729 29.701919 200.036253 31.960343 183.072352 38.439247 \r\n\" style=\"fill:#008000;opacity:0.4;\"/>\r\n   </g>\r\n   <g id=\"patch_4\">\r\n    <path clip-path=\"url(#p574551bb63)\" d=\"M 183.072352 247.760753 \r\nC 204.26666 239.666159 222.510432 225.321449 235.376575 206.634997 \r\nC 248.242719 187.948545 255.134201 165.787466 255.134201 143.1 \r\nC 255.134201 120.412534 248.242719 98.251455 235.376575 79.565003 \r\nC 222.510432 60.878551 204.26666 46.533841 183.072352 38.439247 \r\nC 161.878045 46.533841 143.634273 60.878551 130.768129 79.565003 \r\nC 117.901986 98.251455 111.010504 120.412534 111.010504 143.1 \r\nC 111.010504 165.787466 117.901986 187.948545 130.768129 206.634997 \r\nC 143.634273 225.321449 161.878045 239.666159 183.072352 247.760753 \r\n\" style=\"fill:#b25900;opacity:0.4;\"/>\r\n   </g>\r\n   <g id=\"text_1\">\r\n    <!-- overlap -->\r\n    <g style=\"fill:#262626;\" transform=\"translate(166.674696 145.685156)scale(0.1 -0.1)\">\r\n     <defs>\r\n      <path d=\"M 3.328125 25.921875 \r\nQ 3.328125 40.328125 11.328125 47.265625 \r\nQ 18.015625 53.03125 27.640625 53.03125 \r\nQ 38.328125 53.03125 45.109375 46.015625 \r\nQ 51.90625 39.015625 51.90625 26.65625 \r\nQ 51.90625 16.65625 48.90625 10.90625 \r\nQ 45.90625 5.171875 40.15625 2 \r\nQ 34.421875 -1.171875 27.640625 -1.171875 \r\nQ 16.75 -1.171875 10.03125 5.8125 \r\nQ 3.328125 12.796875 3.328125 25.921875 \r\nz\r\nM 12.359375 25.921875 \r\nQ 12.359375 15.96875 16.703125 11.015625 \r\nQ 21.046875 6.0625 27.640625 6.0625 \r\nQ 34.1875 6.0625 38.53125 11.03125 \r\nQ 42.875 16.015625 42.875 26.21875 \r\nQ 42.875 35.84375 38.5 40.796875 \r\nQ 34.125 45.75 27.640625 45.75 \r\nQ 21.046875 45.75 16.703125 40.8125 \r\nQ 12.359375 35.890625 12.359375 25.921875 \r\nz\r\n\" id=\"ArialMT-111\"/>\r\n      <path d=\"M 21 0 \r\nL 1.265625 51.859375 \r\nL 10.546875 51.859375 \r\nL 21.6875 20.796875 \r\nQ 23.484375 15.765625 25 10.359375 \r\nQ 26.171875 14.453125 28.265625 20.21875 \r\nL 39.796875 51.859375 \r\nL 48.828125 51.859375 \r\nL 29.203125 0 \r\nz\r\n\" id=\"ArialMT-118\"/>\r\n      <path d=\"M 42.09375 16.703125 \r\nL 51.171875 15.578125 \r\nQ 49.03125 7.625 43.21875 3.21875 \r\nQ 37.40625 -1.171875 28.375 -1.171875 \r\nQ 17 -1.171875 10.328125 5.828125 \r\nQ 3.65625 12.84375 3.65625 25.484375 \r\nQ 3.65625 38.578125 10.390625 45.796875 \r\nQ 17.140625 53.03125 27.875 53.03125 \r\nQ 38.28125 53.03125 44.875 45.953125 \r\nQ 51.46875 38.875 51.46875 26.03125 \r\nQ 51.46875 25.25 51.421875 23.6875 \r\nL 12.75 23.6875 \r\nQ 13.234375 15.140625 17.578125 10.59375 \r\nQ 21.921875 6.0625 28.421875 6.0625 \r\nQ 33.25 6.0625 36.671875 8.59375 \r\nQ 40.09375 11.140625 42.09375 16.703125 \r\nz\r\nM 13.234375 30.90625 \r\nL 42.1875 30.90625 \r\nQ 41.609375 37.453125 38.875 40.71875 \r\nQ 34.671875 45.796875 27.984375 45.796875 \r\nQ 21.921875 45.796875 17.796875 41.75 \r\nQ 13.671875 37.703125 13.234375 30.90625 \r\nz\r\n\" id=\"ArialMT-101\"/>\r\n      <path d=\"M 6.5 0 \r\nL 6.5 51.859375 \r\nL 14.40625 51.859375 \r\nL 14.40625 44 \r\nQ 17.4375 49.515625 20 51.265625 \r\nQ 22.5625 53.03125 25.640625 53.03125 \r\nQ 30.078125 53.03125 34.671875 50.203125 \r\nL 31.640625 42.046875 \r\nQ 28.421875 43.953125 25.203125 43.953125 \r\nQ 22.3125 43.953125 20.015625 42.21875 \r\nQ 17.71875 40.484375 16.75 37.40625 \r\nQ 15.28125 32.71875 15.28125 27.15625 \r\nL 15.28125 0 \r\nz\r\n\" id=\"ArialMT-114\"/>\r\n      <path d=\"M 6.390625 0 \r\nL 6.390625 71.578125 \r\nL 15.1875 71.578125 \r\nL 15.1875 0 \r\nz\r\n\" id=\"ArialMT-108\"/>\r\n      <path d=\"M 40.4375 6.390625 \r\nQ 35.546875 2.25 31.03125 0.53125 \r\nQ 26.515625 -1.171875 21.34375 -1.171875 \r\nQ 12.796875 -1.171875 8.203125 3 \r\nQ 3.609375 7.171875 3.609375 13.671875 \r\nQ 3.609375 17.484375 5.34375 20.625 \r\nQ 7.078125 23.78125 9.890625 25.6875 \r\nQ 12.703125 27.59375 16.21875 28.5625 \r\nQ 18.796875 29.25 24.03125 29.890625 \r\nQ 34.671875 31.15625 39.703125 32.90625 \r\nQ 39.75 34.71875 39.75 35.203125 \r\nQ 39.75 40.578125 37.25 42.78125 \r\nQ 33.890625 45.75 27.25 45.75 \r\nQ 21.046875 45.75 18.09375 43.578125 \r\nQ 15.140625 41.40625 13.71875 35.890625 \r\nL 5.125 37.0625 \r\nQ 6.296875 42.578125 8.984375 45.96875 \r\nQ 11.671875 49.359375 16.75 51.1875 \r\nQ 21.828125 53.03125 28.515625 53.03125 \r\nQ 35.15625 53.03125 39.296875 51.46875 \r\nQ 43.453125 49.90625 45.40625 47.53125 \r\nQ 47.359375 45.171875 48.140625 41.546875 \r\nQ 48.578125 39.3125 48.578125 33.453125 \r\nL 48.578125 21.734375 \r\nQ 48.578125 9.46875 49.140625 6.21875 \r\nQ 49.703125 2.984375 51.375 0 \r\nL 42.1875 0 \r\nQ 40.828125 2.734375 40.4375 6.390625 \r\nz\r\nM 39.703125 26.03125 \r\nQ 34.90625 24.078125 25.34375 22.703125 \r\nQ 19.921875 21.921875 17.671875 20.9375 \r\nQ 15.4375 19.96875 14.203125 18.09375 \r\nQ 12.984375 16.21875 12.984375 13.921875 \r\nQ 12.984375 10.40625 15.640625 8.0625 \r\nQ 18.3125 5.71875 23.4375 5.71875 \r\nQ 28.515625 5.71875 32.46875 7.9375 \r\nQ 36.421875 10.15625 38.28125 14.015625 \r\nQ 39.703125 17 39.703125 22.796875 \r\nz\r\n\" id=\"ArialMT-97\"/>\r\n      <path d=\"M 6.59375 -19.875 \r\nL 6.59375 51.859375 \r\nL 14.59375 51.859375 \r\nL 14.59375 45.125 \r\nQ 17.4375 49.078125 21 51.046875 \r\nQ 24.5625 53.03125 29.640625 53.03125 \r\nQ 36.28125 53.03125 41.359375 49.609375 \r\nQ 46.4375 46.1875 49.015625 39.953125 \r\nQ 51.609375 33.734375 51.609375 26.3125 \r\nQ 51.609375 18.359375 48.75 11.984375 \r\nQ 45.90625 5.609375 40.453125 2.21875 \r\nQ 35.015625 -1.171875 29 -1.171875 \r\nQ 24.609375 -1.171875 21.109375 0.6875 \r\nQ 17.625 2.546875 15.375 5.375 \r\nL 15.375 -19.875 \r\nz\r\nM 14.546875 25.640625 \r\nQ 14.546875 15.625 18.59375 10.84375 \r\nQ 22.65625 6.0625 28.421875 6.0625 \r\nQ 34.28125 6.0625 38.453125 11.015625 \r\nQ 42.625 15.96875 42.625 26.375 \r\nQ 42.625 36.28125 38.546875 41.203125 \r\nQ 34.46875 46.140625 28.8125 46.140625 \r\nQ 23.1875 46.140625 18.859375 40.890625 \r\nQ 14.546875 35.640625 14.546875 25.640625 \r\nz\r\n\" id=\"ArialMT-112\"/>\r\n     </defs>\r\n     <use xlink:href=\"#ArialMT-111\"/>\r\n     <use x=\"55.615234\" xlink:href=\"#ArialMT-118\"/>\r\n     <use x=\"105.615234\" xlink:href=\"#ArialMT-101\"/>\r\n     <use x=\"161.230469\" xlink:href=\"#ArialMT-114\"/>\r\n     <use x=\"194.53125\" xlink:href=\"#ArialMT-108\"/>\r\n     <use x=\"216.748047\" xlink:href=\"#ArialMT-97\"/>\r\n     <use x=\"272.363281\" xlink:href=\"#ArialMT-112\"/>\r\n    </g>\r\n   </g>\r\n   <g id=\"text_2\">\r\n    <!-- gdp -->\r\n    <g style=\"fill:#262626;\" transform=\"translate(123.080625 274.926996)scale(0.12 -0.12)\">\r\n     <defs>\r\n      <path d=\"M 4.984375 -4.296875 \r\nL 13.53125 -5.5625 \r\nQ 14.0625 -9.515625 16.5 -11.328125 \r\nQ 19.78125 -13.765625 25.4375 -13.765625 \r\nQ 31.546875 -13.765625 34.859375 -11.328125 \r\nQ 38.1875 -8.890625 39.359375 -4.5 \r\nQ 40.046875 -1.8125 39.984375 6.78125 \r\nQ 34.234375 0 25.640625 0 \r\nQ 14.9375 0 9.078125 7.71875 \r\nQ 3.21875 15.4375 3.21875 26.21875 \r\nQ 3.21875 33.640625 5.90625 39.90625 \r\nQ 8.59375 46.1875 13.6875 49.609375 \r\nQ 18.796875 53.03125 25.6875 53.03125 \r\nQ 34.859375 53.03125 40.828125 45.609375 \r\nL 40.828125 51.859375 \r\nL 48.921875 51.859375 \r\nL 48.921875 7.03125 \r\nQ 48.921875 -5.078125 46.453125 -10.125 \r\nQ 44 -15.1875 38.640625 -18.109375 \r\nQ 33.296875 -21.046875 25.484375 -21.046875 \r\nQ 16.21875 -21.046875 10.5 -16.875 \r\nQ 4.78125 -12.703125 4.984375 -4.296875 \r\nz\r\nM 12.25 26.859375 \r\nQ 12.25 16.65625 16.296875 11.96875 \r\nQ 20.359375 7.28125 26.46875 7.28125 \r\nQ 32.515625 7.28125 36.609375 11.9375 \r\nQ 40.71875 16.609375 40.71875 26.5625 \r\nQ 40.71875 36.078125 36.5 40.90625 \r\nQ 32.28125 45.75 26.3125 45.75 \r\nQ 20.453125 45.75 16.34375 40.984375 \r\nQ 12.25 36.234375 12.25 26.859375 \r\nz\r\n\" id=\"ArialMT-103\"/>\r\n      <path d=\"M 40.234375 0 \r\nL 40.234375 6.546875 \r\nQ 35.296875 -1.171875 25.734375 -1.171875 \r\nQ 19.53125 -1.171875 14.328125 2.25 \r\nQ 9.125 5.671875 6.265625 11.796875 \r\nQ 3.421875 17.921875 3.421875 25.875 \r\nQ 3.421875 33.640625 6 39.96875 \r\nQ 8.59375 46.296875 13.765625 49.65625 \r\nQ 18.953125 53.03125 25.34375 53.03125 \r\nQ 30.03125 53.03125 33.6875 51.046875 \r\nQ 37.359375 49.078125 39.65625 45.90625 \r\nL 39.65625 71.578125 \r\nL 48.390625 71.578125 \r\nL 48.390625 0 \r\nz\r\nM 12.453125 25.875 \r\nQ 12.453125 15.921875 16.640625 10.984375 \r\nQ 20.84375 6.0625 26.5625 6.0625 \r\nQ 32.328125 6.0625 36.34375 10.765625 \r\nQ 40.375 15.484375 40.375 25.140625 \r\nQ 40.375 35.796875 36.265625 40.765625 \r\nQ 32.171875 45.75 26.171875 45.75 \r\nQ 20.3125 45.75 16.375 40.96875 \r\nQ 12.453125 36.1875 12.453125 25.875 \r\nz\r\n\" id=\"ArialMT-100\"/>\r\n     </defs>\r\n     <use xlink:href=\"#ArialMT-103\"/>\r\n     <use x=\"55.615234\" xlink:href=\"#ArialMT-100\"/>\r\n     <use x=\"111.230469\" xlink:href=\"#ArialMT-112\"/>\r\n    </g>\r\n   </g>\r\n   <g id=\"text_3\">\r\n    <!-- education -->\r\n    <g style=\"fill:#262626;\" transform=\"translate(223.044705 274.926996)scale(0.12 -0.12)\">\r\n     <defs>\r\n      <path d=\"M 40.578125 0 \r\nL 40.578125 7.625 \r\nQ 34.515625 -1.171875 24.125 -1.171875 \r\nQ 19.53125 -1.171875 15.546875 0.578125 \r\nQ 11.578125 2.34375 9.640625 5 \r\nQ 7.71875 7.671875 6.9375 11.53125 \r\nQ 6.390625 14.109375 6.390625 19.734375 \r\nL 6.390625 51.859375 \r\nL 15.1875 51.859375 \r\nL 15.1875 23.09375 \r\nQ 15.1875 16.21875 15.71875 13.8125 \r\nQ 16.546875 10.359375 19.234375 8.375 \r\nQ 21.921875 6.390625 25.875 6.390625 \r\nQ 29.828125 6.390625 33.296875 8.421875 \r\nQ 36.765625 10.453125 38.203125 13.9375 \r\nQ 39.65625 17.4375 39.65625 24.078125 \r\nL 39.65625 51.859375 \r\nL 48.4375 51.859375 \r\nL 48.4375 0 \r\nz\r\n\" id=\"ArialMT-117\"/>\r\n      <path d=\"M 40.4375 19 \r\nL 49.078125 17.875 \r\nQ 47.65625 8.9375 41.8125 3.875 \r\nQ 35.984375 -1.171875 27.484375 -1.171875 \r\nQ 16.84375 -1.171875 10.375 5.78125 \r\nQ 3.90625 12.75 3.90625 25.734375 \r\nQ 3.90625 34.125 6.6875 40.421875 \r\nQ 9.46875 46.734375 15.15625 49.875 \r\nQ 20.84375 53.03125 27.546875 53.03125 \r\nQ 35.984375 53.03125 41.359375 48.75 \r\nQ 46.734375 44.484375 48.25 36.625 \r\nL 39.703125 35.296875 \r\nQ 38.484375 40.53125 35.375 43.15625 \r\nQ 32.28125 45.796875 27.875 45.796875 \r\nQ 21.234375 45.796875 17.078125 41.03125 \r\nQ 12.9375 36.28125 12.9375 25.984375 \r\nQ 12.9375 15.53125 16.9375 10.796875 \r\nQ 20.953125 6.0625 27.390625 6.0625 \r\nQ 32.5625 6.0625 36.03125 9.234375 \r\nQ 39.5 12.40625 40.4375 19 \r\nz\r\n\" id=\"ArialMT-99\"/>\r\n      <path d=\"M 25.78125 7.859375 \r\nL 27.046875 0.09375 \r\nQ 23.34375 -0.6875 20.40625 -0.6875 \r\nQ 15.625 -0.6875 12.984375 0.828125 \r\nQ 10.359375 2.34375 9.28125 4.8125 \r\nQ 8.203125 7.28125 8.203125 15.1875 \r\nL 8.203125 45.015625 \r\nL 1.765625 45.015625 \r\nL 1.765625 51.859375 \r\nL 8.203125 51.859375 \r\nL 8.203125 64.703125 \r\nL 16.9375 69.96875 \r\nL 16.9375 51.859375 \r\nL 25.78125 51.859375 \r\nL 25.78125 45.015625 \r\nL 16.9375 45.015625 \r\nL 16.9375 14.703125 \r\nQ 16.9375 10.9375 17.40625 9.859375 \r\nQ 17.875 8.796875 18.921875 8.15625 \r\nQ 19.96875 7.515625 21.921875 7.515625 \r\nQ 23.390625 7.515625 25.78125 7.859375 \r\nz\r\n\" id=\"ArialMT-116\"/>\r\n      <path d=\"M 6.640625 61.46875 \r\nL 6.640625 71.578125 \r\nL 15.4375 71.578125 \r\nL 15.4375 61.46875 \r\nz\r\nM 6.640625 0 \r\nL 6.640625 51.859375 \r\nL 15.4375 51.859375 \r\nL 15.4375 0 \r\nz\r\n\" id=\"ArialMT-105\"/>\r\n      <path d=\"M 6.59375 0 \r\nL 6.59375 51.859375 \r\nL 14.5 51.859375 \r\nL 14.5 44.484375 \r\nQ 20.21875 53.03125 31 53.03125 \r\nQ 35.6875 53.03125 39.625 51.34375 \r\nQ 43.5625 49.65625 45.515625 46.921875 \r\nQ 47.46875 44.1875 48.25 40.4375 \r\nQ 48.734375 37.984375 48.734375 31.890625 \r\nL 48.734375 0 \r\nL 39.9375 0 \r\nL 39.9375 31.546875 \r\nQ 39.9375 36.921875 38.90625 39.578125 \r\nQ 37.890625 42.234375 35.28125 43.8125 \r\nQ 32.671875 45.40625 29.15625 45.40625 \r\nQ 23.53125 45.40625 19.453125 41.84375 \r\nQ 15.375 38.28125 15.375 28.328125 \r\nL 15.375 0 \r\nz\r\n\" id=\"ArialMT-110\"/>\r\n     </defs>\r\n     <use xlink:href=\"#ArialMT-101\"/>\r\n     <use x=\"55.615234\" xlink:href=\"#ArialMT-100\"/>\r\n     <use x=\"111.230469\" xlink:href=\"#ArialMT-117\"/>\r\n     <use x=\"166.845703\" xlink:href=\"#ArialMT-99\"/>\r\n     <use x=\"216.845703\" xlink:href=\"#ArialMT-97\"/>\r\n     <use x=\"272.460938\" xlink:href=\"#ArialMT-116\"/>\r\n     <use x=\"300.244141\" xlink:href=\"#ArialMT-105\"/>\r\n     <use x=\"322.460938\" xlink:href=\"#ArialMT-111\"/>\r\n     <use x=\"378.076172\" xlink:href=\"#ArialMT-110\"/>\r\n    </g>\r\n   </g>\r\n  </g>\r\n </g>\r\n <defs>\r\n  <clipPath id=\"p574551bb63\">\r\n   <rect height=\"271.8\" width=\"351.744705\" x=\"7.2\" y=\"7.2\"/>\r\n  </clipPath>\r\n </defs>\r\n</svg>\r\n",
      "image/png": "[encoded data removed]"
     },
     "metadata": {}
    },
    {
     "output_type": "display_data",
     "data": {
      "text/plain": "<Figure size 720x360 with 1 Axes>",
      "image/svg+xml": "<?xml version=\"1.0\" encoding=\"utf-8\" standalone=\"no\"?>\r\n<!DOCTYPE svg PUBLIC \"-//W3C//DTD SVG 1.1//EN\"\r\n  \"http://www.w3.org/Graphics/SVG/1.1/DTD/svg11.dtd\">\r\n<!-- Created with matplotlib (https://matplotlib.org/) -->\r\n<svg height=\"286.2pt\" version=\"1.1\" viewBox=\"0 0 366.144705 286.2\" width=\"366.144705pt\" xmlns=\"http://www.w3.org/2000/svg\" xmlns:xlink=\"http://www.w3.org/1999/xlink\">\r\n <metadata>\r\n  <rdf:RDF xmlns:cc=\"http://creativecommons.org/ns#\" xmlns:dc=\"http://purl.org/dc/elements/1.1/\" xmlns:rdf=\"http://www.w3.org/1999/02/22-rdf-syntax-ns#\">\r\n   <cc:Work>\r\n    <dc:type rdf:resource=\"http://purl.org/dc/dcmitype/StillImage\"/>\r\n    <dc:date>2021-04-11T11:43:16.557234</dc:date>\r\n    <dc:format>image/svg+xml</dc:format>\r\n    <dc:creator>\r\n     <cc:Agent>\r\n      <dc:title>Matplotlib v3.3.2, https://matplotlib.org/</dc:title>\r\n     </cc:Agent>\r\n    </dc:creator>\r\n   </cc:Work>\r\n  </rdf:RDF>\r\n </metadata>\r\n <defs>\r\n  <style type=\"text/css\">*{stroke-linecap:butt;stroke-linejoin:round;}</style>\r\n </defs>\r\n <g id=\"figure_1\">\r\n  <g id=\"patch_1\">\r\n   <path d=\"M 0 286.2 \r\nL 366.144705 286.2 \r\nL 366.144705 0 \r\nL 0 0 \r\nz\r\n\" style=\"fill:#ffffff;\"/>\r\n  </g>\r\n  <g id=\"axes_1\">\r\n   <g id=\"patch_2\">\r\n    <path clip-path=\"url(#p822a1c937a)\" d=\"M 183.072352 247.760753 \r\nC 161.878045 239.666159 143.634273 225.321449 130.768129 206.634997 \r\nC 117.901986 187.948545 111.010504 165.787466 111.010504 143.1 \r\nC 111.010504 120.412534 117.901986 98.251455 130.768129 79.565003 \r\nC 143.634273 60.878551 161.878045 46.533841 183.072352 38.439247 \r\nC 166.108452 31.960343 147.820976 29.701919 129.790548 31.859177 \r\nC 111.76012 34.016435 94.521618 40.525378 79.565003 50.823425 \r\nC 64.608388 61.121471 52.377352 74.903127 43.92905 90.977214 \r\nC 35.480747 107.051302 31.065799 124.940977 31.065799 143.1 \r\nC 31.065799 161.259023 35.480747 179.148698 43.92905 195.222786 \r\nC 52.377352 211.296873 64.608388 225.078529 79.565003 235.376575 \r\nC 94.521618 245.674622 111.76012 252.183565 129.790548 254.340823 \r\nC 147.820976 256.498081 166.108452 254.239657 183.072352 247.760753 \r\n\" style=\"fill:#ff0000;opacity:0.4;\"/>\r\n   </g>\r\n   <g id=\"patch_3\">\r\n    <path clip-path=\"url(#p822a1c937a)\" d=\"M 183.072352 38.439247 \r\nC 204.26666 46.533841 222.510432 60.878551 235.376575 79.565003 \r\nC 248.242719 98.251455 255.134201 120.412534 255.134201 143.1 \r\nC 255.134201 165.787466 248.242719 187.948545 235.376575 206.634997 \r\nC 222.510432 225.321449 204.26666 239.666159 183.072352 247.760753 \r\nC 200.036253 254.239657 218.323729 256.498081 236.354157 254.340823 \r\nC 254.384585 252.183565 271.623086 245.674622 286.579702 235.376575 \r\nC 301.536317 225.078529 313.767352 211.296873 322.215655 195.222786 \r\nC 330.663958 179.148698 335.078906 161.259023 335.078906 143.1 \r\nC 335.078906 124.940977 330.663958 107.051302 322.215655 90.977214 \r\nC 313.767352 74.903127 301.536317 61.121471 286.579702 50.823425 \r\nC 271.623086 40.525378 254.384585 34.016435 236.354157 31.859177 \r\nC 218.323729 29.701919 200.036253 31.960343 183.072352 38.439247 \r\n\" style=\"fill:#008000;opacity:0.4;\"/>\r\n   </g>\r\n   <g id=\"patch_4\">\r\n    <path clip-path=\"url(#p822a1c937a)\" d=\"M 183.072352 247.760753 \r\nC 204.26666 239.666159 222.510432 225.321449 235.376575 206.634997 \r\nC 248.242719 187.948545 255.134201 165.787466 255.134201 143.1 \r\nC 255.134201 120.412534 248.242719 98.251455 235.376575 79.565003 \r\nC 222.510432 60.878551 204.26666 46.533841 183.072352 38.439247 \r\nC 161.878045 46.533841 143.634273 60.878551 130.768129 79.565003 \r\nC 117.901986 98.251455 111.010504 120.412534 111.010504 143.1 \r\nC 111.010504 165.787466 117.901986 187.948545 130.768129 206.634997 \r\nC 143.634273 225.321449 161.878045 239.666159 183.072352 247.760753 \r\n\" style=\"fill:#b25900;opacity:0.4;\"/>\r\n   </g>\r\n   <g id=\"text_1\">\r\n    <!-- overlap -->\r\n    <g style=\"fill:#262626;\" transform=\"translate(166.674696 145.685156)scale(0.1 -0.1)\">\r\n     <defs>\r\n      <path d=\"M 3.328125 25.921875 \r\nQ 3.328125 40.328125 11.328125 47.265625 \r\nQ 18.015625 53.03125 27.640625 53.03125 \r\nQ 38.328125 53.03125 45.109375 46.015625 \r\nQ 51.90625 39.015625 51.90625 26.65625 \r\nQ 51.90625 16.65625 48.90625 10.90625 \r\nQ 45.90625 5.171875 40.15625 2 \r\nQ 34.421875 -1.171875 27.640625 -1.171875 \r\nQ 16.75 -1.171875 10.03125 5.8125 \r\nQ 3.328125 12.796875 3.328125 25.921875 \r\nz\r\nM 12.359375 25.921875 \r\nQ 12.359375 15.96875 16.703125 11.015625 \r\nQ 21.046875 6.0625 27.640625 6.0625 \r\nQ 34.1875 6.0625 38.53125 11.03125 \r\nQ 42.875 16.015625 42.875 26.21875 \r\nQ 42.875 35.84375 38.5 40.796875 \r\nQ 34.125 45.75 27.640625 45.75 \r\nQ 21.046875 45.75 16.703125 40.8125 \r\nQ 12.359375 35.890625 12.359375 25.921875 \r\nz\r\n\" id=\"ArialMT-111\"/>\r\n      <path d=\"M 21 0 \r\nL 1.265625 51.859375 \r\nL 10.546875 51.859375 \r\nL 21.6875 20.796875 \r\nQ 23.484375 15.765625 25 10.359375 \r\nQ 26.171875 14.453125 28.265625 20.21875 \r\nL 39.796875 51.859375 \r\nL 48.828125 51.859375 \r\nL 29.203125 0 \r\nz\r\n\" id=\"ArialMT-118\"/>\r\n      <path d=\"M 42.09375 16.703125 \r\nL 51.171875 15.578125 \r\nQ 49.03125 7.625 43.21875 3.21875 \r\nQ 37.40625 -1.171875 28.375 -1.171875 \r\nQ 17 -1.171875 10.328125 5.828125 \r\nQ 3.65625 12.84375 3.65625 25.484375 \r\nQ 3.65625 38.578125 10.390625 45.796875 \r\nQ 17.140625 53.03125 27.875 53.03125 \r\nQ 38.28125 53.03125 44.875 45.953125 \r\nQ 51.46875 38.875 51.46875 26.03125 \r\nQ 51.46875 25.25 51.421875 23.6875 \r\nL 12.75 23.6875 \r\nQ 13.234375 15.140625 17.578125 10.59375 \r\nQ 21.921875 6.0625 28.421875 6.0625 \r\nQ 33.25 6.0625 36.671875 8.59375 \r\nQ 40.09375 11.140625 42.09375 16.703125 \r\nz\r\nM 13.234375 30.90625 \r\nL 42.1875 30.90625 \r\nQ 41.609375 37.453125 38.875 40.71875 \r\nQ 34.671875 45.796875 27.984375 45.796875 \r\nQ 21.921875 45.796875 17.796875 41.75 \r\nQ 13.671875 37.703125 13.234375 30.90625 \r\nz\r\n\" id=\"ArialMT-101\"/>\r\n      <path d=\"M 6.5 0 \r\nL 6.5 51.859375 \r\nL 14.40625 51.859375 \r\nL 14.40625 44 \r\nQ 17.4375 49.515625 20 51.265625 \r\nQ 22.5625 53.03125 25.640625 53.03125 \r\nQ 30.078125 53.03125 34.671875 50.203125 \r\nL 31.640625 42.046875 \r\nQ 28.421875 43.953125 25.203125 43.953125 \r\nQ 22.3125 43.953125 20.015625 42.21875 \r\nQ 17.71875 40.484375 16.75 37.40625 \r\nQ 15.28125 32.71875 15.28125 27.15625 \r\nL 15.28125 0 \r\nz\r\n\" id=\"ArialMT-114\"/>\r\n      <path d=\"M 6.390625 0 \r\nL 6.390625 71.578125 \r\nL 15.1875 71.578125 \r\nL 15.1875 0 \r\nz\r\n\" id=\"ArialMT-108\"/>\r\n      <path d=\"M 40.4375 6.390625 \r\nQ 35.546875 2.25 31.03125 0.53125 \r\nQ 26.515625 -1.171875 21.34375 -1.171875 \r\nQ 12.796875 -1.171875 8.203125 3 \r\nQ 3.609375 7.171875 3.609375 13.671875 \r\nQ 3.609375 17.484375 5.34375 20.625 \r\nQ 7.078125 23.78125 9.890625 25.6875 \r\nQ 12.703125 27.59375 16.21875 28.5625 \r\nQ 18.796875 29.25 24.03125 29.890625 \r\nQ 34.671875 31.15625 39.703125 32.90625 \r\nQ 39.75 34.71875 39.75 35.203125 \r\nQ 39.75 40.578125 37.25 42.78125 \r\nQ 33.890625 45.75 27.25 45.75 \r\nQ 21.046875 45.75 18.09375 43.578125 \r\nQ 15.140625 41.40625 13.71875 35.890625 \r\nL 5.125 37.0625 \r\nQ 6.296875 42.578125 8.984375 45.96875 \r\nQ 11.671875 49.359375 16.75 51.1875 \r\nQ 21.828125 53.03125 28.515625 53.03125 \r\nQ 35.15625 53.03125 39.296875 51.46875 \r\nQ 43.453125 49.90625 45.40625 47.53125 \r\nQ 47.359375 45.171875 48.140625 41.546875 \r\nQ 48.578125 39.3125 48.578125 33.453125 \r\nL 48.578125 21.734375 \r\nQ 48.578125 9.46875 49.140625 6.21875 \r\nQ 49.703125 2.984375 51.375 0 \r\nL 42.1875 0 \r\nQ 40.828125 2.734375 40.4375 6.390625 \r\nz\r\nM 39.703125 26.03125 \r\nQ 34.90625 24.078125 25.34375 22.703125 \r\nQ 19.921875 21.921875 17.671875 20.9375 \r\nQ 15.4375 19.96875 14.203125 18.09375 \r\nQ 12.984375 16.21875 12.984375 13.921875 \r\nQ 12.984375 10.40625 15.640625 8.0625 \r\nQ 18.3125 5.71875 23.4375 5.71875 \r\nQ 28.515625 5.71875 32.46875 7.9375 \r\nQ 36.421875 10.15625 38.28125 14.015625 \r\nQ 39.703125 17 39.703125 22.796875 \r\nz\r\n\" id=\"ArialMT-97\"/>\r\n      <path d=\"M 6.59375 -19.875 \r\nL 6.59375 51.859375 \r\nL 14.59375 51.859375 \r\nL 14.59375 45.125 \r\nQ 17.4375 49.078125 21 51.046875 \r\nQ 24.5625 53.03125 29.640625 53.03125 \r\nQ 36.28125 53.03125 41.359375 49.609375 \r\nQ 46.4375 46.1875 49.015625 39.953125 \r\nQ 51.609375 33.734375 51.609375 26.3125 \r\nQ 51.609375 18.359375 48.75 11.984375 \r\nQ 45.90625 5.609375 40.453125 2.21875 \r\nQ 35.015625 -1.171875 29 -1.171875 \r\nQ 24.609375 -1.171875 21.109375 0.6875 \r\nQ 17.625 2.546875 15.375 5.375 \r\nL 15.375 -19.875 \r\nz\r\nM 14.546875 25.640625 \r\nQ 14.546875 15.625 18.59375 10.84375 \r\nQ 22.65625 6.0625 28.421875 6.0625 \r\nQ 34.28125 6.0625 38.453125 11.015625 \r\nQ 42.625 15.96875 42.625 26.375 \r\nQ 42.625 36.28125 38.546875 41.203125 \r\nQ 34.46875 46.140625 28.8125 46.140625 \r\nQ 23.1875 46.140625 18.859375 40.890625 \r\nQ 14.546875 35.640625 14.546875 25.640625 \r\nz\r\n\" id=\"ArialMT-112\"/>\r\n     </defs>\r\n     <use xlink:href=\"#ArialMT-111\"/>\r\n     <use x=\"55.615234\" xlink:href=\"#ArialMT-118\"/>\r\n     <use x=\"105.615234\" xlink:href=\"#ArialMT-101\"/>\r\n     <use x=\"161.230469\" xlink:href=\"#ArialMT-114\"/>\r\n     <use x=\"194.53125\" xlink:href=\"#ArialMT-108\"/>\r\n     <use x=\"216.748047\" xlink:href=\"#ArialMT-97\"/>\r\n     <use x=\"272.363281\" xlink:href=\"#ArialMT-112\"/>\r\n    </g>\r\n   </g>\r\n   <g id=\"text_2\">\r\n    <!-- gdp -->\r\n    <g style=\"fill:#262626;\" transform=\"translate(123.080625 274.926996)scale(0.12 -0.12)\">\r\n     <defs>\r\n      <path d=\"M 4.984375 -4.296875 \r\nL 13.53125 -5.5625 \r\nQ 14.0625 -9.515625 16.5 -11.328125 \r\nQ 19.78125 -13.765625 25.4375 -13.765625 \r\nQ 31.546875 -13.765625 34.859375 -11.328125 \r\nQ 38.1875 -8.890625 39.359375 -4.5 \r\nQ 40.046875 -1.8125 39.984375 6.78125 \r\nQ 34.234375 0 25.640625 0 \r\nQ 14.9375 0 9.078125 7.71875 \r\nQ 3.21875 15.4375 3.21875 26.21875 \r\nQ 3.21875 33.640625 5.90625 39.90625 \r\nQ 8.59375 46.1875 13.6875 49.609375 \r\nQ 18.796875 53.03125 25.6875 53.03125 \r\nQ 34.859375 53.03125 40.828125 45.609375 \r\nL 40.828125 51.859375 \r\nL 48.921875 51.859375 \r\nL 48.921875 7.03125 \r\nQ 48.921875 -5.078125 46.453125 -10.125 \r\nQ 44 -15.1875 38.640625 -18.109375 \r\nQ 33.296875 -21.046875 25.484375 -21.046875 \r\nQ 16.21875 -21.046875 10.5 -16.875 \r\nQ 4.78125 -12.703125 4.984375 -4.296875 \r\nz\r\nM 12.25 26.859375 \r\nQ 12.25 16.65625 16.296875 11.96875 \r\nQ 20.359375 7.28125 26.46875 7.28125 \r\nQ 32.515625 7.28125 36.609375 11.9375 \r\nQ 40.71875 16.609375 40.71875 26.5625 \r\nQ 40.71875 36.078125 36.5 40.90625 \r\nQ 32.28125 45.75 26.3125 45.75 \r\nQ 20.453125 45.75 16.34375 40.984375 \r\nQ 12.25 36.234375 12.25 26.859375 \r\nz\r\n\" id=\"ArialMT-103\"/>\r\n      <path d=\"M 40.234375 0 \r\nL 40.234375 6.546875 \r\nQ 35.296875 -1.171875 25.734375 -1.171875 \r\nQ 19.53125 -1.171875 14.328125 2.25 \r\nQ 9.125 5.671875 6.265625 11.796875 \r\nQ 3.421875 17.921875 3.421875 25.875 \r\nQ 3.421875 33.640625 6 39.96875 \r\nQ 8.59375 46.296875 13.765625 49.65625 \r\nQ 18.953125 53.03125 25.34375 53.03125 \r\nQ 30.03125 53.03125 33.6875 51.046875 \r\nQ 37.359375 49.078125 39.65625 45.90625 \r\nL 39.65625 71.578125 \r\nL 48.390625 71.578125 \r\nL 48.390625 0 \r\nz\r\nM 12.453125 25.875 \r\nQ 12.453125 15.921875 16.640625 10.984375 \r\nQ 20.84375 6.0625 26.5625 6.0625 \r\nQ 32.328125 6.0625 36.34375 10.765625 \r\nQ 40.375 15.484375 40.375 25.140625 \r\nQ 40.375 35.796875 36.265625 40.765625 \r\nQ 32.171875 45.75 26.171875 45.75 \r\nQ 20.3125 45.75 16.375 40.96875 \r\nQ 12.453125 36.1875 12.453125 25.875 \r\nz\r\n\" id=\"ArialMT-100\"/>\r\n     </defs>\r\n     <use xlink:href=\"#ArialMT-103\"/>\r\n     <use x=\"55.615234\" xlink:href=\"#ArialMT-100\"/>\r\n     <use x=\"111.230469\" xlink:href=\"#ArialMT-112\"/>\r\n    </g>\r\n   </g>\r\n   <g id=\"text_3\">\r\n    <!-- pop -->\r\n    <g style=\"fill:#262626;\" transform=\"translate(223.044705 274.926996)scale(0.12 -0.12)\">\r\n     <use xlink:href=\"#ArialMT-112\"/>\r\n     <use x=\"55.615234\" xlink:href=\"#ArialMT-111\"/>\r\n     <use x=\"111.230469\" xlink:href=\"#ArialMT-112\"/>\r\n    </g>\r\n   </g>\r\n  </g>\r\n </g>\r\n <defs>\r\n  <clipPath id=\"p822a1c937a\">\r\n   <rect height=\"271.8\" width=\"351.744705\" x=\"7.2\" y=\"7.2\"/>\r\n  </clipPath>\r\n </defs>\r\n</svg>\r\n",
      "image/png": "[encoded data removed]"
     },
     "metadata": {}
    },
    {
     "output_type": "display_data",
     "data": {
      "text/plain": "<Figure size 720x360 with 1 Axes>",
      "image/svg+xml": "<?xml version=\"1.0\" encoding=\"utf-8\" standalone=\"no\"?>\r\n<!DOCTYPE svg PUBLIC \"-//W3C//DTD SVG 1.1//EN\"\r\n  \"http://www.w3.org/Graphics/SVG/1.1/DTD/svg11.dtd\">\r\n<!-- Created with matplotlib (https://matplotlib.org/) -->\r\n<svg height=\"286.2pt\" version=\"1.1\" viewBox=\"0 0 366.144705 286.2\" width=\"366.144705pt\" xmlns=\"http://www.w3.org/2000/svg\" xmlns:xlink=\"http://www.w3.org/1999/xlink\">\r\n <metadata>\r\n  <rdf:RDF xmlns:cc=\"http://creativecommons.org/ns#\" xmlns:dc=\"http://purl.org/dc/elements/1.1/\" xmlns:rdf=\"http://www.w3.org/1999/02/22-rdf-syntax-ns#\">\r\n   <cc:Work>\r\n    <dc:type rdf:resource=\"http://purl.org/dc/dcmitype/StillImage\"/>\r\n    <dc:date>2021-04-11T11:43:16.719802</dc:date>\r\n    <dc:format>image/svg+xml</dc:format>\r\n    <dc:creator>\r\n     <cc:Agent>\r\n      <dc:title>Matplotlib v3.3.2, https://matplotlib.org/</dc:title>\r\n     </cc:Agent>\r\n    </dc:creator>\r\n   </cc:Work>\r\n  </rdf:RDF>\r\n </metadata>\r\n <defs>\r\n  <style type=\"text/css\">*{stroke-linecap:butt;stroke-linejoin:round;}</style>\r\n </defs>\r\n <g id=\"figure_1\">\r\n  <g id=\"patch_1\">\r\n   <path d=\"M 0 286.2 \r\nL 366.144705 286.2 \r\nL 366.144705 0 \r\nL 0 0 \r\nz\r\n\" style=\"fill:#ffffff;\"/>\r\n  </g>\r\n  <g id=\"axes_1\">\r\n   <g id=\"patch_2\">\r\n    <path clip-path=\"url(#p96f11f6c11)\" d=\"M 183.072352 247.760753 \r\nC 161.878045 239.666159 143.634273 225.321449 130.768129 206.634997 \r\nC 117.901986 187.948545 111.010504 165.787466 111.010504 143.1 \r\nC 111.010504 120.412534 117.901986 98.251455 130.768129 79.565003 \r\nC 143.634273 60.878551 161.878045 46.533841 183.072352 38.439247 \r\nC 166.108452 31.960343 147.820976 29.701919 129.790548 31.859177 \r\nC 111.76012 34.016435 94.521618 40.525378 79.565003 50.823425 \r\nC 64.608388 61.121471 52.377352 74.903127 43.92905 90.977214 \r\nC 35.480747 107.051302 31.065799 124.940977 31.065799 143.1 \r\nC 31.065799 161.259023 35.480747 179.148698 43.92905 195.222786 \r\nC 52.377352 211.296873 64.608388 225.078529 79.565003 235.376575 \r\nC 94.521618 245.674622 111.76012 252.183565 129.790548 254.340823 \r\nC 147.820976 256.498081 166.108452 254.239657 183.072352 247.760753 \r\n\" style=\"fill:#ff0000;opacity:0.4;\"/>\r\n   </g>\r\n   <g id=\"patch_3\">\r\n    <path clip-path=\"url(#p96f11f6c11)\" d=\"M 183.072352 38.439247 \r\nC 204.26666 46.533841 222.510432 60.878551 235.376575 79.565003 \r\nC 248.242719 98.251455 255.134201 120.412534 255.134201 143.1 \r\nC 255.134201 165.787466 248.242719 187.948545 235.376575 206.634997 \r\nC 222.510432 225.321449 204.26666 239.666159 183.072352 247.760753 \r\nC 200.036253 254.239657 218.323729 256.498081 236.354157 254.340823 \r\nC 254.384585 252.183565 271.623086 245.674622 286.579702 235.376575 \r\nC 301.536317 225.078529 313.767352 211.296873 322.215655 195.222786 \r\nC 330.663958 179.148698 335.078906 161.259023 335.078906 143.1 \r\nC 335.078906 124.940977 330.663958 107.051302 322.215655 90.977214 \r\nC 313.767352 74.903127 301.536317 61.121471 286.579702 50.823425 \r\nC 271.623086 40.525378 254.384585 34.016435 236.354157 31.859177 \r\nC 218.323729 29.701919 200.036253 31.960343 183.072352 38.439247 \r\n\" style=\"fill:#008000;opacity:0.4;\"/>\r\n   </g>\r\n   <g id=\"patch_4\">\r\n    <path clip-path=\"url(#p96f11f6c11)\" d=\"M 183.072352 247.760753 \r\nC 204.26666 239.666159 222.510432 225.321449 235.376575 206.634997 \r\nC 248.242719 187.948545 255.134201 165.787466 255.134201 143.1 \r\nC 255.134201 120.412534 248.242719 98.251455 235.376575 79.565003 \r\nC 222.510432 60.878551 204.26666 46.533841 183.072352 38.439247 \r\nC 161.878045 46.533841 143.634273 60.878551 130.768129 79.565003 \r\nC 117.901986 98.251455 111.010504 120.412534 111.010504 143.1 \r\nC 111.010504 165.787466 117.901986 187.948545 130.768129 206.634997 \r\nC 143.634273 225.321449 161.878045 239.666159 183.072352 247.760753 \r\n\" style=\"fill:#b25900;opacity:0.4;\"/>\r\n   </g>\r\n   <g id=\"text_1\">\r\n    <!-- overlap -->\r\n    <g style=\"fill:#262626;\" transform=\"translate(166.674696 145.685156)scale(0.1 -0.1)\">\r\n     <defs>\r\n      <path d=\"M 3.328125 25.921875 \r\nQ 3.328125 40.328125 11.328125 47.265625 \r\nQ 18.015625 53.03125 27.640625 53.03125 \r\nQ 38.328125 53.03125 45.109375 46.015625 \r\nQ 51.90625 39.015625 51.90625 26.65625 \r\nQ 51.90625 16.65625 48.90625 10.90625 \r\nQ 45.90625 5.171875 40.15625 2 \r\nQ 34.421875 -1.171875 27.640625 -1.171875 \r\nQ 16.75 -1.171875 10.03125 5.8125 \r\nQ 3.328125 12.796875 3.328125 25.921875 \r\nz\r\nM 12.359375 25.921875 \r\nQ 12.359375 15.96875 16.703125 11.015625 \r\nQ 21.046875 6.0625 27.640625 6.0625 \r\nQ 34.1875 6.0625 38.53125 11.03125 \r\nQ 42.875 16.015625 42.875 26.21875 \r\nQ 42.875 35.84375 38.5 40.796875 \r\nQ 34.125 45.75 27.640625 45.75 \r\nQ 21.046875 45.75 16.703125 40.8125 \r\nQ 12.359375 35.890625 12.359375 25.921875 \r\nz\r\n\" id=\"ArialMT-111\"/>\r\n      <path d=\"M 21 0 \r\nL 1.265625 51.859375 \r\nL 10.546875 51.859375 \r\nL 21.6875 20.796875 \r\nQ 23.484375 15.765625 25 10.359375 \r\nQ 26.171875 14.453125 28.265625 20.21875 \r\nL 39.796875 51.859375 \r\nL 48.828125 51.859375 \r\nL 29.203125 0 \r\nz\r\n\" id=\"ArialMT-118\"/>\r\n      <path d=\"M 42.09375 16.703125 \r\nL 51.171875 15.578125 \r\nQ 49.03125 7.625 43.21875 3.21875 \r\nQ 37.40625 -1.171875 28.375 -1.171875 \r\nQ 17 -1.171875 10.328125 5.828125 \r\nQ 3.65625 12.84375 3.65625 25.484375 \r\nQ 3.65625 38.578125 10.390625 45.796875 \r\nQ 17.140625 53.03125 27.875 53.03125 \r\nQ 38.28125 53.03125 44.875 45.953125 \r\nQ 51.46875 38.875 51.46875 26.03125 \r\nQ 51.46875 25.25 51.421875 23.6875 \r\nL 12.75 23.6875 \r\nQ 13.234375 15.140625 17.578125 10.59375 \r\nQ 21.921875 6.0625 28.421875 6.0625 \r\nQ 33.25 6.0625 36.671875 8.59375 \r\nQ 40.09375 11.140625 42.09375 16.703125 \r\nz\r\nM 13.234375 30.90625 \r\nL 42.1875 30.90625 \r\nQ 41.609375 37.453125 38.875 40.71875 \r\nQ 34.671875 45.796875 27.984375 45.796875 \r\nQ 21.921875 45.796875 17.796875 41.75 \r\nQ 13.671875 37.703125 13.234375 30.90625 \r\nz\r\n\" id=\"ArialMT-101\"/>\r\n      <path d=\"M 6.5 0 \r\nL 6.5 51.859375 \r\nL 14.40625 51.859375 \r\nL 14.40625 44 \r\nQ 17.4375 49.515625 20 51.265625 \r\nQ 22.5625 53.03125 25.640625 53.03125 \r\nQ 30.078125 53.03125 34.671875 50.203125 \r\nL 31.640625 42.046875 \r\nQ 28.421875 43.953125 25.203125 43.953125 \r\nQ 22.3125 43.953125 20.015625 42.21875 \r\nQ 17.71875 40.484375 16.75 37.40625 \r\nQ 15.28125 32.71875 15.28125 27.15625 \r\nL 15.28125 0 \r\nz\r\n\" id=\"ArialMT-114\"/>\r\n      <path d=\"M 6.390625 0 \r\nL 6.390625 71.578125 \r\nL 15.1875 71.578125 \r\nL 15.1875 0 \r\nz\r\n\" id=\"ArialMT-108\"/>\r\n      <path d=\"M 40.4375 6.390625 \r\nQ 35.546875 2.25 31.03125 0.53125 \r\nQ 26.515625 -1.171875 21.34375 -1.171875 \r\nQ 12.796875 -1.171875 8.203125 3 \r\nQ 3.609375 7.171875 3.609375 13.671875 \r\nQ 3.609375 17.484375 5.34375 20.625 \r\nQ 7.078125 23.78125 9.890625 25.6875 \r\nQ 12.703125 27.59375 16.21875 28.5625 \r\nQ 18.796875 29.25 24.03125 29.890625 \r\nQ 34.671875 31.15625 39.703125 32.90625 \r\nQ 39.75 34.71875 39.75 35.203125 \r\nQ 39.75 40.578125 37.25 42.78125 \r\nQ 33.890625 45.75 27.25 45.75 \r\nQ 21.046875 45.75 18.09375 43.578125 \r\nQ 15.140625 41.40625 13.71875 35.890625 \r\nL 5.125 37.0625 \r\nQ 6.296875 42.578125 8.984375 45.96875 \r\nQ 11.671875 49.359375 16.75 51.1875 \r\nQ 21.828125 53.03125 28.515625 53.03125 \r\nQ 35.15625 53.03125 39.296875 51.46875 \r\nQ 43.453125 49.90625 45.40625 47.53125 \r\nQ 47.359375 45.171875 48.140625 41.546875 \r\nQ 48.578125 39.3125 48.578125 33.453125 \r\nL 48.578125 21.734375 \r\nQ 48.578125 9.46875 49.140625 6.21875 \r\nQ 49.703125 2.984375 51.375 0 \r\nL 42.1875 0 \r\nQ 40.828125 2.734375 40.4375 6.390625 \r\nz\r\nM 39.703125 26.03125 \r\nQ 34.90625 24.078125 25.34375 22.703125 \r\nQ 19.921875 21.921875 17.671875 20.9375 \r\nQ 15.4375 19.96875 14.203125 18.09375 \r\nQ 12.984375 16.21875 12.984375 13.921875 \r\nQ 12.984375 10.40625 15.640625 8.0625 \r\nQ 18.3125 5.71875 23.4375 5.71875 \r\nQ 28.515625 5.71875 32.46875 7.9375 \r\nQ 36.421875 10.15625 38.28125 14.015625 \r\nQ 39.703125 17 39.703125 22.796875 \r\nz\r\n\" id=\"ArialMT-97\"/>\r\n      <path d=\"M 6.59375 -19.875 \r\nL 6.59375 51.859375 \r\nL 14.59375 51.859375 \r\nL 14.59375 45.125 \r\nQ 17.4375 49.078125 21 51.046875 \r\nQ 24.5625 53.03125 29.640625 53.03125 \r\nQ 36.28125 53.03125 41.359375 49.609375 \r\nQ 46.4375 46.1875 49.015625 39.953125 \r\nQ 51.609375 33.734375 51.609375 26.3125 \r\nQ 51.609375 18.359375 48.75 11.984375 \r\nQ 45.90625 5.609375 40.453125 2.21875 \r\nQ 35.015625 -1.171875 29 -1.171875 \r\nQ 24.609375 -1.171875 21.109375 0.6875 \r\nQ 17.625 2.546875 15.375 5.375 \r\nL 15.375 -19.875 \r\nz\r\nM 14.546875 25.640625 \r\nQ 14.546875 15.625 18.59375 10.84375 \r\nQ 22.65625 6.0625 28.421875 6.0625 \r\nQ 34.28125 6.0625 38.453125 11.015625 \r\nQ 42.625 15.96875 42.625 26.375 \r\nQ 42.625 36.28125 38.546875 41.203125 \r\nQ 34.46875 46.140625 28.8125 46.140625 \r\nQ 23.1875 46.140625 18.859375 40.890625 \r\nQ 14.546875 35.640625 14.546875 25.640625 \r\nz\r\n\" id=\"ArialMT-112\"/>\r\n     </defs>\r\n     <use xlink:href=\"#ArialMT-111\"/>\r\n     <use x=\"55.615234\" xlink:href=\"#ArialMT-118\"/>\r\n     <use x=\"105.615234\" xlink:href=\"#ArialMT-101\"/>\r\n     <use x=\"161.230469\" xlink:href=\"#ArialMT-114\"/>\r\n     <use x=\"194.53125\" xlink:href=\"#ArialMT-108\"/>\r\n     <use x=\"216.748047\" xlink:href=\"#ArialMT-97\"/>\r\n     <use x=\"272.363281\" xlink:href=\"#ArialMT-112\"/>\r\n    </g>\r\n   </g>\r\n   <g id=\"text_2\">\r\n    <!-- pop -->\r\n    <g style=\"fill:#262626;\" transform=\"translate(123.080625 274.926996)scale(0.12 -0.12)\">\r\n     <use xlink:href=\"#ArialMT-112\"/>\r\n     <use x=\"55.615234\" xlink:href=\"#ArialMT-111\"/>\r\n     <use x=\"111.230469\" xlink:href=\"#ArialMT-112\"/>\r\n    </g>\r\n   </g>\r\n   <g id=\"text_3\">\r\n    <!-- education -->\r\n    <g style=\"fill:#262626;\" transform=\"translate(223.044705 274.926996)scale(0.12 -0.12)\">\r\n     <defs>\r\n      <path d=\"M 40.234375 0 \r\nL 40.234375 6.546875 \r\nQ 35.296875 -1.171875 25.734375 -1.171875 \r\nQ 19.53125 -1.171875 14.328125 2.25 \r\nQ 9.125 5.671875 6.265625 11.796875 \r\nQ 3.421875 17.921875 3.421875 25.875 \r\nQ 3.421875 33.640625 6 39.96875 \r\nQ 8.59375 46.296875 13.765625 49.65625 \r\nQ 18.953125 53.03125 25.34375 53.03125 \r\nQ 30.03125 53.03125 33.6875 51.046875 \r\nQ 37.359375 49.078125 39.65625 45.90625 \r\nL 39.65625 71.578125 \r\nL 48.390625 71.578125 \r\nL 48.390625 0 \r\nz\r\nM 12.453125 25.875 \r\nQ 12.453125 15.921875 16.640625 10.984375 \r\nQ 20.84375 6.0625 26.5625 6.0625 \r\nQ 32.328125 6.0625 36.34375 10.765625 \r\nQ 40.375 15.484375 40.375 25.140625 \r\nQ 40.375 35.796875 36.265625 40.765625 \r\nQ 32.171875 45.75 26.171875 45.75 \r\nQ 20.3125 45.75 16.375 40.96875 \r\nQ 12.453125 36.1875 12.453125 25.875 \r\nz\r\n\" id=\"ArialMT-100\"/>\r\n      <path d=\"M 40.578125 0 \r\nL 40.578125 7.625 \r\nQ 34.515625 -1.171875 24.125 -1.171875 \r\nQ 19.53125 -1.171875 15.546875 0.578125 \r\nQ 11.578125 2.34375 9.640625 5 \r\nQ 7.71875 7.671875 6.9375 11.53125 \r\nQ 6.390625 14.109375 6.390625 19.734375 \r\nL 6.390625 51.859375 \r\nL 15.1875 51.859375 \r\nL 15.1875 23.09375 \r\nQ 15.1875 16.21875 15.71875 13.8125 \r\nQ 16.546875 10.359375 19.234375 8.375 \r\nQ 21.921875 6.390625 25.875 6.390625 \r\nQ 29.828125 6.390625 33.296875 8.421875 \r\nQ 36.765625 10.453125 38.203125 13.9375 \r\nQ 39.65625 17.4375 39.65625 24.078125 \r\nL 39.65625 51.859375 \r\nL 48.4375 51.859375 \r\nL 48.4375 0 \r\nz\r\n\" id=\"ArialMT-117\"/>\r\n      <path d=\"M 40.4375 19 \r\nL 49.078125 17.875 \r\nQ 47.65625 8.9375 41.8125 3.875 \r\nQ 35.984375 -1.171875 27.484375 -1.171875 \r\nQ 16.84375 -1.171875 10.375 5.78125 \r\nQ 3.90625 12.75 3.90625 25.734375 \r\nQ 3.90625 34.125 6.6875 40.421875 \r\nQ 9.46875 46.734375 15.15625 49.875 \r\nQ 20.84375 53.03125 27.546875 53.03125 \r\nQ 35.984375 53.03125 41.359375 48.75 \r\nQ 46.734375 44.484375 48.25 36.625 \r\nL 39.703125 35.296875 \r\nQ 38.484375 40.53125 35.375 43.15625 \r\nQ 32.28125 45.796875 27.875 45.796875 \r\nQ 21.234375 45.796875 17.078125 41.03125 \r\nQ 12.9375 36.28125 12.9375 25.984375 \r\nQ 12.9375 15.53125 16.9375 10.796875 \r\nQ 20.953125 6.0625 27.390625 6.0625 \r\nQ 32.5625 6.0625 36.03125 9.234375 \r\nQ 39.5 12.40625 40.4375 19 \r\nz\r\n\" id=\"ArialMT-99\"/>\r\n      <path d=\"M 25.78125 7.859375 \r\nL 27.046875 0.09375 \r\nQ 23.34375 -0.6875 20.40625 -0.6875 \r\nQ 15.625 -0.6875 12.984375 0.828125 \r\nQ 10.359375 2.34375 9.28125 4.8125 \r\nQ 8.203125 7.28125 8.203125 15.1875 \r\nL 8.203125 45.015625 \r\nL 1.765625 45.015625 \r\nL 1.765625 51.859375 \r\nL 8.203125 51.859375 \r\nL 8.203125 64.703125 \r\nL 16.9375 69.96875 \r\nL 16.9375 51.859375 \r\nL 25.78125 51.859375 \r\nL 25.78125 45.015625 \r\nL 16.9375 45.015625 \r\nL 16.9375 14.703125 \r\nQ 16.9375 10.9375 17.40625 9.859375 \r\nQ 17.875 8.796875 18.921875 8.15625 \r\nQ 19.96875 7.515625 21.921875 7.515625 \r\nQ 23.390625 7.515625 25.78125 7.859375 \r\nz\r\n\" id=\"ArialMT-116\"/>\r\n      <path d=\"M 6.640625 61.46875 \r\nL 6.640625 71.578125 \r\nL 15.4375 71.578125 \r\nL 15.4375 61.46875 \r\nz\r\nM 6.640625 0 \r\nL 6.640625 51.859375 \r\nL 15.4375 51.859375 \r\nL 15.4375 0 \r\nz\r\n\" id=\"ArialMT-105\"/>\r\n      <path d=\"M 6.59375 0 \r\nL 6.59375 51.859375 \r\nL 14.5 51.859375 \r\nL 14.5 44.484375 \r\nQ 20.21875 53.03125 31 53.03125 \r\nQ 35.6875 53.03125 39.625 51.34375 \r\nQ 43.5625 49.65625 45.515625 46.921875 \r\nQ 47.46875 44.1875 48.25 40.4375 \r\nQ 48.734375 37.984375 48.734375 31.890625 \r\nL 48.734375 0 \r\nL 39.9375 0 \r\nL 39.9375 31.546875 \r\nQ 39.9375 36.921875 38.90625 39.578125 \r\nQ 37.890625 42.234375 35.28125 43.8125 \r\nQ 32.671875 45.40625 29.15625 45.40625 \r\nQ 23.53125 45.40625 19.453125 41.84375 \r\nQ 15.375 38.28125 15.375 28.328125 \r\nL 15.375 0 \r\nz\r\n\" id=\"ArialMT-110\"/>\r\n     </defs>\r\n     <use xlink:href=\"#ArialMT-101\"/>\r\n     <use x=\"55.615234\" xlink:href=\"#ArialMT-100\"/>\r\n     <use x=\"111.230469\" xlink:href=\"#ArialMT-117\"/>\r\n     <use x=\"166.845703\" xlink:href=\"#ArialMT-99\"/>\r\n     <use x=\"216.845703\" xlink:href=\"#ArialMT-97\"/>\r\n     <use x=\"272.460938\" xlink:href=\"#ArialMT-116\"/>\r\n     <use x=\"300.244141\" xlink:href=\"#ArialMT-105\"/>\r\n     <use x=\"322.460938\" xlink:href=\"#ArialMT-111\"/>\r\n     <use x=\"378.076172\" xlink:href=\"#ArialMT-110\"/>\r\n    </g>\r\n   </g>\r\n  </g>\r\n </g>\r\n <defs>\r\n  <clipPath id=\"p96f11f6c11\">\r\n   <rect height=\"271.8\" width=\"351.744705\" x=\"7.2\" y=\"7.2\"/>\r\n  </clipPath>\r\n </defs>\r\n</svg>\r\n",
      "image/png": "[encoded data removed]"
     },
     "metadata": {}
    }
   ],
   "source": [
    "plt.figure(figsize=(10,5))\n",
    "v = venn2(subsets = (4, 4, 5), set_labels = ('life', 'gdp'))\n",
    "v.get_label_by_id('100').set_text('')\n",
    "v.get_label_by_id('010').set_text('' )\n",
    "v.get_label_by_id('110').set_text('overlap')\n",
    "plt.show()\n",
    "\n",
    "plt.figure(figsize=(10,5))\n",
    "v = venn2(subsets = (4, 4, 5), set_labels = ('life', 'pop'))\n",
    "v.get_label_by_id('100').set_text('')\n",
    "v.get_label_by_id('010').set_text('' )\n",
    "v.get_label_by_id('110').set_text('overlap')\n",
    "plt.show()\n",
    "\n",
    "plt.figure(figsize=(10,5))\n",
    "v = venn2(subsets = (4, 4, 10), set_labels = ('life', 'education'))\n",
    "v.get_label_by_id('100').set_text('')\n",
    "v.get_label_by_id('010').set_text('' )\n",
    "v.get_label_by_id('110').set_text('overlap')\n",
    "plt.show()\n",
    "\n",
    "plt.figure(figsize=(10,5))\n",
    "v = venn2(subsets = (4, 4, 5), set_labels = ('gdp', 'education'))\n",
    "v.get_label_by_id('100').set_text('')\n",
    "v.get_label_by_id('010').set_text('' )\n",
    "v.get_label_by_id('110').set_text('overlap')\n",
    "plt.show()\n",
    "\n",
    "plt.figure(figsize=(10,5))\n",
    "v = venn2(subsets = (4, 4, 5), set_labels = ('gdp', 'pop'))\n",
    "v.get_label_by_id('100').set_text('')\n",
    "v.get_label_by_id('010').set_text('' )\n",
    "v.get_label_by_id('110').set_text('overlap')\n",
    "plt.show()\n",
    "\n",
    "plt.figure(figsize=(10,5))\n",
    "v = venn2(subsets = (4, 4, 5), set_labels = ('pop', 'education'))\n",
    "v.get_label_by_id('100').set_text('')\n",
    "v.get_label_by_id('010').set_text('' )\n",
    "v.get_label_by_id('110').set_text('overlap')\n",
    "plt.show()\n"
   ]
  },
  {
   "cell_type": "markdown",
   "metadata": {},
   "source": [
    "**We now merge all four data sets**"
   ]
  },
  {
   "cell_type": "code",
   "execution_count": 29,
   "metadata": {},
   "outputs": [
    {
     "output_type": "stream",
     "name": "stdout",
     "text": [
      "Number of geographical areas = 332\nNumber of years              = 30\n"
     ]
    },
    {
     "output_type": "execute_result",
     "data": {
      "text/plain": [
       "     geo  time    Y1   Y10   Y11   Y12   Y13   Y14   Y15   Y16  ...  Y83  Y84  \\\n",
       "0   AL01  2019  78.5  69.7  68.8  67.8  66.8  65.9  64.9  63.9  ...  5.7  5.2   \n",
       "1   AL02  2019  81.5  72.6  71.6  70.6  69.6  68.6  67.6  66.6  ...  8.3  8.0   \n",
       "2   AL03  2019  77.0  68.1  67.1  66.2  65.2  64.2  63.2  62.2  ...  3.0  2.3   \n",
       "3   AT11  1990  75.0  66.1  65.1  64.1  63.1  62.1  61.2  60.2  ...  5.9  5.5   \n",
       "4   AT11  1991  74.3  65.5  64.5  63.5  62.5  61.6  60.6  59.6  ...  5.9  5.5   \n",
       "..   ...   ...   ...   ...   ...   ...   ...   ...   ...   ...  ...  ...  ...   \n",
       "95  AT21  1996  77.4  68.6  67.6  66.6  65.6  64.6  63.6  62.6  ...  6.6  6.2   \n",
       "96  AT21  1997  77.5  68.6  67.7  66.7  65.7  64.7  63.7  62.7  ...  6.7  6.3   \n",
       "97  AT21  1998  78.2  69.3  68.3  67.3  66.3  65.3  64.4  63.4  ...  6.8  6.4   \n",
       "98  AT21  1999  77.7  68.9  67.9  66.9  65.9  64.9  64.0  63.0  ...  6.9  6.5   \n",
       "99  AT21  2000  78.1  69.2  68.2  67.2  66.2  65.2  64.2  63.3  ...  6.9  6.5   \n",
       "\n",
       "      Y9  Y_GE85  Y_LT1       gdp  ED0_2  ED3_4  ED5_8     pop  \n",
       "0   70.7     4.8   78.7       NaN    NaN    NaN    NaN     NaN  \n",
       "1   73.5     7.8   81.6       NaN    NaN    NaN    NaN     NaN  \n",
       "2   69.1     1.6   77.4       NaN    NaN    NaN    NaN     NaN  \n",
       "3   67.1     5.1   75.7       NaN    NaN    NaN    NaN     NaN  \n",
       "4   66.5     5.3   74.8       NaN    NaN    NaN    NaN     NaN  \n",
       "..   ...     ...    ...       ...    ...    ...    ...     ...  \n",
       "95  69.6     5.8   78.0       NaN    NaN    NaN    NaN     NaN  \n",
       "96  69.6     6.0   78.1       NaN    NaN    NaN    NaN     NaN  \n",
       "97  70.3     6.0   78.9       NaN    NaN    NaN    NaN     NaN  \n",
       "98  69.9     6.1   78.5       NaN    NaN    NaN    NaN     NaN  \n",
       "99  70.2     6.0   78.8  11329.16    NaN    NaN    NaN  560.13  \n",
       "\n",
       "[100 rows x 93 columns]"
      ],
      "text/html": "<div>\n<style scoped>\n    .dataframe tbody tr th:only-of-type {\n        vertical-align: middle;\n    }\n\n    .dataframe tbody tr th {\n        vertical-align: top;\n    }\n\n    .dataframe thead th {\n        text-align: right;\n    }\n</style>\n<table border=\"1\" class=\"dataframe\">\n  <thead>\n    <tr style=\"text-align: right;\">\n      <th></th>\n      <th>geo</th>\n      <th>time</th>\n      <th>Y1</th>\n      <th>Y10</th>\n      <th>Y11</th>\n      <th>Y12</th>\n      <th>Y13</th>\n      <th>Y14</th>\n      <th>Y15</th>\n      <th>Y16</th>\n      <th>...</th>\n      <th>Y83</th>\n      <th>Y84</th>\n      <th>Y9</th>\n      <th>Y_GE85</th>\n      <th>Y_LT1</th>\n      <th>gdp</th>\n      <th>ED0_2</th>\n      <th>ED3_4</th>\n      <th>ED5_8</th>\n      <th>pop</th>\n    </tr>\n  </thead>\n  <tbody>\n    <tr>\n      <th>0</th>\n      <td>AL01</td>\n      <td>2019</td>\n      <td>78.5</td>\n      <td>69.7</td>\n      <td>68.8</td>\n      <td>67.8</td>\n      <td>66.8</td>\n      <td>65.9</td>\n      <td>64.9</td>\n      <td>63.9</td>\n      <td>...</td>\n      <td>5.7</td>\n      <td>5.2</td>\n      <td>70.7</td>\n      <td>4.8</td>\n      <td>78.7</td>\n      <td>NaN</td>\n      <td>NaN</td>\n      <td>NaN</td>\n      <td>NaN</td>\n      <td>NaN</td>\n    </tr>\n    <tr>\n      <th>1</th>\n      <td>AL02</td>\n      <td>2019</td>\n      <td>81.5</td>\n      <td>72.6</td>\n      <td>71.6</td>\n      <td>70.6</td>\n      <td>69.6</td>\n      <td>68.6</td>\n      <td>67.6</td>\n      <td>66.6</td>\n      <td>...</td>\n      <td>8.3</td>\n      <td>8.0</td>\n      <td>73.5</td>\n      <td>7.8</td>\n      <td>81.6</td>\n      <td>NaN</td>\n      <td>NaN</td>\n      <td>NaN</td>\n      <td>NaN</td>\n      <td>NaN</td>\n    </tr>\n    <tr>\n      <th>2</th>\n      <td>AL03</td>\n      <td>2019</td>\n      <td>77.0</td>\n      <td>68.1</td>\n      <td>67.1</td>\n      <td>66.2</td>\n      <td>65.2</td>\n      <td>64.2</td>\n      <td>63.2</td>\n      <td>62.2</td>\n      <td>...</td>\n      <td>3.0</td>\n      <td>2.3</td>\n      <td>69.1</td>\n      <td>1.6</td>\n      <td>77.4</td>\n      <td>NaN</td>\n      <td>NaN</td>\n      <td>NaN</td>\n      <td>NaN</td>\n      <td>NaN</td>\n    </tr>\n    <tr>\n      <th>3</th>\n      <td>AT11</td>\n      <td>1990</td>\n      <td>75.0</td>\n      <td>66.1</td>\n      <td>65.1</td>\n      <td>64.1</td>\n      <td>63.1</td>\n      <td>62.1</td>\n      <td>61.2</td>\n      <td>60.2</td>\n      <td>...</td>\n      <td>5.9</td>\n      <td>5.5</td>\n      <td>67.1</td>\n      <td>5.1</td>\n      <td>75.7</td>\n      <td>NaN</td>\n      <td>NaN</td>\n      <td>NaN</td>\n      <td>NaN</td>\n      <td>NaN</td>\n    </tr>\n    <tr>\n      <th>4</th>\n      <td>AT11</td>\n      <td>1991</td>\n      <td>74.3</td>\n      <td>65.5</td>\n      <td>64.5</td>\n      <td>63.5</td>\n      <td>62.5</td>\n      <td>61.6</td>\n      <td>60.6</td>\n      <td>59.6</td>\n      <td>...</td>\n      <td>5.9</td>\n      <td>5.5</td>\n      <td>66.5</td>\n      <td>5.3</td>\n      <td>74.8</td>\n      <td>NaN</td>\n      <td>NaN</td>\n      <td>NaN</td>\n      <td>NaN</td>\n      <td>NaN</td>\n    </tr>\n    <tr>\n      <th>...</th>\n      <td>...</td>\n      <td>...</td>\n      <td>...</td>\n      <td>...</td>\n      <td>...</td>\n      <td>...</td>\n      <td>...</td>\n      <td>...</td>\n      <td>...</td>\n      <td>...</td>\n      <td>...</td>\n      <td>...</td>\n      <td>...</td>\n      <td>...</td>\n      <td>...</td>\n      <td>...</td>\n      <td>...</td>\n      <td>...</td>\n      <td>...</td>\n      <td>...</td>\n      <td>...</td>\n    </tr>\n    <tr>\n      <th>95</th>\n      <td>AT21</td>\n      <td>1996</td>\n      <td>77.4</td>\n      <td>68.6</td>\n      <td>67.6</td>\n      <td>66.6</td>\n      <td>65.6</td>\n      <td>64.6</td>\n      <td>63.6</td>\n      <td>62.6</td>\n      <td>...</td>\n      <td>6.6</td>\n      <td>6.2</td>\n      <td>69.6</td>\n      <td>5.8</td>\n      <td>78.0</td>\n      <td>NaN</td>\n      <td>NaN</td>\n      <td>NaN</td>\n      <td>NaN</td>\n      <td>NaN</td>\n    </tr>\n    <tr>\n      <th>96</th>\n      <td>AT21</td>\n      <td>1997</td>\n      <td>77.5</td>\n      <td>68.6</td>\n      <td>67.7</td>\n      <td>66.7</td>\n      <td>65.7</td>\n      <td>64.7</td>\n      <td>63.7</td>\n      <td>62.7</td>\n      <td>...</td>\n      <td>6.7</td>\n      <td>6.3</td>\n      <td>69.6</td>\n      <td>6.0</td>\n      <td>78.1</td>\n      <td>NaN</td>\n      <td>NaN</td>\n      <td>NaN</td>\n      <td>NaN</td>\n      <td>NaN</td>\n    </tr>\n    <tr>\n      <th>97</th>\n      <td>AT21</td>\n      <td>1998</td>\n      <td>78.2</td>\n      <td>69.3</td>\n      <td>68.3</td>\n      <td>67.3</td>\n      <td>66.3</td>\n      <td>65.3</td>\n      <td>64.4</td>\n      <td>63.4</td>\n      <td>...</td>\n      <td>6.8</td>\n      <td>6.4</td>\n      <td>70.3</td>\n      <td>6.0</td>\n      <td>78.9</td>\n      <td>NaN</td>\n      <td>NaN</td>\n      <td>NaN</td>\n      <td>NaN</td>\n      <td>NaN</td>\n    </tr>\n    <tr>\n      <th>98</th>\n      <td>AT21</td>\n      <td>1999</td>\n      <td>77.7</td>\n      <td>68.9</td>\n      <td>67.9</td>\n      <td>66.9</td>\n      <td>65.9</td>\n      <td>64.9</td>\n      <td>64.0</td>\n      <td>63.0</td>\n      <td>...</td>\n      <td>6.9</td>\n      <td>6.5</td>\n      <td>69.9</td>\n      <td>6.1</td>\n      <td>78.5</td>\n      <td>NaN</td>\n      <td>NaN</td>\n      <td>NaN</td>\n      <td>NaN</td>\n      <td>NaN</td>\n    </tr>\n    <tr>\n      <th>99</th>\n      <td>AT21</td>\n      <td>2000</td>\n      <td>78.1</td>\n      <td>69.2</td>\n      <td>68.2</td>\n      <td>67.2</td>\n      <td>66.2</td>\n      <td>65.2</td>\n      <td>64.2</td>\n      <td>63.3</td>\n      <td>...</td>\n      <td>6.9</td>\n      <td>6.5</td>\n      <td>70.2</td>\n      <td>6.0</td>\n      <td>78.8</td>\n      <td>11329.16</td>\n      <td>NaN</td>\n      <td>NaN</td>\n      <td>NaN</td>\n      <td>560.13</td>\n    </tr>\n  </tbody>\n</table>\n<p>100 rows × 93 columns</p>\n</div>"
     },
     "metadata": {},
     "execution_count": 29
    }
   ],
   "source": [
    "# a. merge dataset life and gdp\n",
    "dataset_1 = pd.merge(life, gdp, on=['geo', 'time'], how='left')\n",
    "dataset_1.head(5)\n",
    "\n",
    "# b. merge with dataset education\n",
    "dataset_2 = pd.merge(dataset_1, education, on=['geo', 'time'], how='left')\n",
    "dataset_2.head(5)\n",
    "\n",
    "# c. merge with dataset pop\n",
    "ds = pd.merge(dataset_2, pop, on=['geo', 'time'], how='left')\n",
    "\n",
    "\n",
    "print(f'Number of geographical areas = {len(ds.geo.unique())}')\n",
    "print(f'Number of years              = {len(ds.time.unique())}')\n",
    "\n",
    "ds.head(100)"
   ]
  },
  {
   "cell_type": "markdown",
   "metadata": {},
   "source": [
    "# Analysis"
   ]
  },
  {
   "cell_type": "markdown",
   "metadata": {},
   "source": [
    "**Calculate GDP per capita**"
   ]
  },
  {
   "cell_type": "code",
   "execution_count": 30,
   "metadata": {},
   "outputs": [],
   "source": [
    "ds['gdp_pc'] = ds['gdp']/ds['pop']\n",
    "ds['time'] = pd.to_numeric(ds['time'])"
   ]
  },
  {
   "cell_type": "markdown",
   "metadata": {},
   "source": [
    "**Summary statistics**"
   ]
  },
  {
   "cell_type": "code",
   "execution_count": 31,
   "metadata": {},
   "outputs": [
    {
     "output_type": "execute_result",
     "data": {
      "text/plain": [
       "              time           Y1          Y10          Y11          Y12  \\\n",
       "count  7413.000000  7413.000000  7413.000000  7413.000000  7413.000000   \n",
       "mean   2006.582086    78.339053    69.466410    68.474585    67.483043   \n",
       "std       8.257912     2.931996     2.882124     2.878725     2.876474   \n",
       "min    1990.000000    66.600000    57.900000    56.900000    55.900000   \n",
       "25%    2000.000000    76.900000    68.000000    67.000000    66.000000   \n",
       "50%    2007.000000    78.800000    69.900000    68.900000    67.900000   \n",
       "75%    2014.000000    80.500000    71.500000    70.600000    69.600000   \n",
       "max    2019.000000    85.000000    76.000000    75.000000    74.000000   \n",
       "\n",
       "               Y13          Y14          Y15          Y16          Y17  ...  \\\n",
       "count  7413.000000  7413.000000  7413.000000  7413.000000  7413.000000  ...   \n",
       "mean     66.491744    65.501862    64.513962    63.529583    62.548698  ...   \n",
       "std       2.873913     2.871002     2.867280     2.863878     2.859285  ...   \n",
       "min      54.900000    54.000000    53.000000    52.000000    51.100000  ...   \n",
       "25%      65.100000    64.100000    63.100000    62.100000    61.100000  ...   \n",
       "50%      66.900000    65.900000    64.900000    64.000000    63.000000  ...   \n",
       "75%      68.600000    67.600000    66.600000    65.600000    64.600000  ...   \n",
       "max      73.000000    72.000000    71.000000    70.000000    69.000000  ...   \n",
       "\n",
       "               Y84           Y9       Y_GE85        Y_LT1            gdp  \\\n",
       "count  7413.000000  7413.000000  7413.000000  7413.000000    4445.000000   \n",
       "mean      6.626319    70.458478     6.216134    78.937637   44397.147231   \n",
       "std       0.867787     2.884893     0.830519     3.092512   51766.292346   \n",
       "min       2.300000    58.800000     1.600000    66.600000     681.550000   \n",
       "25%       6.100000    69.000000     5.700000    77.400000   15366.150000   \n",
       "50%       6.700000    70.900000     6.200000    79.400000   29596.230000   \n",
       "75%       7.100000    72.500000     6.700000    81.200000   53082.180000   \n",
       "max       9.800000    77.000000     9.600000    85.800000  679085.940000   \n",
       "\n",
       "             ED0_2        ED3_4        ED5_8           pop       gdp_pc  \n",
       "count  4677.000000  4677.000000  4677.000000   4810.000000  4444.000000  \n",
       "mean     32.192597    43.550149    25.632914   1890.184782    23.697353  \n",
       "std      14.907194    12.619536    10.558605   1686.150361    10.388389  \n",
       "min       4.800000     0.000000     0.000000     25.740000     4.008169  \n",
       "25%      22.043750    34.955556    17.938889    849.865000    16.296940  \n",
       "50%      28.610526    42.593750    24.405263   1447.545000    22.616030  \n",
       "75%      40.888889    53.266667    31.655556   2357.552500    29.514308  \n",
       "max      88.816667    81.008333    75.683333  15293.410000    81.046211  \n",
       "\n",
       "[8 rows x 93 columns]"
      ],
      "text/html": "<div>\n<style scoped>\n    .dataframe tbody tr th:only-of-type {\n        vertical-align: middle;\n    }\n\n    .dataframe tbody tr th {\n        vertical-align: top;\n    }\n\n    .dataframe thead th {\n        text-align: right;\n    }\n</style>\n<table border=\"1\" class=\"dataframe\">\n  <thead>\n    <tr style=\"text-align: right;\">\n      <th></th>\n      <th>time</th>\n      <th>Y1</th>\n      <th>Y10</th>\n      <th>Y11</th>\n      <th>Y12</th>\n      <th>Y13</th>\n      <th>Y14</th>\n      <th>Y15</th>\n      <th>Y16</th>\n      <th>Y17</th>\n      <th>...</th>\n      <th>Y84</th>\n      <th>Y9</th>\n      <th>Y_GE85</th>\n      <th>Y_LT1</th>\n      <th>gdp</th>\n      <th>ED0_2</th>\n      <th>ED3_4</th>\n      <th>ED5_8</th>\n      <th>pop</th>\n      <th>gdp_pc</th>\n    </tr>\n  </thead>\n  <tbody>\n    <tr>\n      <th>count</th>\n      <td>7413.000000</td>\n      <td>7413.000000</td>\n      <td>7413.000000</td>\n      <td>7413.000000</td>\n      <td>7413.000000</td>\n      <td>7413.000000</td>\n      <td>7413.000000</td>\n      <td>7413.000000</td>\n      <td>7413.000000</td>\n      <td>7413.000000</td>\n      <td>...</td>\n      <td>7413.000000</td>\n      <td>7413.000000</td>\n      <td>7413.000000</td>\n      <td>7413.000000</td>\n      <td>4445.000000</td>\n      <td>4677.000000</td>\n      <td>4677.000000</td>\n      <td>4677.000000</td>\n      <td>4810.000000</td>\n      <td>4444.000000</td>\n    </tr>\n    <tr>\n      <th>mean</th>\n      <td>2006.582086</td>\n      <td>78.339053</td>\n      <td>69.466410</td>\n      <td>68.474585</td>\n      <td>67.483043</td>\n      <td>66.491744</td>\n      <td>65.501862</td>\n      <td>64.513962</td>\n      <td>63.529583</td>\n      <td>62.548698</td>\n      <td>...</td>\n      <td>6.626319</td>\n      <td>70.458478</td>\n      <td>6.216134</td>\n      <td>78.937637</td>\n      <td>44397.147231</td>\n      <td>32.192597</td>\n      <td>43.550149</td>\n      <td>25.632914</td>\n      <td>1890.184782</td>\n      <td>23.697353</td>\n    </tr>\n    <tr>\n      <th>std</th>\n      <td>8.257912</td>\n      <td>2.931996</td>\n      <td>2.882124</td>\n      <td>2.878725</td>\n      <td>2.876474</td>\n      <td>2.873913</td>\n      <td>2.871002</td>\n      <td>2.867280</td>\n      <td>2.863878</td>\n      <td>2.859285</td>\n      <td>...</td>\n      <td>0.867787</td>\n      <td>2.884893</td>\n      <td>0.830519</td>\n      <td>3.092512</td>\n      <td>51766.292346</td>\n      <td>14.907194</td>\n      <td>12.619536</td>\n      <td>10.558605</td>\n      <td>1686.150361</td>\n      <td>10.388389</td>\n    </tr>\n    <tr>\n      <th>min</th>\n      <td>1990.000000</td>\n      <td>66.600000</td>\n      <td>57.900000</td>\n      <td>56.900000</td>\n      <td>55.900000</td>\n      <td>54.900000</td>\n      <td>54.000000</td>\n      <td>53.000000</td>\n      <td>52.000000</td>\n      <td>51.100000</td>\n      <td>...</td>\n      <td>2.300000</td>\n      <td>58.800000</td>\n      <td>1.600000</td>\n      <td>66.600000</td>\n      <td>681.550000</td>\n      <td>4.800000</td>\n      <td>0.000000</td>\n      <td>0.000000</td>\n      <td>25.740000</td>\n      <td>4.008169</td>\n    </tr>\n    <tr>\n      <th>25%</th>\n      <td>2000.000000</td>\n      <td>76.900000</td>\n      <td>68.000000</td>\n      <td>67.000000</td>\n      <td>66.000000</td>\n      <td>65.100000</td>\n      <td>64.100000</td>\n      <td>63.100000</td>\n      <td>62.100000</td>\n      <td>61.100000</td>\n      <td>...</td>\n      <td>6.100000</td>\n      <td>69.000000</td>\n      <td>5.700000</td>\n      <td>77.400000</td>\n      <td>15366.150000</td>\n      <td>22.043750</td>\n      <td>34.955556</td>\n      <td>17.938889</td>\n      <td>849.865000</td>\n      <td>16.296940</td>\n    </tr>\n    <tr>\n      <th>50%</th>\n      <td>2007.000000</td>\n      <td>78.800000</td>\n      <td>69.900000</td>\n      <td>68.900000</td>\n      <td>67.900000</td>\n      <td>66.900000</td>\n      <td>65.900000</td>\n      <td>64.900000</td>\n      <td>64.000000</td>\n      <td>63.000000</td>\n      <td>...</td>\n      <td>6.700000</td>\n      <td>70.900000</td>\n      <td>6.200000</td>\n      <td>79.400000</td>\n      <td>29596.230000</td>\n      <td>28.610526</td>\n      <td>42.593750</td>\n      <td>24.405263</td>\n      <td>1447.545000</td>\n      <td>22.616030</td>\n    </tr>\n    <tr>\n      <th>75%</th>\n      <td>2014.000000</td>\n      <td>80.500000</td>\n      <td>71.500000</td>\n      <td>70.600000</td>\n      <td>69.600000</td>\n      <td>68.600000</td>\n      <td>67.600000</td>\n      <td>66.600000</td>\n      <td>65.600000</td>\n      <td>64.600000</td>\n      <td>...</td>\n      <td>7.100000</td>\n      <td>72.500000</td>\n      <td>6.700000</td>\n      <td>81.200000</td>\n      <td>53082.180000</td>\n      <td>40.888889</td>\n      <td>53.266667</td>\n      <td>31.655556</td>\n      <td>2357.552500</td>\n      <td>29.514308</td>\n    </tr>\n    <tr>\n      <th>max</th>\n      <td>2019.000000</td>\n      <td>85.000000</td>\n      <td>76.000000</td>\n      <td>75.000000</td>\n      <td>74.000000</td>\n      <td>73.000000</td>\n      <td>72.000000</td>\n      <td>71.000000</td>\n      <td>70.000000</td>\n      <td>69.000000</td>\n      <td>...</td>\n      <td>9.800000</td>\n      <td>77.000000</td>\n      <td>9.600000</td>\n      <td>85.800000</td>\n      <td>679085.940000</td>\n      <td>88.816667</td>\n      <td>81.008333</td>\n      <td>75.683333</td>\n      <td>15293.410000</td>\n      <td>81.046211</td>\n    </tr>\n  </tbody>\n</table>\n<p>8 rows × 93 columns</p>\n</div>"
     },
     "metadata": {},
     "execution_count": 31
    }
   ],
   "source": [
    "ds.describe()"
   ]
  },
  {
   "cell_type": "markdown",
   "metadata": {},
   "source": [
    "To get a quick overview of the data, we show some **summary statistics by year**:"
   ]
  },
  {
   "cell_type": "code",
   "execution_count": 32,
   "metadata": {},
   "outputs": [
    {
     "output_type": "execute_result",
     "data": {
      "text/plain": [
       "         Y1          Y10          Y11          Y12          Y13        ...  \\\n",
       "       mean   std   mean   std   mean   std   mean   std   mean   std  ...   \n",
       "time                                                                   ...   \n",
       "1990  75.43  2.47  66.66  2.37  65.67  2.37  64.69  2.37  63.70  2.36  ...   \n",
       "1991  75.34  2.68  66.56  2.60  65.57  2.60  64.59  2.59  63.60  2.60  ...   \n",
       "1992  75.37  2.83  66.57  2.76  65.59  2.75  64.60  2.75  63.61  2.75  ...   \n",
       "1993  75.71  2.60  66.90  2.55  65.91  2.55  64.92  2.54  63.93  2.54  ...   \n",
       "1994  76.06  2.66  67.24  2.60  66.25  2.60  65.27  2.60  64.28  2.60  ...   \n",
       "1995  75.93  2.88  67.11  2.81  66.12  2.81  65.14  2.80  64.15  2.80  ...   \n",
       "1996  76.18  2.81  67.36  2.75  66.37  2.74  65.38  2.74  64.39  2.73  ...   \n",
       "1997  76.49  2.72  67.66  2.67  66.67  2.67  65.68  2.67  64.69  2.66  ...   \n",
       "1998  76.65  2.70  67.80  2.66  66.81  2.65  65.82  2.65  64.84  2.65  ...   \n",
       "1999  76.90  2.46  68.04  2.42  67.05  2.42  66.06  2.42  65.07  2.42  ...   \n",
       "2000  77.18  2.40  68.31  2.37  67.32  2.37  66.33  2.37  65.34  2.37  ...   \n",
       "2001  77.61  2.38  68.73  2.35  67.74  2.34  66.75  2.34  65.76  2.34  ...   \n",
       "2002  77.54  2.32  68.67  2.30  67.68  2.30  66.68  2.30  65.69  2.29  ...   \n",
       "2003  77.57  2.28  68.69  2.26  67.70  2.26  66.71  2.26  65.72  2.25  ...   \n",
       "2004  77.96  2.55  69.07  2.51  68.08  2.52  67.09  2.52  66.10  2.51  ...   \n",
       "2005  78.03  2.59  69.16  2.55  68.17  2.55  67.17  2.55  66.18  2.55  ...   \n",
       "2006  78.45  2.65  69.56  2.62  68.57  2.62  67.57  2.62  66.58  2.62  ...   \n",
       "2007  78.62  2.63  69.73  2.60  68.74  2.60  67.75  2.60  66.75  2.60  ...   \n",
       "2008  78.81  2.54  69.92  2.52  68.92  2.52  67.94  2.52  66.94  2.51  ...   \n",
       "2009  78.81  2.57  69.94  2.52  68.95  2.51  67.96  2.51  66.97  2.50  ...   \n",
       "2010  79.10  2.54  70.23  2.49  69.24  2.48  68.25  2.48  67.25  2.48  ...   \n",
       "2011  79.37  2.47  70.50  2.42  69.50  2.42  68.51  2.41  67.52  2.42  ...   \n",
       "2012  79.46  2.35  70.57  2.32  69.57  2.32  68.58  2.32  67.58  2.31  ...   \n",
       "2013  79.72  2.32  70.83  2.29  69.83  2.29  68.84  2.29  67.84  2.28  ...   \n",
       "2014  79.99  2.41  71.09  2.38  70.09  2.38  69.10  2.38  68.11  2.38  ...   \n",
       "2015  79.75  2.33  70.84  2.30  69.85  2.30  68.86  2.29  67.87  2.29  ...   \n",
       "2016  80.05  2.36  71.14  2.33  70.15  2.33  69.16  2.33  68.16  2.33  ...   \n",
       "2017  79.98  2.41  71.07  2.38  70.08  2.38  69.08  2.38  68.09  2.38  ...   \n",
       "2018  80.08  2.44  71.17  2.41  70.18  2.41  69.19  2.41  68.19  2.41  ...   \n",
       "2019  80.26  2.54  71.35  2.51  70.36  2.51  69.37  2.51  68.37  2.51  ...   \n",
       "\n",
       "      ED0_2         ED3_4         ED5_8             pop          gdp_pc         \n",
       "       mean    std   mean    std   mean    std     mean      std   mean    std  \n",
       "time                                                                            \n",
       "1990    NaN    NaN    NaN    NaN    NaN    NaN      NaN      NaN    NaN    NaN  \n",
       "1991    NaN    NaN    NaN    NaN    NaN    NaN      NaN      NaN    NaN    NaN  \n",
       "1992    NaN    NaN    NaN    NaN    NaN    NaN      NaN      NaN    NaN    NaN  \n",
       "1993    NaN    NaN    NaN    NaN    NaN    NaN      NaN      NaN    NaN    NaN  \n",
       "1994    NaN    NaN    NaN    NaN    NaN    NaN      NaN      NaN    NaN    NaN  \n",
       "1995    NaN    NaN    NaN    NaN    NaN    NaN      NaN      NaN    NaN    NaN  \n",
       "1996    NaN    NaN    NaN    NaN    NaN    NaN      NaN      NaN    NaN    NaN  \n",
       "1997    NaN    NaN    NaN    NaN    NaN    NaN      NaN      NaN    NaN    NaN  \n",
       "1998    NaN    NaN    NaN    NaN    NaN    NaN      NaN      NaN    NaN    NaN  \n",
       "1999    NaN    NaN    NaN    NaN    NaN    NaN      NaN      NaN    NaN    NaN  \n",
       "2000    NaN    NaN    NaN    NaN    NaN    NaN  1725.00  1674.76  17.06   7.83  \n",
       "2001    NaN    NaN    NaN    NaN    NaN    NaN  1684.38  1639.02  18.92   7.95  \n",
       "2002    NaN    NaN    NaN    NaN    NaN    NaN  1805.47  1561.00  19.74   8.10  \n",
       "2003    NaN    NaN    NaN    NaN    NaN    NaN  1805.66  1575.00  20.35   8.10  \n",
       "2004  35.02  13.68  45.09  12.66  20.83   8.07  1853.44  1572.18  20.65   8.64  \n",
       "2005  33.76  12.84  45.46  12.20  21.61   8.02  1860.86  1586.60  21.41   8.89  \n",
       "2006  33.95  12.56  45.55  11.80  21.98   8.06  1861.35  1596.65  22.55   9.28  \n",
       "2007  33.46  12.99  45.63  12.36  22.36   8.35  1851.65  1596.66  23.94   9.63  \n",
       "2008  33.03  13.00  45.47  12.18  22.88   8.25  1809.92  1593.04  24.97   9.73  \n",
       "2009  36.27  17.40  42.64  14.22  22.44   9.28  1917.53  1697.86  22.13   9.82  \n",
       "2010  35.54  17.42  42.74  14.08  22.87   9.17  1919.90  1715.58  22.97  10.14  \n",
       "2011  34.64  17.49  41.99  13.99  24.30  10.56  1926.71  1724.17  23.62  10.33  \n",
       "2012  32.22  14.91  43.33  12.37  26.00  10.11  1916.58  1740.95  24.01  10.33  \n",
       "2013  30.97  15.19  43.49  12.48  27.09  10.89  1931.21  1735.83  24.06  10.45  \n",
       "2014  30.05  14.89  43.43  12.69  27.99  11.19  1928.00  1735.38  24.68  10.58  \n",
       "2015  29.55  14.49  43.51  12.30  28.35  11.09  1940.89  1748.35  25.43  10.64  \n",
       "2016  29.75  14.94  42.84  12.49  28.89  11.43  1944.02  1755.80  25.79  10.74  \n",
       "2017  29.44  13.85  42.44  11.70  29.65  11.59  1946.11  1757.58  26.58  11.19  \n",
       "2018  29.12  13.83  42.20  11.50  30.39  11.82  1958.69  1767.42  27.42  11.60  \n",
       "2019  30.57  14.24  42.40  11.79  28.70  10.19  1992.44  1790.33  27.85  11.83  \n",
       "\n",
       "[30 rows x 184 columns]"
      ],
      "text/html": "<div>\n<style scoped>\n    .dataframe tbody tr th:only-of-type {\n        vertical-align: middle;\n    }\n\n    .dataframe tbody tr th {\n        vertical-align: top;\n    }\n\n    .dataframe thead tr th {\n        text-align: left;\n    }\n\n    .dataframe thead tr:last-of-type th {\n        text-align: right;\n    }\n</style>\n<table border=\"1\" class=\"dataframe\">\n  <thead>\n    <tr>\n      <th></th>\n      <th colspan=\"2\" halign=\"left\">Y1</th>\n      <th colspan=\"2\" halign=\"left\">Y10</th>\n      <th colspan=\"2\" halign=\"left\">Y11</th>\n      <th colspan=\"2\" halign=\"left\">Y12</th>\n      <th colspan=\"2\" halign=\"left\">Y13</th>\n      <th>...</th>\n      <th colspan=\"2\" halign=\"left\">ED0_2</th>\n      <th colspan=\"2\" halign=\"left\">ED3_4</th>\n      <th colspan=\"2\" halign=\"left\">ED5_8</th>\n      <th colspan=\"2\" halign=\"left\">pop</th>\n      <th colspan=\"2\" halign=\"left\">gdp_pc</th>\n    </tr>\n    <tr>\n      <th></th>\n      <th>mean</th>\n      <th>std</th>\n      <th>mean</th>\n      <th>std</th>\n      <th>mean</th>\n      <th>std</th>\n      <th>mean</th>\n      <th>std</th>\n      <th>mean</th>\n      <th>std</th>\n      <th>...</th>\n      <th>mean</th>\n      <th>std</th>\n      <th>mean</th>\n      <th>std</th>\n      <th>mean</th>\n      <th>std</th>\n      <th>mean</th>\n      <th>std</th>\n      <th>mean</th>\n      <th>std</th>\n    </tr>\n    <tr>\n      <th>time</th>\n      <th></th>\n      <th></th>\n      <th></th>\n      <th></th>\n      <th></th>\n      <th></th>\n      <th></th>\n      <th></th>\n      <th></th>\n      <th></th>\n      <th></th>\n      <th></th>\n      <th></th>\n      <th></th>\n      <th></th>\n      <th></th>\n      <th></th>\n      <th></th>\n      <th></th>\n      <th></th>\n      <th></th>\n    </tr>\n  </thead>\n  <tbody>\n    <tr>\n      <th>1990</th>\n      <td>75.43</td>\n      <td>2.47</td>\n      <td>66.66</td>\n      <td>2.37</td>\n      <td>65.67</td>\n      <td>2.37</td>\n      <td>64.69</td>\n      <td>2.37</td>\n      <td>63.70</td>\n      <td>2.36</td>\n      <td>...</td>\n      <td>NaN</td>\n      <td>NaN</td>\n      <td>NaN</td>\n      <td>NaN</td>\n      <td>NaN</td>\n      <td>NaN</td>\n      <td>NaN</td>\n      <td>NaN</td>\n      <td>NaN</td>\n      <td>NaN</td>\n    </tr>\n    <tr>\n      <th>1991</th>\n      <td>75.34</td>\n      <td>2.68</td>\n      <td>66.56</td>\n      <td>2.60</td>\n      <td>65.57</td>\n      <td>2.60</td>\n      <td>64.59</td>\n      <td>2.59</td>\n      <td>63.60</td>\n      <td>2.60</td>\n      <td>...</td>\n      <td>NaN</td>\n      <td>NaN</td>\n      <td>NaN</td>\n      <td>NaN</td>\n      <td>NaN</td>\n      <td>NaN</td>\n      <td>NaN</td>\n      <td>NaN</td>\n      <td>NaN</td>\n      <td>NaN</td>\n    </tr>\n    <tr>\n      <th>1992</th>\n      <td>75.37</td>\n      <td>2.83</td>\n      <td>66.57</td>\n      <td>2.76</td>\n      <td>65.59</td>\n      <td>2.75</td>\n      <td>64.60</td>\n      <td>2.75</td>\n      <td>63.61</td>\n      <td>2.75</td>\n      <td>...</td>\n      <td>NaN</td>\n      <td>NaN</td>\n      <td>NaN</td>\n      <td>NaN</td>\n      <td>NaN</td>\n      <td>NaN</td>\n      <td>NaN</td>\n      <td>NaN</td>\n      <td>NaN</td>\n      <td>NaN</td>\n    </tr>\n    <tr>\n      <th>1993</th>\n      <td>75.71</td>\n      <td>2.60</td>\n      <td>66.90</td>\n      <td>2.55</td>\n      <td>65.91</td>\n      <td>2.55</td>\n      <td>64.92</td>\n      <td>2.54</td>\n      <td>63.93</td>\n      <td>2.54</td>\n      <td>...</td>\n      <td>NaN</td>\n      <td>NaN</td>\n      <td>NaN</td>\n      <td>NaN</td>\n      <td>NaN</td>\n      <td>NaN</td>\n      <td>NaN</td>\n      <td>NaN</td>\n      <td>NaN</td>\n      <td>NaN</td>\n    </tr>\n    <tr>\n      <th>1994</th>\n      <td>76.06</td>\n      <td>2.66</td>\n      <td>67.24</td>\n      <td>2.60</td>\n      <td>66.25</td>\n      <td>2.60</td>\n      <td>65.27</td>\n      <td>2.60</td>\n      <td>64.28</td>\n      <td>2.60</td>\n      <td>...</td>\n      <td>NaN</td>\n      <td>NaN</td>\n      <td>NaN</td>\n      <td>NaN</td>\n      <td>NaN</td>\n      <td>NaN</td>\n      <td>NaN</td>\n      <td>NaN</td>\n      <td>NaN</td>\n      <td>NaN</td>\n    </tr>\n    <tr>\n      <th>1995</th>\n      <td>75.93</td>\n      <td>2.88</td>\n      <td>67.11</td>\n      <td>2.81</td>\n      <td>66.12</td>\n      <td>2.81</td>\n      <td>65.14</td>\n      <td>2.80</td>\n      <td>64.15</td>\n      <td>2.80</td>\n      <td>...</td>\n      <td>NaN</td>\n      <td>NaN</td>\n      <td>NaN</td>\n      <td>NaN</td>\n      <td>NaN</td>\n      <td>NaN</td>\n      <td>NaN</td>\n      <td>NaN</td>\n      <td>NaN</td>\n      <td>NaN</td>\n    </tr>\n    <tr>\n      <th>1996</th>\n      <td>76.18</td>\n      <td>2.81</td>\n      <td>67.36</td>\n      <td>2.75</td>\n      <td>66.37</td>\n      <td>2.74</td>\n      <td>65.38</td>\n      <td>2.74</td>\n      <td>64.39</td>\n      <td>2.73</td>\n      <td>...</td>\n      <td>NaN</td>\n      <td>NaN</td>\n      <td>NaN</td>\n      <td>NaN</td>\n      <td>NaN</td>\n      <td>NaN</td>\n      <td>NaN</td>\n      <td>NaN</td>\n      <td>NaN</td>\n      <td>NaN</td>\n    </tr>\n    <tr>\n      <th>1997</th>\n      <td>76.49</td>\n      <td>2.72</td>\n      <td>67.66</td>\n      <td>2.67</td>\n      <td>66.67</td>\n      <td>2.67</td>\n      <td>65.68</td>\n      <td>2.67</td>\n      <td>64.69</td>\n      <td>2.66</td>\n      <td>...</td>\n      <td>NaN</td>\n      <td>NaN</td>\n      <td>NaN</td>\n      <td>NaN</td>\n      <td>NaN</td>\n      <td>NaN</td>\n      <td>NaN</td>\n      <td>NaN</td>\n      <td>NaN</td>\n      <td>NaN</td>\n    </tr>\n    <tr>\n      <th>1998</th>\n      <td>76.65</td>\n      <td>2.70</td>\n      <td>67.80</td>\n      <td>2.66</td>\n      <td>66.81</td>\n      <td>2.65</td>\n      <td>65.82</td>\n      <td>2.65</td>\n      <td>64.84</td>\n      <td>2.65</td>\n      <td>...</td>\n      <td>NaN</td>\n      <td>NaN</td>\n      <td>NaN</td>\n      <td>NaN</td>\n      <td>NaN</td>\n      <td>NaN</td>\n      <td>NaN</td>\n      <td>NaN</td>\n      <td>NaN</td>\n      <td>NaN</td>\n    </tr>\n    <tr>\n      <th>1999</th>\n      <td>76.90</td>\n      <td>2.46</td>\n      <td>68.04</td>\n      <td>2.42</td>\n      <td>67.05</td>\n      <td>2.42</td>\n      <td>66.06</td>\n      <td>2.42</td>\n      <td>65.07</td>\n      <td>2.42</td>\n      <td>...</td>\n      <td>NaN</td>\n      <td>NaN</td>\n      <td>NaN</td>\n      <td>NaN</td>\n      <td>NaN</td>\n      <td>NaN</td>\n      <td>NaN</td>\n      <td>NaN</td>\n      <td>NaN</td>\n      <td>NaN</td>\n    </tr>\n    <tr>\n      <th>2000</th>\n      <td>77.18</td>\n      <td>2.40</td>\n      <td>68.31</td>\n      <td>2.37</td>\n      <td>67.32</td>\n      <td>2.37</td>\n      <td>66.33</td>\n      <td>2.37</td>\n      <td>65.34</td>\n      <td>2.37</td>\n      <td>...</td>\n      <td>NaN</td>\n      <td>NaN</td>\n      <td>NaN</td>\n      <td>NaN</td>\n      <td>NaN</td>\n      <td>NaN</td>\n      <td>1725.00</td>\n      <td>1674.76</td>\n      <td>17.06</td>\n      <td>7.83</td>\n    </tr>\n    <tr>\n      <th>2001</th>\n      <td>77.61</td>\n      <td>2.38</td>\n      <td>68.73</td>\n      <td>2.35</td>\n      <td>67.74</td>\n      <td>2.34</td>\n      <td>66.75</td>\n      <td>2.34</td>\n      <td>65.76</td>\n      <td>2.34</td>\n      <td>...</td>\n      <td>NaN</td>\n      <td>NaN</td>\n      <td>NaN</td>\n      <td>NaN</td>\n      <td>NaN</td>\n      <td>NaN</td>\n      <td>1684.38</td>\n      <td>1639.02</td>\n      <td>18.92</td>\n      <td>7.95</td>\n    </tr>\n    <tr>\n      <th>2002</th>\n      <td>77.54</td>\n      <td>2.32</td>\n      <td>68.67</td>\n      <td>2.30</td>\n      <td>67.68</td>\n      <td>2.30</td>\n      <td>66.68</td>\n      <td>2.30</td>\n      <td>65.69</td>\n      <td>2.29</td>\n      <td>...</td>\n      <td>NaN</td>\n      <td>NaN</td>\n      <td>NaN</td>\n      <td>NaN</td>\n      <td>NaN</td>\n      <td>NaN</td>\n      <td>1805.47</td>\n      <td>1561.00</td>\n      <td>19.74</td>\n      <td>8.10</td>\n    </tr>\n    <tr>\n      <th>2003</th>\n      <td>77.57</td>\n      <td>2.28</td>\n      <td>68.69</td>\n      <td>2.26</td>\n      <td>67.70</td>\n      <td>2.26</td>\n      <td>66.71</td>\n      <td>2.26</td>\n      <td>65.72</td>\n      <td>2.25</td>\n      <td>...</td>\n      <td>NaN</td>\n      <td>NaN</td>\n      <td>NaN</td>\n      <td>NaN</td>\n      <td>NaN</td>\n      <td>NaN</td>\n      <td>1805.66</td>\n      <td>1575.00</td>\n      <td>20.35</td>\n      <td>8.10</td>\n    </tr>\n    <tr>\n      <th>2004</th>\n      <td>77.96</td>\n      <td>2.55</td>\n      <td>69.07</td>\n      <td>2.51</td>\n      <td>68.08</td>\n      <td>2.52</td>\n      <td>67.09</td>\n      <td>2.52</td>\n      <td>66.10</td>\n      <td>2.51</td>\n      <td>...</td>\n      <td>35.02</td>\n      <td>13.68</td>\n      <td>45.09</td>\n      <td>12.66</td>\n      <td>20.83</td>\n      <td>8.07</td>\n      <td>1853.44</td>\n      <td>1572.18</td>\n      <td>20.65</td>\n      <td>8.64</td>\n    </tr>\n    <tr>\n      <th>2005</th>\n      <td>78.03</td>\n      <td>2.59</td>\n      <td>69.16</td>\n      <td>2.55</td>\n      <td>68.17</td>\n      <td>2.55</td>\n      <td>67.17</td>\n      <td>2.55</td>\n      <td>66.18</td>\n      <td>2.55</td>\n      <td>...</td>\n      <td>33.76</td>\n      <td>12.84</td>\n      <td>45.46</td>\n      <td>12.20</td>\n      <td>21.61</td>\n      <td>8.02</td>\n      <td>1860.86</td>\n      <td>1586.60</td>\n      <td>21.41</td>\n      <td>8.89</td>\n    </tr>\n    <tr>\n      <th>2006</th>\n      <td>78.45</td>\n      <td>2.65</td>\n      <td>69.56</td>\n      <td>2.62</td>\n      <td>68.57</td>\n      <td>2.62</td>\n      <td>67.57</td>\n      <td>2.62</td>\n      <td>66.58</td>\n      <td>2.62</td>\n      <td>...</td>\n      <td>33.95</td>\n      <td>12.56</td>\n      <td>45.55</td>\n      <td>11.80</td>\n      <td>21.98</td>\n      <td>8.06</td>\n      <td>1861.35</td>\n      <td>1596.65</td>\n      <td>22.55</td>\n      <td>9.28</td>\n    </tr>\n    <tr>\n      <th>2007</th>\n      <td>78.62</td>\n      <td>2.63</td>\n      <td>69.73</td>\n      <td>2.60</td>\n      <td>68.74</td>\n      <td>2.60</td>\n      <td>67.75</td>\n      <td>2.60</td>\n      <td>66.75</td>\n      <td>2.60</td>\n      <td>...</td>\n      <td>33.46</td>\n      <td>12.99</td>\n      <td>45.63</td>\n      <td>12.36</td>\n      <td>22.36</td>\n      <td>8.35</td>\n      <td>1851.65</td>\n      <td>1596.66</td>\n      <td>23.94</td>\n      <td>9.63</td>\n    </tr>\n    <tr>\n      <th>2008</th>\n      <td>78.81</td>\n      <td>2.54</td>\n      <td>69.92</td>\n      <td>2.52</td>\n      <td>68.92</td>\n      <td>2.52</td>\n      <td>67.94</td>\n      <td>2.52</td>\n      <td>66.94</td>\n      <td>2.51</td>\n      <td>...</td>\n      <td>33.03</td>\n      <td>13.00</td>\n      <td>45.47</td>\n      <td>12.18</td>\n      <td>22.88</td>\n      <td>8.25</td>\n      <td>1809.92</td>\n      <td>1593.04</td>\n      <td>24.97</td>\n      <td>9.73</td>\n    </tr>\n    <tr>\n      <th>2009</th>\n      <td>78.81</td>\n      <td>2.57</td>\n      <td>69.94</td>\n      <td>2.52</td>\n      <td>68.95</td>\n      <td>2.51</td>\n      <td>67.96</td>\n      <td>2.51</td>\n      <td>66.97</td>\n      <td>2.50</td>\n      <td>...</td>\n      <td>36.27</td>\n      <td>17.40</td>\n      <td>42.64</td>\n      <td>14.22</td>\n      <td>22.44</td>\n      <td>9.28</td>\n      <td>1917.53</td>\n      <td>1697.86</td>\n      <td>22.13</td>\n      <td>9.82</td>\n    </tr>\n    <tr>\n      <th>2010</th>\n      <td>79.10</td>\n      <td>2.54</td>\n      <td>70.23</td>\n      <td>2.49</td>\n      <td>69.24</td>\n      <td>2.48</td>\n      <td>68.25</td>\n      <td>2.48</td>\n      <td>67.25</td>\n      <td>2.48</td>\n      <td>...</td>\n      <td>35.54</td>\n      <td>17.42</td>\n      <td>42.74</td>\n      <td>14.08</td>\n      <td>22.87</td>\n      <td>9.17</td>\n      <td>1919.90</td>\n      <td>1715.58</td>\n      <td>22.97</td>\n      <td>10.14</td>\n    </tr>\n    <tr>\n      <th>2011</th>\n      <td>79.37</td>\n      <td>2.47</td>\n      <td>70.50</td>\n      <td>2.42</td>\n      <td>69.50</td>\n      <td>2.42</td>\n      <td>68.51</td>\n      <td>2.41</td>\n      <td>67.52</td>\n      <td>2.42</td>\n      <td>...</td>\n      <td>34.64</td>\n      <td>17.49</td>\n      <td>41.99</td>\n      <td>13.99</td>\n      <td>24.30</td>\n      <td>10.56</td>\n      <td>1926.71</td>\n      <td>1724.17</td>\n      <td>23.62</td>\n      <td>10.33</td>\n    </tr>\n    <tr>\n      <th>2012</th>\n      <td>79.46</td>\n      <td>2.35</td>\n      <td>70.57</td>\n      <td>2.32</td>\n      <td>69.57</td>\n      <td>2.32</td>\n      <td>68.58</td>\n      <td>2.32</td>\n      <td>67.58</td>\n      <td>2.31</td>\n      <td>...</td>\n      <td>32.22</td>\n      <td>14.91</td>\n      <td>43.33</td>\n      <td>12.37</td>\n      <td>26.00</td>\n      <td>10.11</td>\n      <td>1916.58</td>\n      <td>1740.95</td>\n      <td>24.01</td>\n      <td>10.33</td>\n    </tr>\n    <tr>\n      <th>2013</th>\n      <td>79.72</td>\n      <td>2.32</td>\n      <td>70.83</td>\n      <td>2.29</td>\n      <td>69.83</td>\n      <td>2.29</td>\n      <td>68.84</td>\n      <td>2.29</td>\n      <td>67.84</td>\n      <td>2.28</td>\n      <td>...</td>\n      <td>30.97</td>\n      <td>15.19</td>\n      <td>43.49</td>\n      <td>12.48</td>\n      <td>27.09</td>\n      <td>10.89</td>\n      <td>1931.21</td>\n      <td>1735.83</td>\n      <td>24.06</td>\n      <td>10.45</td>\n    </tr>\n    <tr>\n      <th>2014</th>\n      <td>79.99</td>\n      <td>2.41</td>\n      <td>71.09</td>\n      <td>2.38</td>\n      <td>70.09</td>\n      <td>2.38</td>\n      <td>69.10</td>\n      <td>2.38</td>\n      <td>68.11</td>\n      <td>2.38</td>\n      <td>...</td>\n      <td>30.05</td>\n      <td>14.89</td>\n      <td>43.43</td>\n      <td>12.69</td>\n      <td>27.99</td>\n      <td>11.19</td>\n      <td>1928.00</td>\n      <td>1735.38</td>\n      <td>24.68</td>\n      <td>10.58</td>\n    </tr>\n    <tr>\n      <th>2015</th>\n      <td>79.75</td>\n      <td>2.33</td>\n      <td>70.84</td>\n      <td>2.30</td>\n      <td>69.85</td>\n      <td>2.30</td>\n      <td>68.86</td>\n      <td>2.29</td>\n      <td>67.87</td>\n      <td>2.29</td>\n      <td>...</td>\n      <td>29.55</td>\n      <td>14.49</td>\n      <td>43.51</td>\n      <td>12.30</td>\n      <td>28.35</td>\n      <td>11.09</td>\n      <td>1940.89</td>\n      <td>1748.35</td>\n      <td>25.43</td>\n      <td>10.64</td>\n    </tr>\n    <tr>\n      <th>2016</th>\n      <td>80.05</td>\n      <td>2.36</td>\n      <td>71.14</td>\n      <td>2.33</td>\n      <td>70.15</td>\n      <td>2.33</td>\n      <td>69.16</td>\n      <td>2.33</td>\n      <td>68.16</td>\n      <td>2.33</td>\n      <td>...</td>\n      <td>29.75</td>\n      <td>14.94</td>\n      <td>42.84</td>\n      <td>12.49</td>\n      <td>28.89</td>\n      <td>11.43</td>\n      <td>1944.02</td>\n      <td>1755.80</td>\n      <td>25.79</td>\n      <td>10.74</td>\n    </tr>\n    <tr>\n      <th>2017</th>\n      <td>79.98</td>\n      <td>2.41</td>\n      <td>71.07</td>\n      <td>2.38</td>\n      <td>70.08</td>\n      <td>2.38</td>\n      <td>69.08</td>\n      <td>2.38</td>\n      <td>68.09</td>\n      <td>2.38</td>\n      <td>...</td>\n      <td>29.44</td>\n      <td>13.85</td>\n      <td>42.44</td>\n      <td>11.70</td>\n      <td>29.65</td>\n      <td>11.59</td>\n      <td>1946.11</td>\n      <td>1757.58</td>\n      <td>26.58</td>\n      <td>11.19</td>\n    </tr>\n    <tr>\n      <th>2018</th>\n      <td>80.08</td>\n      <td>2.44</td>\n      <td>71.17</td>\n      <td>2.41</td>\n      <td>70.18</td>\n      <td>2.41</td>\n      <td>69.19</td>\n      <td>2.41</td>\n      <td>68.19</td>\n      <td>2.41</td>\n      <td>...</td>\n      <td>29.12</td>\n      <td>13.83</td>\n      <td>42.20</td>\n      <td>11.50</td>\n      <td>30.39</td>\n      <td>11.82</td>\n      <td>1958.69</td>\n      <td>1767.42</td>\n      <td>27.42</td>\n      <td>11.60</td>\n    </tr>\n    <tr>\n      <th>2019</th>\n      <td>80.26</td>\n      <td>2.54</td>\n      <td>71.35</td>\n      <td>2.51</td>\n      <td>70.36</td>\n      <td>2.51</td>\n      <td>69.37</td>\n      <td>2.51</td>\n      <td>68.37</td>\n      <td>2.51</td>\n      <td>...</td>\n      <td>30.57</td>\n      <td>14.24</td>\n      <td>42.40</td>\n      <td>11.79</td>\n      <td>28.70</td>\n      <td>10.19</td>\n      <td>1992.44</td>\n      <td>1790.33</td>\n      <td>27.85</td>\n      <td>11.83</td>\n    </tr>\n  </tbody>\n</table>\n<p>30 rows × 184 columns</p>\n</div>"
     },
     "metadata": {},
     "execution_count": 32
    }
   ],
   "source": [
    "ds.groupby('time').agg(['mean','std']).round(2)"
   ]
  },
  {
   "cell_type": "markdown",
   "metadata": {},
   "source": [
    "## We now create a widget that allows us to plot all columns against each other"
   ]
  },
  {
   "cell_type": "code",
   "execution_count": 33,
   "metadata": {
    "scrolled": true
   },
   "outputs": [
    {
     "output_type": "display_data",
     "data": {
      "text/plain": "interactive(children=(IntSlider(value=2004, description='year', max=2019, min=1990), Dropdown(description='x_a…",
      "application/vnd.jupyter.widget-view+json": {
       "version_major": 2,
       "version_minor": 0,
       "model_id": "3166a35047c74021800a533184fd4795"
      }
     },
     "metadata": {}
    }
   ],
   "source": [
    "# variables not to plot\n",
    "ex = ['time', 'geo']\n",
    "\n",
    "# variables to plot\n",
    "var_list = [element for element in ds.columns if element not in ex]\n",
    "def series(year, x_axis = 'gdp_pc', y_axis = 'Y_1'):\n",
    "    '''\n",
    "    A function that scatters the chosen variables within the data set.\n",
    "    scaled such that a larger dots represents a larger population.\n",
    "    '''\n",
    "    \n",
    "    for i in range(year):\n",
    "        # slicing the data set by year for the slider\n",
    "        ds_ = ds[ds['time'] == i ]\n",
    "        # the x and y axis of choice\n",
    "        x=ds_[str(x_axis)]\n",
    "        y=ds_[str(y_axis)]\n",
    "        # scaling the dots\n",
    "        population = ds_['pop']/100\n",
    "    plt.scatter(x,y,s=population )\n",
    "    plt.xlabel(str(x_axis))\n",
    "    plt.ylabel(str(y_axis))\n",
    "    plt.title(f' The relationship between {x_axis} and {y_axis}',loc='center')\n",
    "    return()\n",
    "interact(series, year=(min(list(ds['time'])),max(list(ds['time'])),1), x_axis=var_list, y_axis=var_list);"
   ]
  },
  {
   "cell_type": "markdown",
   "metadata": {},
   "source": [
    "We can see that when plotting GDP per capita against life expectancy, we find a positive relationship between the two. Based on this graphical analysis we confirm that the Preston Curve also exists across regions within the EU. The relationship between GDP per capita and education, as well as between education and life expectancy is less clear. Still, when considering the percentage of the population who attained education levels equivalent to at least some form of tertiary education (levels 5-8), we find a positive relationship between education and life expectancy as well as between GDP per capita and education."
   ]
  },
  {
   "source": [
    "## We can also present the relationship with regression lines of various orders"
   ],
   "cell_type": "markdown",
   "metadata": {}
  },
  {
   "cell_type": "code",
   "execution_count": 34,
   "metadata": {},
   "outputs": [
    {
     "output_type": "display_data",
     "data": {
      "text/plain": "interactive(children=(IntSlider(value=2004, description='year', max=2019, min=1990), IntSlider(value=2, descri…",
      "application/vnd.jupyter.widget-view+json": {
       "version_major": 2,
       "version_minor": 0,
       "model_id": "4c5818ad9bfb452b87b276210927774e"
      }
     },
     "metadata": {}
    }
   ],
   "source": [
    "# variables not to plot\n",
    "ex = ['time', 'geo']\n",
    "\n",
    "# variables to plot\n",
    "var_list = [element for element in ds.columns if element not in ex]\n",
    "def series2(year, order, x_axis = 'gdp_pc', y_axis = 'Y1'):\n",
    "    '''\n",
    "    A function that plots regression lines \n",
    "    for the chosen variables and at a chosen order of polynomial\n",
    "    for a chosen year\n",
    "    '''\n",
    "    for i in range(year):\n",
    "        #slicing the data set by year for the slider\n",
    "        ds_ = ds[ds['time'] == i ]\n",
    "        # the x and y axis of choice\n",
    "        x=ds_[str(x_axis)]\n",
    "        y=ds_[str(y_axis)]\n",
    "        population = ds_['pop']/100\n",
    "    for o in range(order):\n",
    "        #plotting regression at the chosen order polynomial\n",
    "        sns.regplot(x=x, y=y, data=ds_,\n",
    "                 scatter_kws={\"s\": 80},\n",
    "                    order=o, ci=None).set_title(f'polynomial fits between {x_axis} and {y_axis}')\n",
    "    return()\n",
    "interact(series2, year=(min(list(ds['time'])),max(list(ds['time'])),1), order=(0,5,1), x_axis=var_list, y_axis=var_list);\n",
    "\n",
    "\n"
   ]
  },
  {
   "cell_type": "markdown",
   "metadata": {},
   "source": [
    "We see that some of the variation is better explained with higher order regressions. Therefore we run two regressions, one linear and one polynomial. For life expectancy at birth with GDP per capita and with share of highly educated as well as for the share of highly educated and GDP per capita."
   ]
  },
  {
   "cell_type": "code",
   "execution_count": 35,
   "metadata": {
    "scrolled": true
   },
   "outputs": [
    {
     "output_type": "stream",
     "name": "stdout",
     "text": [
      "                            OLS Regression Results                            \n==============================================================================\nDep. Variable:                     Y1   R-squared:                       0.330\nModel:                            OLS   Adj. R-squared:                  0.330\nMethod:                 Least Squares   F-statistic:                     1841.\nDate:                Sun, 11 Apr 2021   Prob (F-statistic):               0.00\nTime:                        11:43:26   Log-Likelihood:                -8212.4\nNo. Observations:                3739   AIC:                         1.643e+04\nDf Residuals:                    3737   BIC:                         1.644e+04\nDf Model:                           1                                         \nCovariance Type:            nonrobust                                         \n==============================================================================\n                 coef    std err          t      P>|t|      [0.025      0.975]\n------------------------------------------------------------------------------\nIntercept     75.5424      0.090    836.463      0.000      75.365      75.719\ngdp_pc         0.1450      0.003     42.902      0.000       0.138       0.152\n==============================================================================\nOmnibus:                       89.216   Durbin-Watson:                   0.200\nProb(Omnibus):                  0.000   Jarque-Bera (JB):               92.519\nSkew:                          -0.370   Prob(JB):                     8.12e-21\nKurtosis:                       2.783   Cond. No.                         67.9\n==============================================================================\n\nNotes:\n[1] Standard Errors assume that the covariance matrix of the errors is correctly specified.\n                            OLS Regression Results                            \n==============================================================================\nDep. Variable:                     Y1   R-squared:                       0.474\nModel:                            OLS   Adj. R-squared:                  0.474\nMethod:                 Least Squares   F-statistic:                     1687.\nDate:                Sun, 11 Apr 2021   Prob (F-statistic):               0.00\nTime:                        11:43:26   Log-Likelihood:                -7758.3\nNo. Observations:                3739   AIC:                         1.552e+04\nDf Residuals:                    3736   BIC:                         1.554e+04\nDf Model:                           2                                         \nCovariance Type:            nonrobust                                         \n==============================================================================\n                 coef    std err          t      P>|t|      [0.025      0.975]\n------------------------------------------------------------------------------\nIntercept     71.6346      0.146    491.211      0.000      71.349      71.920\ngdp_pc         0.4604      0.010     44.755      0.000       0.440       0.481\ngdp_pc_sq     -0.0054      0.000    -32.049      0.000      -0.006      -0.005\n==============================================================================\nOmnibus:                        5.367   Durbin-Watson:                   0.211\nProb(Omnibus):                  0.068   Jarque-Bera (JB):                6.048\nSkew:                           0.016   Prob(JB):                       0.0486\nKurtosis:                       3.194   Cond. No.                     4.47e+03\n==============================================================================\n\nNotes:\n[1] Standard Errors assume that the covariance matrix of the errors is correctly specified.\n[2] The condition number is large, 4.47e+03. This might indicate that there are\nstrong multicollinearity or other numerical problems.\n                            OLS Regression Results                            \n==============================================================================\nDep. Variable:                     Y1   R-squared:                       0.090\nModel:                            OLS   Adj. R-squared:                  0.089\nMethod:                 Least Squares   F-statistic:                     368.3\nDate:                Sun, 11 Apr 2021   Prob (F-statistic):           2.25e-78\nTime:                        11:43:26   Log-Likelihood:                -8785.3\nNo. Observations:                3739   AIC:                         1.757e+04\nDf Residuals:                    3737   BIC:                         1.759e+04\nDf Model:                           1                                         \nCovariance Type:            nonrobust                                         \n==============================================================================\n                 coef    std err          t      P>|t|      [0.025      0.975]\n------------------------------------------------------------------------------\nIntercept     77.1220      0.111    693.159      0.000      76.904      77.340\nED5_8          0.0841      0.004     19.192      0.000       0.075       0.093\n==============================================================================\nOmnibus:                      202.975   Durbin-Watson:                   0.139\nProb(Omnibus):                  0.000   Jarque-Bera (JB):              236.933\nSkew:                          -0.617   Prob(JB):                     3.55e-52\nKurtosis:                       3.001   Cond. No.                         68.2\n==============================================================================\n\nNotes:\n[1] Standard Errors assume that the covariance matrix of the errors is correctly specified.\n                            OLS Regression Results                            \n==============================================================================\nDep. Variable:                     Y1   R-squared:                       0.109\nModel:                            OLS   Adj. R-squared:                  0.108\nMethod:                 Least Squares   F-statistic:                     228.2\nDate:                Sun, 11 Apr 2021   Prob (F-statistic):           3.25e-94\nTime:                        11:43:26   Log-Likelihood:                -8745.7\nNo. Observations:                3739   AIC:                         1.750e+04\nDf Residuals:                    3736   BIC:                         1.752e+04\nDf Model:                           2                                         \nCovariance Type:            nonrobust                                         \n==============================================================================\n                 coef    std err          t      P>|t|      [0.025      0.975]\n------------------------------------------------------------------------------\nIntercept     75.3448      0.227    331.946      0.000      74.900      75.790\nED5_8          0.2378      0.018     13.428      0.000       0.203       0.273\nED5_8_sq      -0.0029      0.000     -8.954      0.000      -0.003      -0.002\n==============================================================================\nOmnibus:                      163.711   Durbin-Watson:                   0.172\nProb(Omnibus):                  0.000   Jarque-Bera (JB):              185.120\nSkew:                          -0.544   Prob(JB):                     6.33e-41\nKurtosis:                       3.069   Cond. No.                     4.61e+03\n==============================================================================\n\nNotes:\n[1] Standard Errors assume that the covariance matrix of the errors is correctly specified.\n[2] The condition number is large, 4.61e+03. This might indicate that there are\nstrong multicollinearity or other numerical problems.\n                            OLS Regression Results                            \n==============================================================================\nDep. Variable:                  ED5_8   R-squared:                       0.312\nModel:                            OLS   Adj. R-squared:                  0.312\nMethod:                 Least Squares   F-statistic:                     1698.\nDate:                Sun, 11 Apr 2021   Prob (F-statistic):          2.27e-306\nTime:                        11:43:26   Log-Likelihood:                -13011.\nNo. Observations:                3739   AIC:                         2.603e+04\nDf Residuals:                    3737   BIC:                         2.604e+04\nDf Model:                           1                                         \nCovariance Type:            nonrobust                                         \n==============================================================================\n                 coef    std err          t      P>|t|      [0.025      0.975]\n------------------------------------------------------------------------------\nIntercept     11.2219      0.326     34.428      0.000      10.583      11.861\ngdp_pc         0.5026      0.012     41.211      0.000       0.479       0.526\n==============================================================================\nOmnibus:                      258.259   Durbin-Watson:                   1.826\nProb(Omnibus):                  0.000   Jarque-Bera (JB):              338.080\nSkew:                           0.620   Prob(JB):                     3.86e-74\nKurtosis:                       3.795   Cond. No.                         67.9\n==============================================================================\n\nNotes:\n[1] Standard Errors assume that the covariance matrix of the errors is correctly specified.\n                            OLS Regression Results                            \n==============================================================================\nDep. Variable:                  ED5_8   R-squared:                       0.313\nModel:                            OLS   Adj. R-squared:                  0.312\nMethod:                 Least Squares   F-statistic:                     850.5\nDate:                Sun, 11 Apr 2021   Prob (F-statistic):          4.10e-305\nTime:                        11:43:26   Log-Likelihood:                -13010.\nNo. Observations:                3739   AIC:                         2.603e+04\nDf Residuals:                    3736   BIC:                         2.605e+04\nDf Model:                           2                                         \nCovariance Type:            nonrobust                                         \n==============================================================================\n                 coef    std err          t      P>|t|      [0.025      0.975]\n------------------------------------------------------------------------------\nIntercept     10.5015      0.594     17.675      0.000       9.337      11.666\ngdp_pc         0.5607      0.042     13.380      0.000       0.479       0.643\ngdp_pc_sq     -0.0010      0.001     -1.450      0.147      -0.002       0.000\n==============================================================================\nOmnibus:                      255.927   Durbin-Watson:                   1.824\nProb(Omnibus):                  0.000   Jarque-Bera (JB):              335.868\nSkew:                           0.615   Prob(JB):                     1.17e-73\nKurtosis:                       3.803   Cond. No.                     4.47e+03\n==============================================================================\n\nNotes:\n[1] Standard Errors assume that the covariance matrix of the errors is correctly specified.\n[2] The condition number is large, 4.47e+03. This might indicate that there are\nstrong multicollinearity or other numerical problems.\n"
     ]
    }
   ],
   "source": [
    "# defining squared versions of the variables for the second order regressions\n",
    "ds['gdp_pc_sq'] = ds['gdp_pc']**2\n",
    "ds['ED5_8_sq'] = ds['ED5_8']**2\n",
    "\n",
    "# preparing the data for regression\n",
    "dfgg = ds.groupby(['Y1', 'gdp_pc', 'gdp_pc_sq', 'ED5_8']).mean().reset_index()\n",
    "\n",
    "\n",
    "# running the regressions\n",
    "\n",
    "reg1 = smf.ols('Y1 ~ gdp_pc',\n",
    "              dfgg).fit()\n",
    "\n",
    "reg2 = smf.ols('Y1 ~ gdp_pc + gdp_pc_sq',\n",
    "              dfgg).fit()\n",
    "\n",
    "reg3 = smf.ols('Y1 ~ ED5_8',\n",
    "              dfgg).fit()\n",
    "\n",
    "reg4 = smf.ols('Y1 ~ ED5_8 + ED5_8_sq',\n",
    "              dfgg).fit()\n",
    "\n",
    "reg5 = smf.ols('ED5_8 ~ gdp_pc',\n",
    "              dfgg).fit()\n",
    "\n",
    "reg6 = smf.ols('ED5_8 ~ gdp_pc + gdp_pc_sq',\n",
    "              dfgg).fit()\n",
    "\n",
    "# printing summaries \n",
    "print(reg1.summary())\n",
    "print(reg2.summary())\n",
    "print(reg3.summary())\n",
    "print(reg4.summary())\n",
    "print(reg5.summary())\n",
    "print(reg6.summary())\n",
    "\n"
   ]
  },
  {
   "cell_type": "code",
   "execution_count": 36,
   "metadata": {},
   "outputs": [
    {
     "output_type": "stream",
     "name": "stdout",
     "text": [
      "Life expectancy and GDP pc \n\nParameters for the single linear regression: \nIntercept    75.542425\ngdp_pc        0.144959\ndtype: float64\nThe r sqared:\n0.3300003543723605\nThe coefficient of interest for the polynomial regression:\nIntercept    71.634577\ngdp_pc        0.460355\ngdp_pc_sq    -0.005375\ndtype: float64\nThe r sqared:\n0.4744792205185293\n\n\nLife expectancy and education \n\nParameters for the single linear regression: \nIntercept    77.122011\nED5_8         0.084072\ndtype: float64\nThe r sqared:\n0.08972424758313513\nThe coefficient of interest for the polynomial regression:\nIntercept    75.344835\nED5_8         0.237838\nED5_8_sq     -0.002862\ndtype: float64\nThe r sqared:\n0.10884657429283817\n\n\nEducation and GDP pc \n\nParameters for the single linear regression: \nIntercept    77.122011\nED5_8         0.084072\ndtype: float64\nThe r sqared:\n0.3124630696593551\nThe coefficient of interest for the polynomial regression:\nIntercept    10.501491\ngdp_pc        0.560705\ngdp_pc_sq    -0.000991\ndtype: float64\nThe r sqared:\n0.3128498343554382\n"
     ]
    }
   ],
   "source": [
    "print(f'Life expectancy and GDP pc \\n\\nParameters for the single linear regression: \\n{reg1.params}')\n",
    "print(f'The r sqared:\\n{reg1.rsquared}')\n",
    "\n",
    "print(f'The coefficient of interest for the polynomial regression:\\n{reg2.params}')\n",
    "print(f'The r sqared:\\n{reg2.rsquared}')\n",
    "\n",
    "print(f'\\n\\nLife expectancy and education \\n\\nParameters for the single linear regression: \\n{reg3.params}')\n",
    "print(f'The r sqared:\\n{reg3.rsquared}')\n",
    "\n",
    "print(f'The coefficient of interest for the polynomial regression:\\n{reg4.params}')\n",
    "print(f'The r sqared:\\n{reg4.rsquared}')\n",
    "\n",
    "print(f'\\n\\nEducation and GDP pc \\n\\nParameters for the single linear regression: \\n{reg3.params}')\n",
    "print(f'The r sqared:\\n{reg5.rsquared}')\n",
    "\n",
    "print(f'The coefficient of interest for the polynomial regression:\\n{reg6.params}')\n",
    "print(f'The r sqared:\\n{reg6.rsquared}')\n"
   ]
  },
  {
   "cell_type": "markdown",
   "metadata": {},
   "source": [
    "# Conclusion"
   ]
  },
  {
   "cell_type": "markdown",
   "metadata": {},
   "source": [
    "This assignment sought to explore the relationship between life expectancy and real GDP per capita, life expectancy and education, as well as education and GDP per capita, using cross-sectional data on different regions within European countries drawn from the database Eurostat. \n",
    "\n",
    "We use four different data sets: One on life expectancy, one on GDP, one on population, and one on education level.\n",
    "\n",
    "Then then merge the datasets and calculate real GDP per capita.\n",
    "\n",
    "We found that it was indeed possible to find the Preston Curve within Europe using the aforementioned data; both graphically as well as by running regressions. We find significant and positive coefficients on GDP per capita and GDP per capita squared. However, we should also be concerned with confounding variables and omitted variable bias which could break down the causality analysis. \n",
    "\n",
    "We use life expectancy as a proxy for health such that we can show a prositive relationship between health and GDP per capita. However, one could argue that the causality direction is reverse such that better health as proxied by life expectancy causes higher incomes because a healthier population on average tends to be more productive than does a less healthy population. Better health may also influence GDP per capita through its effect on education. This is plausible as we find positive and significant estimate on education when this is regressed on GDP per capita – both linearly and squared. Hence, we cannot draw a clear conlcusion on the direction of causality."
   ]
  },
  {
   "cell_type": "markdown",
   "metadata": {},
   "source": []
  }
 ],
 "metadata": {
  "kernelspec": {
   "name": "python385jvsc74a57bd052b4f823554eea2391ab47528c92d46b9f188a8846f70b6808c61b59e6bbd741",
   "display_name": "Python 3.8.5 64-bit ('base': conda)"
  },
  "language_info": {
   "codemirror_mode": {
    "name": "ipython",
    "version": 3
   },
   "file_extension": ".py",
   "mimetype": "text/x-python",
   "name": "python",
   "nbconvert_exporter": "python",
   "pygments_lexer": "ipython3",
   "version": "3.8.5"
  },
  "toc-autonumbering": true
 },
 "nbformat": 4,
 "nbformat_minor": 4
}